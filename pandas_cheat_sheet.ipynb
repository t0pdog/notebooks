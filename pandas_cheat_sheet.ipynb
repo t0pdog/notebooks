{
 "cells": [
  {
   "cell_type": "markdown",
   "metadata": {},
   "source": [
    "### Pandas cheat sheet.\n",
    " 1. Working with data structures: Series and Dataframes. \n",
    " 2. Creating Dataframes and loading data. \n",
    " 3. Data exploration and filtering. \n",
    " 4. Using the Query Language. \n",
    " 5. Calculating derivative metrics. \n",
    " 6. Combining Dataframes. \n",
    " 7. Cohort data analysis and work with time series."
   ]
  },
  {
   "cell_type": "code",
   "execution_count": 2,
   "metadata": {},
   "outputs": [],
   "source": [
    "import pandas as pd\n",
    "import numpy as np"
   ]
  },
  {
   "cell_type": "markdown",
   "metadata": {},
   "source": [
    "A Pandas Series is like a column in a table.\n",
    "It is a one-dimensional array holding data of any type."
   ]
  },
  {
   "cell_type": "code",
   "execution_count": 2,
   "metadata": {},
   "outputs": [
    {
     "data": {
      "text/plain": [
       "0    4\n",
       "2    3\n",
       "3    4\n",
       "dtype: int32"
      ]
     },
     "execution_count": 2,
     "metadata": {},
     "output_type": "execute_result"
    }
   ],
   "source": [
    "# Let's create a simple Series\n",
    "s = pd.Series(np.random.randint(5, size=(4)))\n",
    "# фильтрация Series\n",
    "s[ s >= 3 ]\n",
    "# if we want to filter all values by function, then we use the lambda function\n",
    "s.loc[lambda x: x>= 3]"
   ]
  },
  {
   "cell_type": "code",
   "execution_count": 10,
   "metadata": {},
   "outputs": [
    {
     "data": {
      "text/plain": [
       "jan    6\n",
       "feb    6\n",
       "mar    5\n",
       "apr    3\n",
       "dtype: int32"
      ]
     },
     "execution_count": 10,
     "metadata": {},
     "output_type": "execute_result"
    }
   ],
   "source": [
    "# you can set up non-numeric indexes for Series\n",
    "months = ['jan', 'feb', 'mar', 'apr']\n",
    "s = pd.Series(np.random.randint(8, size=(4)), index=months)\n",
    "s"
   ]
  },
  {
   "attachments": {},
   "cell_type": "markdown",
   "metadata": {},
   "source": [
    "A pandas DataFrame can be thought of as an empty array with column labels and additional data types.\n",
    "Each column in the DataFrame is represented as a Series object, which is a one-dimensional array with an index labeling each element. An index can be either numeric or non-numeric (such as dates, strings, or categorical variables). Rows in a DataFrame are also indexed, usually with integers starting at 0. To access elements in a DataFrame, you can use the loc accessor, which allows you to select rows and columns based on their labels. The syntax of loc is slightly different from normal indexing in numpy or Python, as it uses square brackets and accepts boolean expressions as arguments."
   ]
  },
  {
   "cell_type": "code",
   "execution_count": 11,
   "metadata": {},
   "outputs": [
    {
     "data": {
      "text/html": [
       "<div>\n",
       "<style scoped>\n",
       "    .dataframe tbody tr th:only-of-type {\n",
       "        vertical-align: middle;\n",
       "    }\n",
       "\n",
       "    .dataframe tbody tr th {\n",
       "        vertical-align: top;\n",
       "    }\n",
       "\n",
       "    .dataframe thead th {\n",
       "        text-align: right;\n",
       "    }\n",
       "</style>\n",
       "<table border=\"1\" class=\"dataframe\">\n",
       "  <thead>\n",
       "    <tr style=\"text-align: right;\">\n",
       "      <th></th>\n",
       "      <th>revenue</th>\n",
       "      <th>items_sold</th>\n",
       "      <th>new_clients</th>\n",
       "    </tr>\n",
       "  </thead>\n",
       "  <tbody>\n",
       "    <tr>\n",
       "      <th>jan</th>\n",
       "      <td>100</td>\n",
       "      <td>23</td>\n",
       "      <td>10</td>\n",
       "    </tr>\n",
       "    <tr>\n",
       "      <th>feb</th>\n",
       "      <td>200</td>\n",
       "      <td>43</td>\n",
       "      <td>20</td>\n",
       "    </tr>\n",
       "    <tr>\n",
       "      <th>mar</th>\n",
       "      <td>300</td>\n",
       "      <td>55</td>\n",
       "      <td>30</td>\n",
       "    </tr>\n",
       "    <tr>\n",
       "      <th>apr</th>\n",
       "      <td>400</td>\n",
       "      <td>65</td>\n",
       "      <td>40</td>\n",
       "    </tr>\n",
       "  </tbody>\n",
       "</table>\n",
       "</div>"
      ],
      "text/plain": [
       "     revenue  items_sold  new_clients\n",
       "jan      100          23           10\n",
       "feb      200          43           20\n",
       "mar      300          55           30\n",
       "apr      400          65           40"
      ]
     },
     "execution_count": 11,
     "metadata": {},
     "output_type": "execute_result"
    }
   ],
   "source": [
    "months = ['jan', 'feb', 'mar', 'apr']\n",
    "sales = {\n",
    "    'revenue':     [100, 200, 300, 400],\n",
    "    'items_sold':  [23, 43, 55, 65],\n",
    "    'new_clients': [10, 20, 30, 40]\n",
    "    }\n",
    "\n",
    "# Let's create a simple DataFrame with custon index column\n",
    "data = pd.DataFrame(sales, index=months)\n",
    "data\n"
   ]
  },
  {
   "cell_type": "code",
   "execution_count": 23,
   "metadata": {},
   "outputs": [
    {
     "data": {
      "text/html": [
       "<div>\n",
       "<style scoped>\n",
       "    .dataframe tbody tr th:only-of-type {\n",
       "        vertical-align: middle;\n",
       "    }\n",
       "\n",
       "    .dataframe tbody tr th {\n",
       "        vertical-align: top;\n",
       "    }\n",
       "\n",
       "    .dataframe thead th {\n",
       "        text-align: right;\n",
       "    }\n",
       "</style>\n",
       "<table border=\"1\" class=\"dataframe\">\n",
       "  <thead>\n",
       "    <tr style=\"text-align: right;\">\n",
       "      <th></th>\n",
       "      <th>computers</th>\n",
       "      <th>cars</th>\n",
       "      <th>soft</th>\n",
       "      <th>bicycles</th>\n",
       "    </tr>\n",
       "  </thead>\n",
       "  <tbody>\n",
       "    <tr>\n",
       "      <th>feb</th>\n",
       "      <td>4</td>\n",
       "      <td>NaN</td>\n",
       "      <td>5</td>\n",
       "      <td>1.0</td>\n",
       "    </tr>\n",
       "    <tr>\n",
       "      <th>jan</th>\n",
       "      <td>10</td>\n",
       "      <td>1.0</td>\n",
       "      <td>3</td>\n",
       "      <td>1.0</td>\n",
       "    </tr>\n",
       "    <tr>\n",
       "      <th>apr</th>\n",
       "      <td>6</td>\n",
       "      <td>2.0</td>\n",
       "      <td>3</td>\n",
       "      <td>NaN</td>\n",
       "    </tr>\n",
       "    <tr>\n",
       "      <th>mar</th>\n",
       "      <td>6</td>\n",
       "      <td>2.0</td>\n",
       "      <td>3</td>\n",
       "      <td>NaN</td>\n",
       "    </tr>\n",
       "  </tbody>\n",
       "</table>\n",
       "</div>"
      ],
      "text/plain": [
       "     computers  cars  soft  bicycles\n",
       "feb          4   NaN     5       1.0\n",
       "jan         10   1.0     3       1.0\n",
       "apr          6   2.0     3       NaN\n",
       "mar          6   2.0     3       NaN"
      ]
     },
     "execution_count": 23,
     "metadata": {},
     "output_type": "execute_result"
    }
   ],
   "source": [
    "months = ['jan', 'feb', 'mar', 'apr']\n",
    "\n",
    "# Sometimes, some records are missing data. For example, look at the goods_sold list\n",
    "# it contains sales divided by product categories. In the first month, we sold cars,\n",
    "# computers, and software. In the second, there are no cars, but bicycles appeared,\n",
    "# and in the third, cars reappeared, but the bicycles disappeared.\n",
    "goods_sold = [\n",
    "    {'computers': 10, 'cars': 1, 'soft': 3, 'bicycles': 1},\n",
    "    {'computers': 4, 'soft': 5, 'bicycles': 1},\n",
    "    {'computers': 6, 'cars': 2, 'soft': 3},\n",
    "    {'computers': 6, 'cars': 2, 'soft': 3}\n",
    "    ]\n",
    "\n",
    "data2 = pd.DataFrame(goods_sold, index=months)\n",
    "\n",
    "# Note that bicycles sales in april and march are NaN - stands for Not a Number.\n",
    "data2.sample(4)"
   ]
  },
  {
   "cell_type": "code",
   "execution_count": 48,
   "metadata": {},
   "outputs": [
    {
     "data": {
      "text/html": [
       "<div>\n",
       "<style scoped>\n",
       "    .dataframe tbody tr th:only-of-type {\n",
       "        vertical-align: middle;\n",
       "    }\n",
       "\n",
       "    .dataframe tbody tr th {\n",
       "        vertical-align: top;\n",
       "    }\n",
       "\n",
       "    .dataframe thead th {\n",
       "        text-align: right;\n",
       "    }\n",
       "</style>\n",
       "<table border=\"1\" class=\"dataframe\">\n",
       "  <thead>\n",
       "    <tr style=\"text-align: right;\">\n",
       "      <th></th>\n",
       "      <th>computers</th>\n",
       "      <th>cars</th>\n",
       "      <th>soft</th>\n",
       "      <th>bicycles</th>\n",
       "    </tr>\n",
       "  </thead>\n",
       "  <tbody>\n",
       "    <tr>\n",
       "      <th>jan</th>\n",
       "      <td>10</td>\n",
       "      <td>1.0</td>\n",
       "      <td>3</td>\n",
       "      <td>1.0</td>\n",
       "    </tr>\n",
       "  </tbody>\n",
       "</table>\n",
       "</div>"
      ],
      "text/plain": [
       "     computers  cars  soft  bicycles\n",
       "jan         10   1.0     3       1.0"
      ]
     },
     "execution_count": 48,
     "metadata": {},
     "output_type": "execute_result"
    }
   ],
   "source": [
    "# You can clear the entire dataframe from NaN values\n",
    "data5 = data2.dropna()\n",
    "data5"
   ]
  },
  {
   "cell_type": "code",
   "execution_count": 50,
   "metadata": {},
   "outputs": [
    {
     "data": {
      "text/html": [
       "<div>\n",
       "<style scoped>\n",
       "    .dataframe tbody tr th:only-of-type {\n",
       "        vertical-align: middle;\n",
       "    }\n",
       "\n",
       "    .dataframe tbody tr th {\n",
       "        vertical-align: top;\n",
       "    }\n",
       "\n",
       "    .dataframe thead th {\n",
       "        text-align: right;\n",
       "    }\n",
       "</style>\n",
       "<table border=\"1\" class=\"dataframe\">\n",
       "  <thead>\n",
       "    <tr style=\"text-align: right;\">\n",
       "      <th></th>\n",
       "      <th>computers</th>\n",
       "      <th>cars</th>\n",
       "      <th>soft</th>\n",
       "      <th>bicycles</th>\n",
       "    </tr>\n",
       "  </thead>\n",
       "  <tbody>\n",
       "    <tr>\n",
       "      <th>jan</th>\n",
       "      <td>10</td>\n",
       "      <td>1.0</td>\n",
       "      <td>3</td>\n",
       "      <td>1.0</td>\n",
       "    </tr>\n",
       "  </tbody>\n",
       "</table>\n",
       "</div>"
      ],
      "text/plain": [
       "     computers  cars  soft  bicycles\n",
       "jan         10   1.0     3       1.0"
      ]
     },
     "execution_count": 50,
     "metadata": {},
     "output_type": "execute_result"
    }
   ],
   "source": [
    "# if you need to selectively clear the dataframe from NaN values, then there are 2 methods: pd.notnull(data2['cars']) and .query(\"cars.notnull()\")\n",
    "\n",
    "# 1 method\n",
    "data2.loc[pd.notnull(data2['cars'])]\n",
    "\n",
    "# 2 method\n",
    "data2.query('cars.notnull() and bicycles.notnull()')\n"
   ]
  },
  {
   "cell_type": "code",
   "execution_count": 28,
   "metadata": {},
   "outputs": [
    {
     "data": {
      "text/plain": [
       "(RangeIndex(start=0, stop=625, step=1),\n",
       " Index(['Overall rank', 'Country', 'Region', 'Score', 'GDP per capita',\n",
       "        'Social support', 'Healthy life expectancy',\n",
       "        'Freedom to make life choices', 'Generosity',\n",
       "        'Perceptions of corruption', 'year'],\n",
       "       dtype='object'),\n",
       " Overall rank                      int64\n",
       " Country                          object\n",
       " Region                           object\n",
       " Score                           float64\n",
       " GDP per capita                  float64\n",
       " Social support                  float64\n",
       " Healthy life expectancy         float64\n",
       " Freedom to make life choices     object\n",
       " Generosity                      float64\n",
       " Perceptions of corruption       float64\n",
       " year                              int64\n",
       " dtype: object,\n",
       " (625, 11))"
      ]
     },
     "execution_count": 28,
     "metadata": {},
     "output_type": "execute_result"
    }
   ],
   "source": [
    "# Now let's see how to load data from files. Most often, data is stored in Excel spreadsheets or csv files.\n",
    "data3 = pd.read_csv(\"world_data.csv\")\n",
    "\n",
    "# Explore the downloaded data.\n",
    "# The four attributes that any dataframe has are .shape, .columns, .index, and .dtypes.\n",
    "\n",
    "# .shape shows how many rows and columns are in the dataframe.\n",
    "# .columns shows the names of the columns.\n",
    "# .dtypes we learn data types.\n",
    "# .index shows line names.\n",
    "data3.index, data3.columns, data3.dtypes, data3.shape"
   ]
  },
  {
   "cell_type": "code",
   "execution_count": 29,
   "metadata": {},
   "outputs": [
    {
     "data": {
      "text/html": [
       "<div>\n",
       "<style scoped>\n",
       "    .dataframe tbody tr th:only-of-type {\n",
       "        vertical-align: middle;\n",
       "    }\n",
       "\n",
       "    .dataframe tbody tr th {\n",
       "        vertical-align: top;\n",
       "    }\n",
       "\n",
       "    .dataframe thead th {\n",
       "        text-align: right;\n",
       "    }\n",
       "</style>\n",
       "<table border=\"1\" class=\"dataframe\">\n",
       "  <thead>\n",
       "    <tr style=\"text-align: right;\">\n",
       "      <th></th>\n",
       "      <th>Overall rank</th>\n",
       "      <th>Score</th>\n",
       "      <th>GDP per capita</th>\n",
       "      <th>Social support</th>\n",
       "      <th>Healthy life expectancy</th>\n",
       "      <th>Generosity</th>\n",
       "      <th>Perceptions of corruption</th>\n",
       "      <th>year</th>\n",
       "    </tr>\n",
       "  </thead>\n",
       "  <tbody>\n",
       "    <tr>\n",
       "      <th>count</th>\n",
       "      <td>625.00000</td>\n",
       "      <td>617.000000</td>\n",
       "      <td>617.000000</td>\n",
       "      <td>621.000000</td>\n",
       "      <td>616.000000</td>\n",
       "      <td>621.000000</td>\n",
       "      <td>617.000000</td>\n",
       "      <td>625.000000</td>\n",
       "    </tr>\n",
       "    <tr>\n",
       "      <th>mean</th>\n",
       "      <td>78.37280</td>\n",
       "      <td>5.539538</td>\n",
       "      <td>1.092853</td>\n",
       "      <td>1.258810</td>\n",
       "      <td>0.769447</td>\n",
       "      <td>0.373890</td>\n",
       "      <td>0.119883</td>\n",
       "      <td>2017.112000</td>\n",
       "    </tr>\n",
       "    <tr>\n",
       "      <th>std</th>\n",
       "      <td>45.14166</td>\n",
       "      <td>3.971712</td>\n",
       "      <td>4.009105</td>\n",
       "      <td>3.983228</td>\n",
       "      <td>4.012307</td>\n",
       "      <td>4.006105</td>\n",
       "      <td>0.101345</td>\n",
       "      <td>9.724586</td>\n",
       "    </tr>\n",
       "    <tr>\n",
       "      <th>min</th>\n",
       "      <td>1.00000</td>\n",
       "      <td>2.693000</td>\n",
       "      <td>0.000000</td>\n",
       "      <td>0.000000</td>\n",
       "      <td>0.000000</td>\n",
       "      <td>0.000000</td>\n",
       "      <td>0.000000</td>\n",
       "      <td>1776.000000</td>\n",
       "    </tr>\n",
       "    <tr>\n",
       "      <th>25%</th>\n",
       "      <td>39.00000</td>\n",
       "      <td>4.500000</td>\n",
       "      <td>0.631070</td>\n",
       "      <td>0.871140</td>\n",
       "      <td>0.440765</td>\n",
       "      <td>0.127060</td>\n",
       "      <td>0.053000</td>\n",
       "      <td>2016.000000</td>\n",
       "    </tr>\n",
       "    <tr>\n",
       "      <th>50%</th>\n",
       "      <td>78.00000</td>\n",
       "      <td>5.358000</td>\n",
       "      <td>0.989000</td>\n",
       "      <td>1.154000</td>\n",
       "      <td>0.640590</td>\n",
       "      <td>0.199970</td>\n",
       "      <td>0.088000</td>\n",
       "      <td>2017.000000</td>\n",
       "    </tr>\n",
       "    <tr>\n",
       "      <th>75%</th>\n",
       "      <td>117.00000</td>\n",
       "      <td>6.192000</td>\n",
       "      <td>1.260749</td>\n",
       "      <td>1.390000</td>\n",
       "      <td>0.808000</td>\n",
       "      <td>0.271000</td>\n",
       "      <td>0.149750</td>\n",
       "      <td>2018.000000</td>\n",
       "    </tr>\n",
       "    <tr>\n",
       "      <th>max</th>\n",
       "      <td>157.00000</td>\n",
       "      <td>100.000000</td>\n",
       "      <td>100.000000</td>\n",
       "      <td>100.000000</td>\n",
       "      <td>100.000000</td>\n",
       "      <td>100.000000</td>\n",
       "      <td>0.505210</td>\n",
       "      <td>2019.000000</td>\n",
       "    </tr>\n",
       "  </tbody>\n",
       "</table>\n",
       "</div>"
      ],
      "text/plain": [
       "       Overall rank       Score  GDP per capita  Social support  \\\n",
       "count     625.00000  617.000000      617.000000      621.000000   \n",
       "mean       78.37280    5.539538        1.092853        1.258810   \n",
       "std        45.14166    3.971712        4.009105        3.983228   \n",
       "min         1.00000    2.693000        0.000000        0.000000   \n",
       "25%        39.00000    4.500000        0.631070        0.871140   \n",
       "50%        78.00000    5.358000        0.989000        1.154000   \n",
       "75%       117.00000    6.192000        1.260749        1.390000   \n",
       "max       157.00000  100.000000      100.000000      100.000000   \n",
       "\n",
       "       Healthy life expectancy  Generosity  Perceptions of corruption  \\\n",
       "count               616.000000  621.000000                 617.000000   \n",
       "mean                  0.769447    0.373890                   0.119883   \n",
       "std                   4.012307    4.006105                   0.101345   \n",
       "min                   0.000000    0.000000                   0.000000   \n",
       "25%                   0.440765    0.127060                   0.053000   \n",
       "50%                   0.640590    0.199970                   0.088000   \n",
       "75%                   0.808000    0.271000                   0.149750   \n",
       "max                 100.000000  100.000000                   0.505210   \n",
       "\n",
       "              year  \n",
       "count   625.000000  \n",
       "mean   2017.112000  \n",
       "std       9.724586  \n",
       "min    1776.000000  \n",
       "25%    2016.000000  \n",
       "50%    2017.000000  \n",
       "75%    2018.000000  \n",
       "max    2019.000000  "
      ]
     },
     "execution_count": 29,
     "metadata": {},
     "output_type": "execute_result"
    }
   ],
   "source": [
    "# To find out the spread of values, the average cost and the median, use the .describe() method\n",
    "data = data3\n",
    "data.describe()"
   ]
  },
  {
   "cell_type": "code",
   "execution_count": null,
   "metadata": {},
   "outputs": [],
   "source": [
    "# Returns DataFrame with a single column.\n",
    "z1 = data.loc[[1, 2], ['Country']] \n",
    "\n",
    "# Returns a Series object, which is a one-dimensional labeled array.\n",
    "# This is because 'Country' was not passed as a single argument (not list) to the loc function.\n",
    "z2 = data.loc[[1, 2], 'Country']"
   ]
  },
  {
   "cell_type": "code",
   "execution_count": 33,
   "metadata": {},
   "outputs": [
    {
     "data": {
      "text/html": [
       "<div>\n",
       "<style scoped>\n",
       "    .dataframe tbody tr th:only-of-type {\n",
       "        vertical-align: middle;\n",
       "    }\n",
       "\n",
       "    .dataframe tbody tr th {\n",
       "        vertical-align: top;\n",
       "    }\n",
       "\n",
       "    .dataframe thead th {\n",
       "        text-align: right;\n",
       "    }\n",
       "</style>\n",
       "<table border=\"1\" class=\"dataframe\">\n",
       "  <thead>\n",
       "    <tr style=\"text-align: right;\">\n",
       "      <th></th>\n",
       "      <th>Score</th>\n",
       "      <th>GDP per capita</th>\n",
       "    </tr>\n",
       "  </thead>\n",
       "  <tbody>\n",
       "    <tr>\n",
       "      <th>534</th>\n",
       "      <td>5.615</td>\n",
       "      <td>1.066880</td>\n",
       "    </tr>\n",
       "    <tr>\n",
       "      <th>589</th>\n",
       "      <td>4.356</td>\n",
       "      <td>0.522670</td>\n",
       "    </tr>\n",
       "    <tr>\n",
       "      <th>409</th>\n",
       "      <td>5.011</td>\n",
       "      <td>0.885416</td>\n",
       "    </tr>\n",
       "    <tr>\n",
       "      <th>277</th>\n",
       "      <td>4.424</td>\n",
       "      <td>0.314000</td>\n",
       "    </tr>\n",
       "    <tr>\n",
       "      <th>359</th>\n",
       "      <td>5.971</td>\n",
       "      <td>0.786441</td>\n",
       "    </tr>\n",
       "  </tbody>\n",
       "</table>\n",
       "</div>"
      ],
      "text/plain": [
       "     Score  GDP per capita\n",
       "534  5.615        1.066880\n",
       "589  4.356        0.522670\n",
       "409  5.011        0.885416\n",
       "277  4.424        0.314000\n",
       "359  5.971        0.786441"
      ]
     },
     "execution_count": 33,
     "metadata": {},
     "output_type": "execute_result"
    }
   ],
   "source": [
    "# If we type like this, we will output a Series object with 1 column. If we add one more square brackets, then we'll get the dataframe.\n",
    "a = data['Score']\n",
    "\n",
    "# If we need to display several columns, we need to insert a list with their names in square brackets.\n",
    "# The first square brackets are from the dataframe, the second ones are from the list.\n",
    "b = data[['Score','GDP per capita']] \n",
    "b.sample(5)"
   ]
  },
  {
   "cell_type": "code",
   "execution_count": 35,
   "metadata": {},
   "outputs": [
    {
     "data": {
      "text/html": [
       "<div>\n",
       "<style scoped>\n",
       "    .dataframe tbody tr th:only-of-type {\n",
       "        vertical-align: middle;\n",
       "    }\n",
       "\n",
       "    .dataframe tbody tr th {\n",
       "        vertical-align: top;\n",
       "    }\n",
       "\n",
       "    .dataframe thead th {\n",
       "        text-align: right;\n",
       "    }\n",
       "</style>\n",
       "<table border=\"1\" class=\"dataframe\">\n",
       "  <thead>\n",
       "    <tr style=\"text-align: right;\">\n",
       "      <th></th>\n",
       "      <th>price</th>\n",
       "      <th>count</th>\n",
       "      <th>percent</th>\n",
       "      <th>discount</th>\n",
       "      <th>Good</th>\n",
       "    </tr>\n",
       "  </thead>\n",
       "  <tbody>\n",
       "    <tr>\n",
       "      <th>0</th>\n",
       "      <td>1</td>\n",
       "      <td>10</td>\n",
       "      <td>24</td>\n",
       "      <td>3</td>\n",
       "      <td>no</td>\n",
       "    </tr>\n",
       "    <tr>\n",
       "      <th>1</th>\n",
       "      <td>2</td>\n",
       "      <td>20</td>\n",
       "      <td>51</td>\n",
       "      <td>3</td>\n",
       "      <td>no</td>\n",
       "    </tr>\n",
       "    <tr>\n",
       "      <th>2</th>\n",
       "      <td>3</td>\n",
       "      <td>30</td>\n",
       "      <td>71</td>\n",
       "      <td>5</td>\n",
       "      <td>yes</td>\n",
       "    </tr>\n",
       "    <tr>\n",
       "      <th>3</th>\n",
       "      <td>5</td>\n",
       "      <td>40</td>\n",
       "      <td>25</td>\n",
       "      <td>5</td>\n",
       "      <td>yes</td>\n",
       "    </tr>\n",
       "    <tr>\n",
       "      <th>4</th>\n",
       "      <td>6</td>\n",
       "      <td>50</td>\n",
       "      <td>42</td>\n",
       "      <td>5</td>\n",
       "      <td>yes</td>\n",
       "    </tr>\n",
       "  </tbody>\n",
       "</table>\n",
       "</div>"
      ],
      "text/plain": [
       "   price  count  percent  discount Good\n",
       "0      1     10       24         3   no\n",
       "1      2     20       51         3   no\n",
       "2      3     30       71         5  yes\n",
       "3      5     40       25         5  yes\n",
       "4      6     50       42         5  yes"
      ]
     },
     "execution_count": 35,
     "metadata": {},
     "output_type": "execute_result"
    }
   ],
   "source": [
    "d = {\"price\":[1, 2, 3, 5, 6], \"count\": [10, 20, 30, 40, 50], \"percent\": [24, 51, 71, 25, 42]}\n",
    "a = pd.DataFrame(d)\n",
    "\n",
    "# Now see how to add columns by conditions.\n",
    "# There is 2 types of adding columns by conditions, using apply() or np.where\n",
    "a['discount'] = a['price'].apply(lambda x: 5 if x>2 else 3)\n",
    "a['Good'] = np.where(a['price']>2, 'yes', 'no')\n",
    "a"
   ]
  },
  {
   "cell_type": "code",
   "execution_count": 151,
   "metadata": {},
   "outputs": [
    {
     "data": {
      "text/html": [
       "<div>\n",
       "<style scoped>\n",
       "    .dataframe tbody tr th:only-of-type {\n",
       "        vertical-align: middle;\n",
       "    }\n",
       "\n",
       "    .dataframe tbody tr th {\n",
       "        vertical-align: top;\n",
       "    }\n",
       "\n",
       "    .dataframe thead th {\n",
       "        text-align: right;\n",
       "    }\n",
       "</style>\n",
       "<table border=\"1\" class=\"dataframe\">\n",
       "  <thead>\n",
       "    <tr style=\"text-align: right;\">\n",
       "      <th></th>\n",
       "      <th>price</th>\n",
       "      <th>count</th>\n",
       "      <th>percent</th>\n",
       "      <th>discount</th>\n",
       "      <th>Good</th>\n",
       "    </tr>\n",
       "  </thead>\n",
       "  <tbody>\n",
       "    <tr>\n",
       "      <th>0</th>\n",
       "      <td>1</td>\n",
       "      <td>10</td>\n",
       "      <td>24</td>\n",
       "      <td>3</td>\n",
       "      <td>no</td>\n",
       "    </tr>\n",
       "    <tr>\n",
       "      <th>1</th>\n",
       "      <td>2</td>\n",
       "      <td>20</td>\n",
       "      <td>51</td>\n",
       "      <td>3</td>\n",
       "      <td>no</td>\n",
       "    </tr>\n",
       "    <tr>\n",
       "      <th>2</th>\n",
       "      <td>3</td>\n",
       "      <td>30</td>\n",
       "      <td>71</td>\n",
       "      <td>5</td>\n",
       "      <td>yes</td>\n",
       "    </tr>\n",
       "  </tbody>\n",
       "</table>\n",
       "</div>"
      ],
      "text/plain": [
       "   price  count  percent  discount Good\n",
       "0      1     10       24         3   no\n",
       "1      2     20       51         3   no\n",
       "2      3     30       71         5  yes"
      ]
     },
     "execution_count": 151,
     "metadata": {},
     "output_type": "execute_result"
    }
   ],
   "source": [
    "# Filtering by condition. We must remember that each condition in round brackets and then they are together in a tuple\n",
    "a.loc[((a['discount'] == 3) | (a['percent'] == 71))] "
   ]
  },
  {
   "cell_type": "code",
   "execution_count": 157,
   "metadata": {},
   "outputs": [
    {
     "data": {
      "text/plain": [
       "51"
      ]
     },
     "execution_count": 157,
     "metadata": {},
     "output_type": "execute_result"
    }
   ],
   "source": [
    "# 2 identical results of filtering, but loc accesses by key (KeyError) and iloc accesses by index (IndexError)\n",
    "\n",
    "# df.loc[row_indexer, column_indexer]\n",
    "a.loc[1, ['percent']]\n",
    "\n",
    "# iloc is based on using integers to access data\n",
    "a.iloc[1, 2]"
   ]
  },
  {
   "cell_type": "code",
   "execution_count": null,
   "metadata": {},
   "outputs": [],
   "source": [
    "# you can select rows by condition by assigning it to a variable\n",
    "big_count = a['count'] > 20\n",
    "a.loc[big_count]"
   ]
  },
  {
   "attachments": {},
   "cell_type": "markdown",
   "metadata": {},
   "source": [
    "In Pandas, the NOT operator represented by the ~ symbol. It can be used in boolean indexers to invert the condition.\n",
    "> a.loc[~(a['count'] > 20)]\n",
    "\n",
    " The \"not equal\" operator in Pandas is represented by the != symbol. You can use this operator in boolean indexers to select rows where the value in the column is not equal to a certain value.\n",
    "> a.loc[a['column_name'] != 10]"
   ]
  },
  {
   "attachments": {},
   "cell_type": "markdown",
   "metadata": {},
   "source": [
    "## Query Language\n",
    "Another way to filter data is to use a query language.\n",
    "All conditions are written in one line 'sales > 1000 & ship_mode == 'First' and pass it to the .query() method. The request is more readable."
   ]
  },
  {
   "cell_type": "code",
   "execution_count": 205,
   "metadata": {},
   "outputs": [
    {
     "data": {
      "text/html": [
       "<div>\n",
       "<style scoped>\n",
       "    .dataframe tbody tr th:only-of-type {\n",
       "        vertical-align: middle;\n",
       "    }\n",
       "\n",
       "    .dataframe tbody tr th {\n",
       "        vertical-align: top;\n",
       "    }\n",
       "\n",
       "    .dataframe thead th {\n",
       "        text-align: right;\n",
       "    }\n",
       "</style>\n",
       "<table border=\"1\" class=\"dataframe\">\n",
       "  <thead>\n",
       "    <tr style=\"text-align: right;\">\n",
       "      <th></th>\n",
       "      <th>price</th>\n",
       "      <th>count</th>\n",
       "      <th>percent</th>\n",
       "      <th>discount</th>\n",
       "      <th>Good</th>\n",
       "    </tr>\n",
       "  </thead>\n",
       "  <tbody>\n",
       "    <tr>\n",
       "      <th>1</th>\n",
       "      <td>2</td>\n",
       "      <td>20</td>\n",
       "      <td>51</td>\n",
       "      <td>3</td>\n",
       "      <td>no</td>\n",
       "    </tr>\n",
       "    <tr>\n",
       "      <th>2</th>\n",
       "      <td>3</td>\n",
       "      <td>30</td>\n",
       "      <td>71</td>\n",
       "      <td>5</td>\n",
       "      <td>yes</td>\n",
       "    </tr>\n",
       "    <tr>\n",
       "      <th>3</th>\n",
       "      <td>5</td>\n",
       "      <td>40</td>\n",
       "      <td>25</td>\n",
       "      <td>5</td>\n",
       "      <td>yes</td>\n",
       "    </tr>\n",
       "  </tbody>\n",
       "</table>\n",
       "</div>"
      ],
      "text/plain": [
       "   price  count  percent  discount Good\n",
       "1      2     20       51         3   no\n",
       "2      3     30       71         5  yes\n",
       "3      5     40       25         5  yes"
      ]
     },
     "execution_count": 205,
     "metadata": {},
     "output_type": "execute_result"
    }
   ],
   "source": [
    "# you can use both and, or and &, |\n",
    "# enclose string values IN DOUBLE BRACKETS, the expression in a SINGLE\n",
    "a.query('count > 5 & Good == \"no\"')\n",
    "a.query('price != 6 and (Good == \"yes\" or percent > 50)')"
   ]
  },
  {
   "cell_type": "code",
   "execution_count": 216,
   "metadata": {},
   "outputs": [
    {
     "data": {
      "text/html": [
       "<div>\n",
       "<style scoped>\n",
       "    .dataframe tbody tr th:only-of-type {\n",
       "        vertical-align: middle;\n",
       "    }\n",
       "\n",
       "    .dataframe tbody tr th {\n",
       "        vertical-align: top;\n",
       "    }\n",
       "\n",
       "    .dataframe thead th {\n",
       "        text-align: right;\n",
       "    }\n",
       "</style>\n",
       "<table border=\"1\" class=\"dataframe\">\n",
       "  <thead>\n",
       "    <tr style=\"text-align: right;\">\n",
       "      <th></th>\n",
       "      <th>price</th>\n",
       "      <th>count</th>\n",
       "      <th>percent</th>\n",
       "      <th>discount</th>\n",
       "      <th>Good</th>\n",
       "    </tr>\n",
       "  </thead>\n",
       "  <tbody>\n",
       "    <tr>\n",
       "      <th>2</th>\n",
       "      <td>3</td>\n",
       "      <td>30</td>\n",
       "      <td>71</td>\n",
       "      <td>5</td>\n",
       "      <td>yes</td>\n",
       "    </tr>\n",
       "    <tr>\n",
       "      <th>3</th>\n",
       "      <td>5</td>\n",
       "      <td>40</td>\n",
       "      <td>25</td>\n",
       "      <td>5</td>\n",
       "      <td>yes</td>\n",
       "    </tr>\n",
       "  </tbody>\n",
       "</table>\n",
       "</div>"
      ],
      "text/plain": [
       "   price  count  percent  discount Good\n",
       "2      3     30       71         5  yes\n",
       "3      5     40       25         5  yes"
      ]
     },
     "execution_count": 216,
     "metadata": {},
     "output_type": "execute_result"
    }
   ],
   "source": [
    "# values for filters can be stored in a variable and referenced in a query using the @ symbol\n",
    "count_val = [30, 40]\n",
    "no = \"no\"\n",
    "a.query('count == @count_val & Good != @no')"
   ]
  },
  {
   "attachments": {},
   "cell_type": "markdown",
   "metadata": {},
   "source": [
    "## Calculating derived metrics\n",
    "number of orders, total revenue, average check, conversion"
   ]
  },
  {
   "cell_type": "code",
   "execution_count": 73,
   "metadata": {},
   "outputs": [
    {
     "data": {
      "text/html": [
       "<div>\n",
       "<style scoped>\n",
       "    .dataframe tbody tr th:only-of-type {\n",
       "        vertical-align: middle;\n",
       "    }\n",
       "\n",
       "    .dataframe tbody tr th {\n",
       "        vertical-align: top;\n",
       "    }\n",
       "\n",
       "    .dataframe thead th {\n",
       "        text-align: right;\n",
       "    }\n",
       "</style>\n",
       "<table border=\"1\" class=\"dataframe\">\n",
       "  <thead>\n",
       "    <tr style=\"text-align: right;\">\n",
       "      <th></th>\n",
       "      <th>id</th>\n",
       "      <th>order_date</th>\n",
       "      <th>ship_mode</th>\n",
       "      <th>customer_id</th>\n",
       "      <th>sales</th>\n",
       "    </tr>\n",
       "  </thead>\n",
       "  <tbody>\n",
       "    <tr>\n",
       "      <th>0</th>\n",
       "      <td>100006</td>\n",
       "      <td>2014-09-07</td>\n",
       "      <td>Standard</td>\n",
       "      <td>DK-13375</td>\n",
       "      <td>378.0</td>\n",
       "    </tr>\n",
       "    <tr>\n",
       "      <th>1</th>\n",
       "      <td>100090</td>\n",
       "      <td>2014-07-08</td>\n",
       "      <td>Standard</td>\n",
       "      <td>EB-13705</td>\n",
       "      <td>699.2</td>\n",
       "    </tr>\n",
       "    <tr>\n",
       "      <th>2</th>\n",
       "      <td>100293</td>\n",
       "      <td>2014-03-14</td>\n",
       "      <td>Standard</td>\n",
       "      <td>NF-18475</td>\n",
       "      <td>91.1</td>\n",
       "    </tr>\n",
       "  </tbody>\n",
       "</table>\n",
       "</div>"
      ],
      "text/plain": [
       "       id  order_date ship_mode customer_id  sales\n",
       "0  100006  2014-09-07  Standard    DK-13375  378.0\n",
       "1  100090  2014-07-08  Standard    EB-13705  699.2\n",
       "2  100293  2014-03-14  Standard    NF-18475   91.1"
      ]
     },
     "execution_count": 73,
     "metadata": {},
     "output_type": "execute_result"
    }
   ],
   "source": [
    "data = pd.read_csv('orders.csv')\n",
    "data.head(3)"
   ]
  },
  {
   "cell_type": "code",
   "execution_count": 74,
   "metadata": {},
   "outputs": [
    {
     "data": {
      "text/html": [
       "<div>\n",
       "<style scoped>\n",
       "    .dataframe tbody tr th:only-of-type {\n",
       "        vertical-align: middle;\n",
       "    }\n",
       "\n",
       "    .dataframe tbody tr th {\n",
       "        vertical-align: top;\n",
       "    }\n",
       "\n",
       "    .dataframe thead th {\n",
       "        text-align: right;\n",
       "    }\n",
       "</style>\n",
       "<table border=\"1\" class=\"dataframe\">\n",
       "  <thead>\n",
       "    <tr style=\"text-align: right;\">\n",
       "      <th></th>\n",
       "      <th>id</th>\n",
       "      <th>order_date</th>\n",
       "      <th>ship_mode</th>\n",
       "      <th>customer_id</th>\n",
       "      <th>sales</th>\n",
       "    </tr>\n",
       "  </thead>\n",
       "  <tbody>\n",
       "    <tr>\n",
       "      <th>0</th>\n",
       "      <td>100006</td>\n",
       "      <td>2014-09-07</td>\n",
       "      <td>Standard</td>\n",
       "      <td>DK-13375</td>\n",
       "      <td>378.0</td>\n",
       "    </tr>\n",
       "    <tr>\n",
       "      <th>1</th>\n",
       "      <td>100090</td>\n",
       "      <td>2014-07-08</td>\n",
       "      <td>Standard</td>\n",
       "      <td>EB-13705</td>\n",
       "      <td>699.2</td>\n",
       "    </tr>\n",
       "    <tr>\n",
       "      <th>2</th>\n",
       "      <td>100293</td>\n",
       "      <td>2014-03-14</td>\n",
       "      <td>Standard</td>\n",
       "      <td>NF-18475</td>\n",
       "      <td>91.1</td>\n",
       "    </tr>\n",
       "  </tbody>\n",
       "</table>\n",
       "</div>"
      ],
      "text/plain": [
       "       id order_date ship_mode customer_id  sales\n",
       "0  100006 2014-09-07  Standard    DK-13375  378.0\n",
       "1  100090 2014-07-08  Standard    EB-13705  699.2\n",
       "2  100293 2014-03-14  Standard    NF-18475   91.1"
      ]
     },
     "execution_count": 74,
     "metadata": {},
     "output_type": "execute_result"
    }
   ],
   "source": [
    "# change date format 'order_date' from 'object' to 'datetime64'\n",
    "data['order_date'] = pd.to_datetime(data['order_date'])\n",
    "data.head(3)"
   ]
  },
  {
   "cell_type": "code",
   "execution_count": 75,
   "metadata": {},
   "outputs": [
    {
     "name": "stdout",
     "output_type": "stream",
     "text": [
      "<class 'pandas.core.frame.DataFrame'>\n",
      "RangeIndex: 5009 entries, 0 to 5008\n",
      "Data columns (total 5 columns):\n",
      " #   Column       Non-Null Count  Dtype         \n",
      "---  ------       --------------  -----         \n",
      " 0   id           5009 non-null   int64         \n",
      " 1   order_date   5009 non-null   datetime64[ns]\n",
      " 2   ship_mode    5009 non-null   object        \n",
      " 3   customer_id  5009 non-null   object        \n",
      " 4   sales        5009 non-null   float64       \n",
      "dtypes: datetime64[ns](1), float64(1), int64(1), object(2)\n",
      "memory usage: 195.8+ KB\n"
     ]
    }
   ],
   "source": [
    "data.info()"
   ]
  },
  {
   "cell_type": "code",
   "execution_count": 76,
   "metadata": {},
   "outputs": [
    {
     "data": {
      "text/plain": [
       "(2297200.8603000003,\n",
       " ship_mode\n",
       " First        351,428.4\n",
       " Same Day     128,363.1\n",
       " Second       459,193.6\n",
       " Standard   1,358,215.7\n",
       " Name: sales, dtype: float64)"
      ]
     },
     "execution_count": 76,
     "metadata": {},
     "output_type": "execute_result"
    }
   ],
   "source": [
    "# calculate the total sales\n",
    "sum_all = data['sales'].sum()\n",
    "\n",
    "# now let's group the data by the ship_mode parameter using the .groupby() method and then calculate sales by ship_mode\n",
    "sum_by_ship_mode = data.groupby('ship_mode')['sales'].sum()\n",
    "\n",
    "sum_all, sum_by_ship_mode"
   ]
  },
  {
   "attachments": {},
   "cell_type": "markdown",
   "metadata": {},
   "source": [
    "If we are working with floats, rounding may be needed: 3.514284e+05 is a scientific format for displaying numbers.\n",
    "  Means 3.51 * 10^5. We don't need that kind of precision, so we can tell Pandas to round values to the nearest hundredth:\n",
    "\n",
    "> pd.options.display.float_format = '{:,.1f}'.format"
   ]
  },
  {
   "cell_type": "code",
   "execution_count": 77,
   "metadata": {},
   "outputs": [
    {
     "data": {
      "text/plain": [
       "ship_mode\n",
       "First        351,428.4\n",
       "Same Day     128,363.1\n",
       "Second       459,193.6\n",
       "Standard   1,358,215.7\n",
       "Name: sales, dtype: float64"
      ]
     },
     "execution_count": 77,
     "metadata": {},
     "output_type": "execute_result"
    }
   ],
   "source": [
    "pd.options.display.float_format = '{:,.1f}'.format\n",
    "\n",
    "sum_by_ship_mode"
   ]
  },
  {
   "cell_type": "code",
   "execution_count": 194,
   "metadata": {},
   "outputs": [
    {
     "data": {
      "text/plain": [
       "ship_mode  order_date\n",
       "First      2014-01-06    12.8\n",
       "           2014-01-11     9.9\n",
       "           2014-01-14    62.0\n",
       "           2014-01-15   149.9\n",
       "           2014-01-19   378.6\n",
       "Name: sales, dtype: float64"
      ]
     },
     "execution_count": 194,
     "metadata": {},
     "output_type": "execute_result"
    }
   ],
   "source": [
    "# add grouping by dates, pass columns for grouping as a list\n",
    "sum_by_ship_mode_date = data.groupby(['ship_mode', 'order_date'])['sales'].sum()\n",
    "sum_by_ship_mode_date.head()"
   ]
  },
  {
   "cell_type": "code",
   "execution_count": 195,
   "metadata": {},
   "outputs": [
    {
     "data": {
      "text/plain": [
       "array(['Standard', 'Second', 'First', 'Same Day'], dtype=object)"
      ]
     },
     "execution_count": 195,
     "metadata": {},
     "output_type": "execute_result"
    }
   ],
   "source": [
    "# To show all distinct values of a column in pandas, use the unique() function.\n",
    "data['ship_mode'].unique()"
   ]
  },
  {
   "cell_type": "code",
   "execution_count": 81,
   "metadata": {},
   "outputs": [
    {
     "data": {
      "text/html": [
       "<div>\n",
       "<style scoped>\n",
       "    .dataframe tbody tr th:only-of-type {\n",
       "        vertical-align: middle;\n",
       "    }\n",
       "\n",
       "    .dataframe tbody tr th {\n",
       "        vertical-align: top;\n",
       "    }\n",
       "\n",
       "    .dataframe thead th {\n",
       "        text-align: right;\n",
       "    }\n",
       "</style>\n",
       "<table border=\"1\" class=\"dataframe\">\n",
       "  <thead>\n",
       "    <tr style=\"text-align: right;\">\n",
       "      <th></th>\n",
       "      <th></th>\n",
       "      <th>sum</th>\n",
       "      <th>count</th>\n",
       "      <th>mean</th>\n",
       "    </tr>\n",
       "    <tr>\n",
       "      <th>ship_mode</th>\n",
       "      <th>order_date</th>\n",
       "      <th></th>\n",
       "      <th></th>\n",
       "      <th></th>\n",
       "    </tr>\n",
       "  </thead>\n",
       "  <tbody>\n",
       "    <tr>\n",
       "      <th rowspan=\"5\" valign=\"top\">First</th>\n",
       "      <th>2014-01-06</th>\n",
       "      <td>12.8</td>\n",
       "      <td>1</td>\n",
       "      <td>12.8</td>\n",
       "    </tr>\n",
       "    <tr>\n",
       "      <th>2014-01-11</th>\n",
       "      <td>9.9</td>\n",
       "      <td>1</td>\n",
       "      <td>9.9</td>\n",
       "    </tr>\n",
       "    <tr>\n",
       "      <th>2014-01-14</th>\n",
       "      <td>62.0</td>\n",
       "      <td>1</td>\n",
       "      <td>62.0</td>\n",
       "    </tr>\n",
       "    <tr>\n",
       "      <th>2014-01-15</th>\n",
       "      <td>149.9</td>\n",
       "      <td>1</td>\n",
       "      <td>149.9</td>\n",
       "    </tr>\n",
       "    <tr>\n",
       "      <th>2014-01-19</th>\n",
       "      <td>378.6</td>\n",
       "      <td>1</td>\n",
       "      <td>378.6</td>\n",
       "    </tr>\n",
       "  </tbody>\n",
       "</table>\n",
       "</div>"
      ],
      "text/plain": [
       "                       sum  count  mean\n",
       "ship_mode order_date                   \n",
       "First     2014-01-06  12.8      1  12.8\n",
       "          2014-01-11   9.9      1   9.9\n",
       "          2014-01-14  62.0      1  62.0\n",
       "          2014-01-15 149.9      1 149.9\n",
       "          2014-01-19 378.6      1 378.6"
      ]
     },
     "execution_count": 81,
     "metadata": {},
     "output_type": "execute_result"
    }
   ],
   "source": [
    "# Add to the sample the number and the mean value of orders.\n",
    "#  To do this, instead of .sum(), we use the .agg() method. We pass a list with the names of the necessary methods into .agg().\n",
    "agg_by_ship_mode_date = data.groupby(['ship_mode', 'order_date'])['sales'].agg(['sum', 'count', 'mean'])\n",
    "agg_by_ship_mode_date.head()"
   ]
  },
  {
   "cell_type": "code",
   "execution_count": 85,
   "metadata": {},
   "outputs": [
    {
     "data": {
      "text/html": [
       "<div>\n",
       "<style scoped>\n",
       "    .dataframe tbody tr th:only-of-type {\n",
       "        vertical-align: middle;\n",
       "    }\n",
       "\n",
       "    .dataframe tbody tr th {\n",
       "        vertical-align: top;\n",
       "    }\n",
       "\n",
       "    .dataframe thead th {\n",
       "        text-align: right;\n",
       "    }\n",
       "</style>\n",
       "<table border=\"1\" class=\"dataframe\">\n",
       "  <thead>\n",
       "    <tr style=\"text-align: right;\">\n",
       "      <th></th>\n",
       "      <th></th>\n",
       "      <th>sum</th>\n",
       "      <th>count</th>\n",
       "      <th>mean</th>\n",
       "    </tr>\n",
       "    <tr>\n",
       "      <th>ship_mode</th>\n",
       "      <th>order_date</th>\n",
       "      <th></th>\n",
       "      <th></th>\n",
       "      <th></th>\n",
       "    </tr>\n",
       "  </thead>\n",
       "  <tbody>\n",
       "    <tr>\n",
       "      <th rowspan=\"2\" valign=\"top\">Standard</th>\n",
       "      <th>2014-03-18</th>\n",
       "      <td>26,908.4</td>\n",
       "      <td>2</td>\n",
       "      <td>13,454.2</td>\n",
       "    </tr>\n",
       "    <tr>\n",
       "      <th>2016-10-02</th>\n",
       "      <td>18,398.2</td>\n",
       "      <td>2</td>\n",
       "      <td>9,199.1</td>\n",
       "    </tr>\n",
       "    <tr>\n",
       "      <th>First</th>\n",
       "      <th>2017-03-23</th>\n",
       "      <td>14,299.1</td>\n",
       "      <td>3</td>\n",
       "      <td>4,766.4</td>\n",
       "    </tr>\n",
       "    <tr>\n",
       "      <th>Standard</th>\n",
       "      <th>2014-09-08</th>\n",
       "      <td>14,060.4</td>\n",
       "      <td>9</td>\n",
       "      <td>1,562.3</td>\n",
       "    </tr>\n",
       "    <tr>\n",
       "      <th>First</th>\n",
       "      <th>2017-10-22</th>\n",
       "      <td>13,716.5</td>\n",
       "      <td>1</td>\n",
       "      <td>13,716.5</td>\n",
       "    </tr>\n",
       "    <tr>\n",
       "      <th rowspan=\"5\" valign=\"top\">Standard</th>\n",
       "      <th>2016-12-17</th>\n",
       "      <td>12,185.1</td>\n",
       "      <td>5</td>\n",
       "      <td>2,437.0</td>\n",
       "    </tr>\n",
       "    <tr>\n",
       "      <th>2017-11-17</th>\n",
       "      <td>12,112.5</td>\n",
       "      <td>8</td>\n",
       "      <td>1,514.1</td>\n",
       "    </tr>\n",
       "    <tr>\n",
       "      <th>2015-09-17</th>\n",
       "      <td>11,467.6</td>\n",
       "      <td>5</td>\n",
       "      <td>2,293.5</td>\n",
       "    </tr>\n",
       "    <tr>\n",
       "      <th>2016-05-23</th>\n",
       "      <td>10,561.0</td>\n",
       "      <td>4</td>\n",
       "      <td>2,640.2</td>\n",
       "    </tr>\n",
       "    <tr>\n",
       "      <th>2014-09-23</th>\n",
       "      <td>10,478.6</td>\n",
       "      <td>5</td>\n",
       "      <td>2,095.7</td>\n",
       "    </tr>\n",
       "  </tbody>\n",
       "</table>\n",
       "</div>"
      ],
      "text/plain": [
       "                          sum  count     mean\n",
       "ship_mode order_date                         \n",
       "Standard  2014-03-18 26,908.4      2 13,454.2\n",
       "          2016-10-02 18,398.2      2  9,199.1\n",
       "First     2017-03-23 14,299.1      3  4,766.4\n",
       "Standard  2014-09-08 14,060.4      9  1,562.3\n",
       "First     2017-10-22 13,716.5      1 13,716.5\n",
       "Standard  2016-12-17 12,185.1      5  2,437.0\n",
       "          2017-11-17 12,112.5      8  1,514.1\n",
       "          2015-09-17 11,467.6      5  2,293.5\n",
       "          2016-05-23 10,561.0      4  2,640.2\n",
       "          2014-09-23 10,478.6      5  2,095.7"
      ]
     },
     "execution_count": 85,
     "metadata": {},
     "output_type": "execute_result"
    }
   ],
   "source": [
    "# we see a large spread in the average bill, so we sort orders by the most profitable days\n",
    "agg_and_ord = (\n",
    "    data.groupby(['ship_mode', 'order_date'])['sales']\n",
    "    .agg(['sum', 'count', 'mean'])\n",
    "    .sort_values(by='sum', ascending=False)\n",
    ")\n",
    "\n",
    "agg_and_ord.head(10)"
   ]
  },
  {
   "attachments": {},
   "cell_type": "markdown",
   "metadata": {},
   "source": [
    "Where are the clients from? To find out, wee need to combine order data with customer data.\n",
    "Let's load them into the customers variable and see who they are."
   ]
  },
  {
   "cell_type": "code",
   "execution_count": 105,
   "metadata": {},
   "outputs": [
    {
     "data": {
      "text/html": [
       "<div>\n",
       "<style scoped>\n",
       "    .dataframe tbody tr th:only-of-type {\n",
       "        vertical-align: middle;\n",
       "    }\n",
       "\n",
       "    .dataframe tbody tr th {\n",
       "        vertical-align: top;\n",
       "    }\n",
       "\n",
       "    .dataframe thead th {\n",
       "        text-align: right;\n",
       "    }\n",
       "</style>\n",
       "<table border=\"1\" class=\"dataframe\">\n",
       "  <thead>\n",
       "    <tr style=\"text-align: right;\">\n",
       "      <th></th>\n",
       "      <th>id</th>\n",
       "      <th>name</th>\n",
       "      <th>segment</th>\n",
       "      <th>state</th>\n",
       "      <th>city</th>\n",
       "    </tr>\n",
       "  </thead>\n",
       "  <tbody>\n",
       "    <tr>\n",
       "      <th>137</th>\n",
       "      <td>DJ-13510</td>\n",
       "      <td>Don Jones</td>\n",
       "      <td>Corporate</td>\n",
       "      <td>Tennessee</td>\n",
       "      <td>Murfreesboro</td>\n",
       "    </tr>\n",
       "    <tr>\n",
       "      <th>159</th>\n",
       "      <td>NG-18430</td>\n",
       "      <td>Nathan Gelder</td>\n",
       "      <td>Consumer</td>\n",
       "      <td>Ohio</td>\n",
       "      <td>Cincinnati</td>\n",
       "    </tr>\n",
       "  </tbody>\n",
       "</table>\n",
       "</div>"
      ],
      "text/plain": [
       "           id           name    segment      state          city\n",
       "137  DJ-13510      Don Jones  Corporate  Tennessee  Murfreesboro\n",
       "159  NG-18430  Nathan Gelder   Consumer       Ohio    Cincinnati"
      ]
     },
     "execution_count": 105,
     "metadata": {},
     "output_type": "execute_result"
    }
   ],
   "source": [
    "customers = pd.read_csv('customers.csv')\n",
    "customers.sample(2)"
   ]
  },
  {
   "cell_type": "code",
   "execution_count": 107,
   "metadata": {},
   "outputs": [
    {
     "data": {
      "text/html": [
       "<div>\n",
       "<style scoped>\n",
       "    .dataframe tbody tr th:only-of-type {\n",
       "        vertical-align: middle;\n",
       "    }\n",
       "\n",
       "    .dataframe tbody tr th {\n",
       "        vertical-align: top;\n",
       "    }\n",
       "\n",
       "    .dataframe thead th {\n",
       "        text-align: right;\n",
       "    }\n",
       "</style>\n",
       "<table border=\"1\" class=\"dataframe\">\n",
       "  <thead>\n",
       "    <tr style=\"text-align: right;\">\n",
       "      <th></th>\n",
       "      <th>order_date</th>\n",
       "      <th>sales</th>\n",
       "    </tr>\n",
       "  </thead>\n",
       "  <tbody>\n",
       "    <tr>\n",
       "      <th>69</th>\n",
       "      <td>2014-05-21</td>\n",
       "      <td>31.8</td>\n",
       "    </tr>\n",
       "    <tr>\n",
       "      <th>560</th>\n",
       "      <td>2014-12-22</td>\n",
       "      <td>216.4</td>\n",
       "    </tr>\n",
       "    <tr>\n",
       "      <th>2445</th>\n",
       "      <td>2016-01-22</td>\n",
       "      <td>165.6</td>\n",
       "    </tr>\n",
       "    <tr>\n",
       "      <th>3131</th>\n",
       "      <td>2017-02-26</td>\n",
       "      <td>2,110.7</td>\n",
       "    </tr>\n",
       "    <tr>\n",
       "      <th>3271</th>\n",
       "      <td>2017-09-30</td>\n",
       "      <td>160.0</td>\n",
       "    </tr>\n",
       "  </tbody>\n",
       "</table>\n",
       "</div>"
      ],
      "text/plain": [
       "     order_date   sales\n",
       "69   2014-05-21    31.8\n",
       "560  2014-12-22   216.4\n",
       "2445 2016-01-22   165.6\n",
       "3131 2017-02-26 2,110.7\n",
       "3271 2017-09-30   160.0"
      ]
     },
     "execution_count": 107,
     "metadata": {},
     "output_type": "execute_result"
    }
   ],
   "source": [
    "# add filtering by customer_id and get some customer data\n",
    "id = 'BT-11530'\n",
    "data.query('customer_id == @id')[['order_date', 'sales']]"
   ]
  },
  {
   "cell_type": "code",
   "execution_count": 108,
   "metadata": {},
   "outputs": [
    {
     "data": {
      "text/plain": [
       "2684.4919999999997"
      ]
     },
     "execution_count": 108,
     "metadata": {},
     "output_type": "execute_result"
    }
   ],
   "source": [
    "# calculate the sum of his orders\n",
    "data.query('customer_id == @id')['sales'].sum()"
   ]
  },
  {
   "attachments": {},
   "cell_type": "markdown",
   "metadata": {},
   "source": [
    "#### Filtering the sum of orders by States and Customers"
   ]
  },
  {
   "cell_type": "code",
   "execution_count": 159,
   "metadata": {},
   "outputs": [
    {
     "data": {
      "text/html": [
       "<div>\n",
       "<style scoped>\n",
       "    .dataframe tbody tr th:only-of-type {\n",
       "        vertical-align: middle;\n",
       "    }\n",
       "\n",
       "    .dataframe tbody tr th {\n",
       "        vertical-align: top;\n",
       "    }\n",
       "\n",
       "    .dataframe thead th {\n",
       "        text-align: right;\n",
       "    }\n",
       "</style>\n",
       "<table border=\"1\" class=\"dataframe\">\n",
       "  <thead>\n",
       "    <tr style=\"text-align: right;\">\n",
       "      <th></th>\n",
       "      <th>customer_id</th>\n",
       "      <th>sum</th>\n",
       "    </tr>\n",
       "  </thead>\n",
       "  <tbody>\n",
       "    <tr>\n",
       "      <th>0</th>\n",
       "      <td>AB-10255</td>\n",
       "      <td>914.5</td>\n",
       "    </tr>\n",
       "    <tr>\n",
       "      <th>1</th>\n",
       "      <td>AG-10390</td>\n",
       "      <td>200.9</td>\n",
       "    </tr>\n",
       "    <tr>\n",
       "      <th>2</th>\n",
       "      <td>BE-11410</td>\n",
       "      <td>2,261.4</td>\n",
       "    </tr>\n",
       "    <tr>\n",
       "      <th>3</th>\n",
       "      <td>BG-11695</td>\n",
       "      <td>1,874.2</td>\n",
       "    </tr>\n",
       "    <tr>\n",
       "      <th>4</th>\n",
       "      <td>BM-11785</td>\n",
       "      <td>1,338.8</td>\n",
       "    </tr>\n",
       "  </tbody>\n",
       "</table>\n",
       "</div>"
      ],
      "text/plain": [
       "  customer_id     sum\n",
       "0    AB-10255   914.5\n",
       "1    AG-10390   200.9\n",
       "2    BE-11410 2,261.4\n",
       "3    BG-11695 1,874.2\n",
       "4    BM-11785 1,338.8"
      ]
     },
     "execution_count": 159,
     "metadata": {},
     "output_type": "execute_result"
    }
   ],
   "source": [
    "States = ['Tennessee', 'Ohio']\n",
    "\n",
    "# Filter customers by state\n",
    "filtered_customers = customers.query('state in @States')\n",
    "\n",
    "# Filter orders by filtered_customer_id\n",
    "filtered_customers_id = filtered_customers['id']\n",
    "filtered_data = data.query('customer_id in @filtered_customers_id')\n",
    "\n",
    "# Группируем по customer_id и вычисляем sum of sales.\n",
    "# Чтобы создать из этого датафрейм со значениями customer_id и sum, нужно добавить .reset_index().\n",
    "# Иначе результирующий объект будет Series с «customer_id» в качестве индекса и суммой продаж в качестве значений.\n",
    "# We group data by customer_id and calculate the sum of sales.\n",
    "# To create a dataframe from this with the customer_id and sum columns, we need to add .reset_index().\n",
    "# Otherwise the resulting object will be a Series with \"customer_id\" as index and the Sum of sales as values.\n",
    "grouped_data = filtered_data.groupby('customer_id')['sales'].sum().reset_index()\n",
    "\n",
    "# Rename column\n",
    "grouped_data = grouped_data.rename(columns={'sales': 'sum'})\n",
    "\n",
    "# Sort in descending order by customer_id\n",
    "grouped_data.sort_values(by='customer_id').head()\n"
   ]
  },
  {
   "attachments": {},
   "cell_type": "markdown",
   "metadata": {},
   "source": [
    "Merge tables with customers and orders. Dataframes are joining using the .concat(), .merge() and .join() methods. They all do the same thing, but differ in syntax."
   ]
  },
  {
   "cell_type": "code",
   "execution_count": 173,
   "metadata": {},
   "outputs": [
    {
     "data": {
      "text/html": [
       "<div>\n",
       "<style scoped>\n",
       "    .dataframe tbody tr th:only-of-type {\n",
       "        vertical-align: middle;\n",
       "    }\n",
       "\n",
       "    .dataframe tbody tr th {\n",
       "        vertical-align: top;\n",
       "    }\n",
       "\n",
       "    .dataframe thead th {\n",
       "        text-align: right;\n",
       "    }\n",
       "</style>\n",
       "<table border=\"1\" class=\"dataframe\">\n",
       "  <thead>\n",
       "    <tr style=\"text-align: right;\">\n",
       "      <th></th>\n",
       "      <th>id</th>\n",
       "      <th>order_date</th>\n",
       "      <th>ship_mode</th>\n",
       "      <th>customer_id</th>\n",
       "      <th>sales</th>\n",
       "      <th>name</th>\n",
       "      <th>segment</th>\n",
       "      <th>state</th>\n",
       "      <th>city</th>\n",
       "    </tr>\n",
       "  </thead>\n",
       "  <tbody>\n",
       "    <tr>\n",
       "      <th>0</th>\n",
       "      <td>100006</td>\n",
       "      <td>2014-09-07</td>\n",
       "      <td>Standard</td>\n",
       "      <td>DK-13375</td>\n",
       "      <td>378.0</td>\n",
       "      <td>Dennis Kane</td>\n",
       "      <td>Consumer</td>\n",
       "      <td>Ohio</td>\n",
       "      <td>Marion</td>\n",
       "    </tr>\n",
       "    <tr>\n",
       "      <th>1</th>\n",
       "      <td>131884</td>\n",
       "      <td>2015-12-06</td>\n",
       "      <td>Same Day</td>\n",
       "      <td>DK-13375</td>\n",
       "      <td>594.0</td>\n",
       "      <td>Dennis Kane</td>\n",
       "      <td>Consumer</td>\n",
       "      <td>Ohio</td>\n",
       "      <td>Marion</td>\n",
       "    </tr>\n",
       "    <tr>\n",
       "      <th>2</th>\n",
       "      <td>145065</td>\n",
       "      <td>2015-12-12</td>\n",
       "      <td>First</td>\n",
       "      <td>DK-13375</td>\n",
       "      <td>32.3</td>\n",
       "      <td>Dennis Kane</td>\n",
       "      <td>Consumer</td>\n",
       "      <td>Ohio</td>\n",
       "      <td>Marion</td>\n",
       "    </tr>\n",
       "  </tbody>\n",
       "</table>\n",
       "</div>"
      ],
      "text/plain": [
       "       id order_date ship_mode customer_id  sales         name   segment  \\\n",
       "0  100006 2014-09-07  Standard    DK-13375  378.0  Dennis Kane  Consumer   \n",
       "1  131884 2015-12-06  Same Day    DK-13375  594.0  Dennis Kane  Consumer   \n",
       "2  145065 2015-12-12     First    DK-13375   32.3  Dennis Kane  Consumer   \n",
       "\n",
       "  state    city  \n",
       "0  Ohio  Marion  \n",
       "1  Ohio  Marion  \n",
       "2  Ohio  Marion  "
      ]
     },
     "execution_count": 173,
     "metadata": {},
     "output_type": "execute_result"
    }
   ],
   "source": [
    "# rename the id column in customers to customer_id to avoid duplication of columns\n",
    "customers = customers.rename(columns={'id': 'customer_id'})\n",
    "# join the tables by customer_id via inner join\n",
    "new_df = pd.merge(data, customers, how='inner', on='customer_id')\n",
    "new_df.head(3)"
   ]
  },
  {
   "cell_type": "code",
   "execution_count": 187,
   "metadata": {},
   "outputs": [
    {
     "data": {
      "text/html": [
       "<div>\n",
       "<style scoped>\n",
       "    .dataframe tbody tr th:only-of-type {\n",
       "        vertical-align: middle;\n",
       "    }\n",
       "\n",
       "    .dataframe tbody tr th {\n",
       "        vertical-align: top;\n",
       "    }\n",
       "\n",
       "    .dataframe thead th {\n",
       "        text-align: right;\n",
       "    }\n",
       "</style>\n",
       "<table border=\"1\" class=\"dataframe\">\n",
       "  <thead>\n",
       "    <tr style=\"text-align: right;\">\n",
       "      <th></th>\n",
       "      <th>city</th>\n",
       "      <th>sales</th>\n",
       "    </tr>\n",
       "  </thead>\n",
       "  <tbody>\n",
       "    <tr>\n",
       "      <th>0</th>\n",
       "      <td>New York City</td>\n",
       "      <td>53,094.1</td>\n",
       "    </tr>\n",
       "    <tr>\n",
       "      <th>1</th>\n",
       "      <td>Philadelphia</td>\n",
       "      <td>39,895.5</td>\n",
       "    </tr>\n",
       "    <tr>\n",
       "      <th>2</th>\n",
       "      <td>Seattle</td>\n",
       "      <td>33,955.5</td>\n",
       "    </tr>\n",
       "    <tr>\n",
       "      <th>3</th>\n",
       "      <td>Los Angeles</td>\n",
       "      <td>33,611.1</td>\n",
       "    </tr>\n",
       "    <tr>\n",
       "      <th>4</th>\n",
       "      <td>San Francisco</td>\n",
       "      <td>27,990.0</td>\n",
       "    </tr>\n",
       "  </tbody>\n",
       "</table>\n",
       "</div>"
      ],
      "text/plain": [
       "            city    sales\n",
       "0  New York City 53,094.1\n",
       "1   Philadelphia 39,895.5\n",
       "2        Seattle 33,955.5\n",
       "3    Los Angeles 33,611.1\n",
       "4  San Francisco 27,990.0"
      ]
     },
     "execution_count": 187,
     "metadata": {},
     "output_type": "execute_result"
    }
   ],
   "source": [
    "# Find 5 cities with the largest revenue in 2016.\n",
    "# Since we have already converted the date column to datetime, we filter the data by year.\n",
    "# The Pandas Series.dt.year attribute returns a numpy array containing the year.\n",
    "filtered_df = new_df[new_df['order_date'].dt.year == 2016]\n",
    "\n",
    "# Now display the result: group by city, sum sales, sort in descending order,\n",
    "# convert to a dataframe, reset the index and set the ordinal numbering, and then display the top 5 cities.\n",
    "filtered_df.groupby('city')['sales'].sum().sort_values(ascending=False).reset_index().head()"
   ]
  },
  {
   "cell_type": "markdown",
   "metadata": {},
   "source": [
    "####  How many orders shipped first class in the last 5 years?"
   ]
  },
  {
   "cell_type": "code",
   "execution_count": 206,
   "metadata": {},
   "outputs": [
    {
     "data": {
      "text/plain": [
       "787"
      ]
     },
     "execution_count": 206,
     "metadata": {},
     "output_type": "execute_result"
    }
   ],
   "source": [
    "# see what years are presented in the table\n",
    "data['order_date'].dt.year.unique()\n",
    "# Output: array([2014, 2015, 2016, 2017], dtype=int64)\n",
    "\n",
    "# We only have data for 4 years, so filtering will only occur by shipping class\n",
    "Delivery_class = 'First'\n",
    "data.query('ship_mode == @Delivery_class')['id'].count()"
   ]
  },
  {
   "cell_type": "markdown",
   "metadata": {},
   "source": [
    "#### How many clients are from California?"
   ]
  },
  {
   "cell_type": "code",
   "execution_count": 218,
   "metadata": {},
   "outputs": [
    {
     "name": "stdout",
     "output_type": "stream",
     "text": [
      "161 clients from California made 1006 orders.\n"
     ]
    }
   ],
   "source": [
    "# Attach the state column to the orders table\n",
    "df_with_state = pd.merge(data, customers[['customer_id', 'state']], how='left', on='customer_id')\n",
    "df_with_state.head()\n",
    "\n",
    "# Let's count the total number of rows with the entry \"California\", which means all customer_id values, including duplicate ones.\n",
    "California_clients = df_with_state.query('state == \"California\"')['customer_id'].count()\n",
    "# But the nunique() function returns the number of unique values in the specified column.\n",
    "California_clients = df_with_state.query('state == \"California\"')['customer_id'].nunique()\n",
    "\n",
    "# How many orders did they make?\n",
    "orders_count = df_with_state.query('state == \"California\"')['id'].count()\n",
    "\n",
    "# Print results\n",
    "print(f'{California_clients} clients from California made {orders_count} orders.')"
   ]
  },
  {
   "cell_type": "markdown",
   "metadata": {},
   "source": [
    "#### Build a summary table of average checks, count and sum of orders for all states by year."
   ]
  },
  {
   "cell_type": "code",
   "execution_count": 232,
   "metadata": {},
   "outputs": [
    {
     "data": {
      "text/html": [
       "<div>\n",
       "<style scoped>\n",
       "    .dataframe tbody tr th:only-of-type {\n",
       "        vertical-align: middle;\n",
       "    }\n",
       "\n",
       "    .dataframe tbody tr th {\n",
       "        vertical-align: top;\n",
       "    }\n",
       "\n",
       "    .dataframe thead th {\n",
       "        text-align: right;\n",
       "    }\n",
       "</style>\n",
       "<table border=\"1\" class=\"dataframe\">\n",
       "  <thead>\n",
       "    <tr style=\"text-align: right;\">\n",
       "      <th></th>\n",
       "      <th></th>\n",
       "      <th>sum</th>\n",
       "      <th>count</th>\n",
       "      <th>mean</th>\n",
       "    </tr>\n",
       "    <tr>\n",
       "      <th>state</th>\n",
       "      <th>order_date</th>\n",
       "      <th></th>\n",
       "      <th></th>\n",
       "      <th></th>\n",
       "    </tr>\n",
       "  </thead>\n",
       "  <tbody>\n",
       "    <tr>\n",
       "      <th rowspan=\"4\" valign=\"top\">Alabama</th>\n",
       "      <th>2014</th>\n",
       "      <td>3,829.7</td>\n",
       "      <td>9</td>\n",
       "      <td>425.5</td>\n",
       "    </tr>\n",
       "    <tr>\n",
       "      <th>2015</th>\n",
       "      <td>6,016.4</td>\n",
       "      <td>12</td>\n",
       "      <td>501.4</td>\n",
       "    </tr>\n",
       "    <tr>\n",
       "      <th>2016</th>\n",
       "      <td>13,669.6</td>\n",
       "      <td>16</td>\n",
       "      <td>854.3</td>\n",
       "    </tr>\n",
       "    <tr>\n",
       "      <th>2017</th>\n",
       "      <td>7,523.3</td>\n",
       "      <td>18</td>\n",
       "      <td>418.0</td>\n",
       "    </tr>\n",
       "    <tr>\n",
       "      <th rowspan=\"4\" valign=\"top\">Arizona</th>\n",
       "      <th>2014</th>\n",
       "      <td>11,403.9</td>\n",
       "      <td>24</td>\n",
       "      <td>475.2</td>\n",
       "    </tr>\n",
       "    <tr>\n",
       "      <th>2015</th>\n",
       "      <td>21,801.6</td>\n",
       "      <td>31</td>\n",
       "      <td>703.3</td>\n",
       "    </tr>\n",
       "    <tr>\n",
       "      <th>2016</th>\n",
       "      <td>23,069.1</td>\n",
       "      <td>33</td>\n",
       "      <td>699.1</td>\n",
       "    </tr>\n",
       "    <tr>\n",
       "      <th>2017</th>\n",
       "      <td>25,711.6</td>\n",
       "      <td>48</td>\n",
       "      <td>535.7</td>\n",
       "    </tr>\n",
       "    <tr>\n",
       "      <th rowspan=\"2\" valign=\"top\">Arkansas</th>\n",
       "      <th>2014</th>\n",
       "      <td>3,294.0</td>\n",
       "      <td>3</td>\n",
       "      <td>1,098.0</td>\n",
       "    </tr>\n",
       "    <tr>\n",
       "      <th>2015</th>\n",
       "      <td>111.7</td>\n",
       "      <td>2</td>\n",
       "      <td>55.8</td>\n",
       "    </tr>\n",
       "  </tbody>\n",
       "</table>\n",
       "</div>"
      ],
      "text/plain": [
       "                         sum  count    mean\n",
       "state    order_date                        \n",
       "Alabama  2014        3,829.7      9   425.5\n",
       "         2015        6,016.4     12   501.4\n",
       "         2016       13,669.6     16   854.3\n",
       "         2017        7,523.3     18   418.0\n",
       "Arizona  2014       11,403.9     24   475.2\n",
       "         2015       21,801.6     31   703.3\n",
       "         2016       23,069.1     33   699.1\n",
       "         2017       25,711.6     48   535.7\n",
       "Arkansas 2014        3,294.0      3 1,098.0\n",
       "         2015          111.7      2    55.8"
      ]
     },
     "execution_count": 232,
     "metadata": {},
     "output_type": "execute_result"
    }
   ],
   "source": [
    "# We will use the .agg() method, firstly, it will count all the necessary metrics,\n",
    "# and secondly, it returns a DataFrame, unlike .sum()\n",
    "summary_table_by_year = df_with_state.groupby(['state', df_with_state['order_date'].dt.year])['sales'].agg(['sum', 'count', 'mean'])\n",
    "summary_table_by_year.head(10)"
   ]
  },
  {
   "attachments": {},
   "cell_type": "markdown",
   "metadata": {},
   "source": [
    "### Cohort data analysis"
   ]
  },
  {
   "cell_type": "code",
   "execution_count": 234,
   "metadata": {},
   "outputs": [
    {
     "data": {
      "text/html": [
       "<div>\n",
       "<style scoped>\n",
       "    .dataframe tbody tr th:only-of-type {\n",
       "        vertical-align: middle;\n",
       "    }\n",
       "\n",
       "    .dataframe tbody tr th {\n",
       "        vertical-align: top;\n",
       "    }\n",
       "\n",
       "    .dataframe thead th {\n",
       "        text-align: right;\n",
       "    }\n",
       "</style>\n",
       "<table border=\"1\" class=\"dataframe\">\n",
       "  <thead>\n",
       "    <tr style=\"text-align: right;\">\n",
       "      <th></th>\n",
       "      <th>sum</th>\n",
       "      <th>count</th>\n",
       "    </tr>\n",
       "    <tr>\n",
       "      <th>customer_id</th>\n",
       "      <th></th>\n",
       "      <th></th>\n",
       "    </tr>\n",
       "  </thead>\n",
       "  <tbody>\n",
       "    <tr>\n",
       "      <th>AA-10315</th>\n",
       "      <td>5,563.6</td>\n",
       "      <td>5</td>\n",
       "    </tr>\n",
       "    <tr>\n",
       "      <th>AA-10375</th>\n",
       "      <td>1,056.4</td>\n",
       "      <td>9</td>\n",
       "    </tr>\n",
       "    <tr>\n",
       "      <th>AA-10480</th>\n",
       "      <td>1,790.5</td>\n",
       "      <td>4</td>\n",
       "    </tr>\n",
       "    <tr>\n",
       "      <th>AA-10645</th>\n",
       "      <td>5,086.9</td>\n",
       "      <td>6</td>\n",
       "    </tr>\n",
       "    <tr>\n",
       "      <th>AB-10015</th>\n",
       "      <td>886.2</td>\n",
       "      <td>3</td>\n",
       "    </tr>\n",
       "  </tbody>\n",
       "</table>\n",
       "</div>"
      ],
      "text/plain": [
       "                sum  count\n",
       "customer_id               \n",
       "AA-10315    5,563.6      5\n",
       "AA-10375    1,056.4      9\n",
       "AA-10480    1,790.5      4\n",
       "AA-10645    5,086.9      6\n",
       "AB-10015      886.2      3"
      ]
     },
     "execution_count": 234,
     "metadata": {},
     "output_type": "execute_result"
    }
   ],
   "source": [
    "# Let's calculate the total revenue and the number of orders for each customer\n",
    "data.groupby('customer_id')['sales'].agg(['sum', 'count']).head()"
   ]
  },
  {
   "cell_type": "markdown",
   "metadata": {},
   "source": [
    "#### Calculate the date of the first purchase"
   ]
  },
  {
   "cell_type": "code",
   "execution_count": 244,
   "metadata": {},
   "outputs": [
    {
     "data": {
      "text/html": [
       "<div>\n",
       "<style scoped>\n",
       "    .dataframe tbody tr th:only-of-type {\n",
       "        vertical-align: middle;\n",
       "    }\n",
       "\n",
       "    .dataframe tbody tr th {\n",
       "        vertical-align: top;\n",
       "    }\n",
       "\n",
       "    .dataframe thead th {\n",
       "        text-align: right;\n",
       "    }\n",
       "</style>\n",
       "<table border=\"1\" class=\"dataframe\">\n",
       "  <thead>\n",
       "    <tr style=\"text-align: right;\">\n",
       "      <th></th>\n",
       "      <th>customer_id</th>\n",
       "      <th>first_order</th>\n",
       "    </tr>\n",
       "  </thead>\n",
       "  <tbody>\n",
       "    <tr>\n",
       "      <th>0</th>\n",
       "      <td>AA-10315</td>\n",
       "      <td>2014-03-31</td>\n",
       "    </tr>\n",
       "    <tr>\n",
       "      <th>1</th>\n",
       "      <td>AA-10375</td>\n",
       "      <td>2014-04-21</td>\n",
       "    </tr>\n",
       "    <tr>\n",
       "      <th>2</th>\n",
       "      <td>AA-10480</td>\n",
       "      <td>2014-05-04</td>\n",
       "    </tr>\n",
       "    <tr>\n",
       "      <th>3</th>\n",
       "      <td>AA-10645</td>\n",
       "      <td>2014-06-22</td>\n",
       "    </tr>\n",
       "    <tr>\n",
       "      <th>4</th>\n",
       "      <td>AB-10015</td>\n",
       "      <td>2014-02-18</td>\n",
       "    </tr>\n",
       "  </tbody>\n",
       "</table>\n",
       "</div>"
      ],
      "text/plain": [
       "  customer_id first_order\n",
       "0    AA-10315  2014-03-31\n",
       "1    AA-10375  2014-04-21\n",
       "2    AA-10480  2014-05-04\n",
       "3    AA-10645  2014-06-22\n",
       "4    AB-10015  2014-02-18"
      ]
     },
     "execution_count": 244,
     "metadata": {},
     "output_type": "execute_result"
    }
   ],
   "source": [
    "# To calculate the date of the first purchase of each user, group the data by customer_id\n",
    "# and find the min value of the order_date field. The result will save in the first_orders variable \n",
    "\n",
    "# In these lines we get same result, but we need to rename the min column to first_order\n",
    "first_orders = data.groupby('customer_id')['order_date'].agg(['min'])\n",
    "first_orders = data.groupby('customer_id')['order_date'].min().rename('first_order').reset_index()\n",
    "\n",
    "first_orders.head()"
   ]
  },
  {
   "attachments": {},
   "cell_type": "markdown",
   "metadata": {},
   "source": [
    "#### Building cohorts\n",
    "Cohorts here - people who made their first purchase on a given day. Tracking metrics - number of orders and revenue.\n",
    "\n",
    " we calculate the revenue and the number of orders for each cohort."
   ]
  },
  {
   "cell_type": "code",
   "execution_count": 246,
   "metadata": {},
   "outputs": [
    {
     "data": {
      "text/html": [
       "<div>\n",
       "<style scoped>\n",
       "    .dataframe tbody tr th:only-of-type {\n",
       "        vertical-align: middle;\n",
       "    }\n",
       "\n",
       "    .dataframe tbody tr th {\n",
       "        vertical-align: top;\n",
       "    }\n",
       "\n",
       "    .dataframe thead th {\n",
       "        text-align: right;\n",
       "    }\n",
       "</style>\n",
       "<table border=\"1\" class=\"dataframe\">\n",
       "  <thead>\n",
       "    <tr style=\"text-align: right;\">\n",
       "      <th></th>\n",
       "      <th>id</th>\n",
       "      <th>order_date</th>\n",
       "      <th>ship_mode</th>\n",
       "      <th>customer_id</th>\n",
       "      <th>sales</th>\n",
       "      <th>first_order</th>\n",
       "    </tr>\n",
       "  </thead>\n",
       "  <tbody>\n",
       "    <tr>\n",
       "      <th>0</th>\n",
       "      <td>100006</td>\n",
       "      <td>2014-09-07</td>\n",
       "      <td>Standard</td>\n",
       "      <td>DK-13375</td>\n",
       "      <td>378.0</td>\n",
       "      <td>2014-09-07</td>\n",
       "    </tr>\n",
       "    <tr>\n",
       "      <th>1</th>\n",
       "      <td>131884</td>\n",
       "      <td>2015-12-06</td>\n",
       "      <td>Same Day</td>\n",
       "      <td>DK-13375</td>\n",
       "      <td>594.0</td>\n",
       "      <td>2014-09-07</td>\n",
       "    </tr>\n",
       "    <tr>\n",
       "      <th>2</th>\n",
       "      <td>145065</td>\n",
       "      <td>2015-12-12</td>\n",
       "      <td>First</td>\n",
       "      <td>DK-13375</td>\n",
       "      <td>32.3</td>\n",
       "      <td>2014-09-07</td>\n",
       "    </tr>\n",
       "    <tr>\n",
       "      <th>3</th>\n",
       "      <td>133046</td>\n",
       "      <td>2017-07-27</td>\n",
       "      <td>Second</td>\n",
       "      <td>DK-13375</td>\n",
       "      <td>298.0</td>\n",
       "      <td>2014-09-07</td>\n",
       "    </tr>\n",
       "    <tr>\n",
       "      <th>4</th>\n",
       "      <td>165099</td>\n",
       "      <td>2017-12-11</td>\n",
       "      <td>First</td>\n",
       "      <td>DK-13375</td>\n",
       "      <td>1.4</td>\n",
       "      <td>2014-09-07</td>\n",
       "    </tr>\n",
       "  </tbody>\n",
       "</table>\n",
       "</div>"
      ],
      "text/plain": [
       "       id order_date ship_mode customer_id  sales first_order\n",
       "0  100006 2014-09-07  Standard    DK-13375  378.0  2014-09-07\n",
       "1  131884 2015-12-06  Same Day    DK-13375  594.0  2014-09-07\n",
       "2  145065 2015-12-12     First    DK-13375   32.3  2014-09-07\n",
       "3  133046 2017-07-27    Second    DK-13375  298.0  2014-09-07\n",
       "4  165099 2017-12-11     First    DK-13375    1.4  2014-09-07"
      ]
     },
     "execution_count": 246,
     "metadata": {},
     "output_type": "execute_result"
    }
   ],
   "source": [
    "# First, we add the date of the first purchase by users to the table with orders.\n",
    "orders_merged = data.merge(first_orders, how='inner', on='customer_id')\n",
    "\n",
    "orders_merged.head()"
   ]
  },
  {
   "cell_type": "code",
   "execution_count": 249,
   "metadata": {},
   "outputs": [
    {
     "data": {
      "text/html": [
       "<div>\n",
       "<style scoped>\n",
       "    .dataframe tbody tr th:only-of-type {\n",
       "        vertical-align: middle;\n",
       "    }\n",
       "\n",
       "    .dataframe tbody tr th {\n",
       "        vertical-align: top;\n",
       "    }\n",
       "\n",
       "    .dataframe thead th {\n",
       "        text-align: right;\n",
       "    }\n",
       "</style>\n",
       "<table border=\"1\" class=\"dataframe\">\n",
       "  <thead>\n",
       "    <tr style=\"text-align: right;\">\n",
       "      <th></th>\n",
       "      <th></th>\n",
       "      <th>sum</th>\n",
       "      <th>count</th>\n",
       "    </tr>\n",
       "    <tr>\n",
       "      <th>first_order</th>\n",
       "      <th>order_date</th>\n",
       "      <th></th>\n",
       "      <th></th>\n",
       "    </tr>\n",
       "  </thead>\n",
       "  <tbody>\n",
       "    <tr>\n",
       "      <th rowspan=\"9\" valign=\"top\">2014-01-03</th>\n",
       "      <th>2014-01-03</th>\n",
       "      <td>16.4</td>\n",
       "      <td>1</td>\n",
       "    </tr>\n",
       "    <tr>\n",
       "      <th>2014-11-12</th>\n",
       "      <td>153.1</td>\n",
       "      <td>1</td>\n",
       "    </tr>\n",
       "    <tr>\n",
       "      <th>2015-04-18</th>\n",
       "      <td>209.6</td>\n",
       "      <td>1</td>\n",
       "    </tr>\n",
       "    <tr>\n",
       "      <th>2015-11-24</th>\n",
       "      <td>383.6</td>\n",
       "      <td>1</td>\n",
       "    </tr>\n",
       "    <tr>\n",
       "      <th>2016-05-15</th>\n",
       "      <td>7.8</td>\n",
       "      <td>1</td>\n",
       "    </tr>\n",
       "    <tr>\n",
       "      <th>2016-11-14</th>\n",
       "      <td>37.6</td>\n",
       "      <td>1</td>\n",
       "    </tr>\n",
       "    <tr>\n",
       "      <th>2017-03-04</th>\n",
       "      <td>89.6</td>\n",
       "      <td>1</td>\n",
       "    </tr>\n",
       "    <tr>\n",
       "      <th>2017-05-14</th>\n",
       "      <td>88.0</td>\n",
       "      <td>1</td>\n",
       "    </tr>\n",
       "    <tr>\n",
       "      <th>2017-08-26</th>\n",
       "      <td>65.0</td>\n",
       "      <td>1</td>\n",
       "    </tr>\n",
       "    <tr>\n",
       "      <th rowspan=\"3\" valign=\"top\">2014-01-04</th>\n",
       "      <th>2014-01-04</th>\n",
       "      <td>288.1</td>\n",
       "      <td>1</td>\n",
       "    </tr>\n",
       "    <tr>\n",
       "      <th>2015-09-25</th>\n",
       "      <td>183.4</td>\n",
       "      <td>1</td>\n",
       "    </tr>\n",
       "    <tr>\n",
       "      <th>2015-11-20</th>\n",
       "      <td>344.4</td>\n",
       "      <td>1</td>\n",
       "    </tr>\n",
       "  </tbody>\n",
       "</table>\n",
       "</div>"
      ],
      "text/plain": [
       "                         sum  count\n",
       "first_order order_date             \n",
       "2014-01-03  2014-01-03  16.4      1\n",
       "            2014-11-12 153.1      1\n",
       "            2015-04-18 209.6      1\n",
       "            2015-11-24 383.6      1\n",
       "            2016-05-15   7.8      1\n",
       "            2016-11-14  37.6      1\n",
       "            2017-03-04  89.6      1\n",
       "            2017-05-14  88.0      1\n",
       "            2017-08-26  65.0      1\n",
       "2014-01-04  2014-01-04 288.1      1\n",
       "            2015-09-25 183.4      1\n",
       "            2015-11-20 344.4      1"
      ]
     },
     "execution_count": 249,
     "metadata": {},
     "output_type": "execute_result"
    }
   ],
   "source": [
    "# Aggregate by the first_order date and by order_date and calculate the necessary indicators:\n",
    "orders_cohorts = orders_merged.groupby(['first_order', 'order_date'])['sales'].agg(['sum','count'])\n",
    "orders_cohorts.head(12)"
   ]
  },
  {
   "cell_type": "markdown",
   "metadata": {},
   "source": [
    "##### The first order of the first cohort was on January 3 for $16. The next time a customer came back almost a year later, with $153 purchase."
   ]
  },
  {
   "attachments": {},
   "cell_type": "markdown",
   "metadata": {},
   "source": [
    "### The cohorts are ready, now let's calculate the numbers for the first year of the cohort's life.\n",
    "\n",
    "We know how much the store has earned from each cohort over time.\n",
    "\n",
    "First, we find out how many days passed between the first purchase and the next order, and delete those orders that happened after 365 days. To calculate the number of days between orders, subtract the first_order column from the order_date column."
   ]
  },
  {
   "cell_type": "code",
   "execution_count": 254,
   "metadata": {},
   "outputs": [
    {
     "data": {
      "text/plain": [
       "0        True\n",
       "1       False\n",
       "2       False\n",
       "3       False\n",
       "4       False\n",
       "        ...  \n",
       "5004     True\n",
       "5005     True\n",
       "5006    False\n",
       "5007     True\n",
       "5008    False\n",
       "Length: 5009, dtype: bool"
      ]
     },
     "execution_count": 254,
     "metadata": {},
     "output_type": "execute_result"
    }
   ],
   "source": [
    "# Create a filter with condition(boolean table)\n",
    "year_1_filter = orders_merged['order_date'] - orders_merged['first_order'] <= '365 days'\n",
    "year_1_filter"
   ]
  },
  {
   "cell_type": "code",
   "execution_count": 256,
   "metadata": {},
   "outputs": [
    {
     "data": {
      "text/html": [
       "<div>\n",
       "<style scoped>\n",
       "    .dataframe tbody tr th:only-of-type {\n",
       "        vertical-align: middle;\n",
       "    }\n",
       "\n",
       "    .dataframe tbody tr th {\n",
       "        vertical-align: top;\n",
       "    }\n",
       "\n",
       "    .dataframe thead th {\n",
       "        text-align: right;\n",
       "    }\n",
       "</style>\n",
       "<table border=\"1\" class=\"dataframe\">\n",
       "  <thead>\n",
       "    <tr style=\"text-align: right;\">\n",
       "      <th></th>\n",
       "      <th>id</th>\n",
       "      <th>order_date</th>\n",
       "      <th>ship_mode</th>\n",
       "      <th>customer_id</th>\n",
       "      <th>sales</th>\n",
       "      <th>first_order</th>\n",
       "    </tr>\n",
       "  </thead>\n",
       "  <tbody>\n",
       "    <tr>\n",
       "      <th>0</th>\n",
       "      <td>100006</td>\n",
       "      <td>2014-09-07</td>\n",
       "      <td>Standard</td>\n",
       "      <td>DK-13375</td>\n",
       "      <td>378.0</td>\n",
       "      <td>2014-09-07</td>\n",
       "    </tr>\n",
       "    <tr>\n",
       "      <th>8</th>\n",
       "      <td>100090</td>\n",
       "      <td>2014-07-08</td>\n",
       "      <td>Standard</td>\n",
       "      <td>EB-13705</td>\n",
       "      <td>699.2</td>\n",
       "      <td>2014-07-08</td>\n",
       "    </tr>\n",
       "    <tr>\n",
       "      <th>9</th>\n",
       "      <td>129938</td>\n",
       "      <td>2014-12-15</td>\n",
       "      <td>Second</td>\n",
       "      <td>EB-13705</td>\n",
       "      <td>445.8</td>\n",
       "      <td>2014-07-08</td>\n",
       "    </tr>\n",
       "    <tr>\n",
       "      <th>11</th>\n",
       "      <td>128125</td>\n",
       "      <td>2015-03-31</td>\n",
       "      <td>Standard</td>\n",
       "      <td>EB-13705</td>\n",
       "      <td>120.8</td>\n",
       "      <td>2014-07-08</td>\n",
       "    </tr>\n",
       "    <tr>\n",
       "      <th>17</th>\n",
       "      <td>100293</td>\n",
       "      <td>2014-03-14</td>\n",
       "      <td>Standard</td>\n",
       "      <td>NF-18475</td>\n",
       "      <td>91.1</td>\n",
       "      <td>2014-03-14</td>\n",
       "    </tr>\n",
       "  </tbody>\n",
       "</table>\n",
       "</div>"
      ],
      "text/plain": [
       "        id order_date ship_mode customer_id  sales first_order\n",
       "0   100006 2014-09-07  Standard    DK-13375  378.0  2014-09-07\n",
       "8   100090 2014-07-08  Standard    EB-13705  699.2  2014-07-08\n",
       "9   129938 2014-12-15    Second    EB-13705  445.8  2014-07-08\n",
       "11  128125 2015-03-31  Standard    EB-13705  120.8  2014-07-08\n",
       "17  100293 2014-03-14  Standard    NF-18475   91.1  2014-03-14"
      ]
     },
     "execution_count": 256,
     "metadata": {},
     "output_type": "execute_result"
    }
   ],
   "source": [
    "# Filter out unnecessary orders from the cohort table and store the result in the year_1_orders table.\n",
    "# Just add the filter to brackets instead of a condition\n",
    "year_1_orders = orders_merged[year_1_filter]\n",
    "year_1_orders.head()"
   ]
  },
  {
   "cell_type": "code",
   "execution_count": 259,
   "metadata": {},
   "outputs": [
    {
     "data": {
      "text/html": [
       "<div>\n",
       "<style scoped>\n",
       "    .dataframe tbody tr th:only-of-type {\n",
       "        vertical-align: middle;\n",
       "    }\n",
       "\n",
       "    .dataframe tbody tr th {\n",
       "        vertical-align: top;\n",
       "    }\n",
       "\n",
       "    .dataframe thead th {\n",
       "        text-align: right;\n",
       "    }\n",
       "</style>\n",
       "<table border=\"1\" class=\"dataframe\">\n",
       "  <thead>\n",
       "    <tr style=\"text-align: right;\">\n",
       "      <th></th>\n",
       "      <th></th>\n",
       "      <th>sum</th>\n",
       "      <th>count</th>\n",
       "    </tr>\n",
       "    <tr>\n",
       "      <th>first_order</th>\n",
       "      <th>order_date</th>\n",
       "      <th></th>\n",
       "      <th></th>\n",
       "    </tr>\n",
       "  </thead>\n",
       "  <tbody>\n",
       "    <tr>\n",
       "      <th rowspan=\"2\" valign=\"top\">2014-01-03</th>\n",
       "      <th>2014-01-03</th>\n",
       "      <td>16.4</td>\n",
       "      <td>1</td>\n",
       "    </tr>\n",
       "    <tr>\n",
       "      <th>2014-11-12</th>\n",
       "      <td>153.1</td>\n",
       "      <td>1</td>\n",
       "    </tr>\n",
       "    <tr>\n",
       "      <th>2014-01-04</th>\n",
       "      <th>2014-01-04</th>\n",
       "      <td>288.1</td>\n",
       "      <td>1</td>\n",
       "    </tr>\n",
       "    <tr>\n",
       "      <th>2014-01-05</th>\n",
       "      <th>2014-01-05</th>\n",
       "      <td>19.5</td>\n",
       "      <td>1</td>\n",
       "    </tr>\n",
       "    <tr>\n",
       "      <th>2014-01-06</th>\n",
       "      <th>2014-01-06</th>\n",
       "      <td>4,407.1</td>\n",
       "      <td>3</td>\n",
       "    </tr>\n",
       "  </tbody>\n",
       "</table>\n",
       "</div>"
      ],
      "text/plain": [
       "                           sum  count\n",
       "first_order order_date               \n",
       "2014-01-03  2014-01-03    16.4      1\n",
       "            2014-11-12   153.1      1\n",
       "2014-01-04  2014-01-04   288.1      1\n",
       "2014-01-05  2014-01-05    19.5      1\n",
       "2014-01-06  2014-01-06 4,407.1      3"
      ]
     },
     "execution_count": 259,
     "metadata": {},
     "output_type": "execute_result"
    }
   ],
   "source": [
    "# Now let's group the orders by the date of the first purchase and order_date and calculate the 'sum' and 'count' metrics.\n",
    "cohorts = year_1_orders.groupby(['first_order','order_date'])['sales'].agg(['sum', 'count'])\n",
    "cohorts.head()"
   ]
  },
  {
   "cell_type": "code",
   "execution_count": 266,
   "metadata": {},
   "outputs": [
    {
     "data": {
      "text/plain": [
       "sum     1,949.9\n",
       "count       4.0\n",
       "dtype: float64"
      ]
     },
     "execution_count": 266,
     "metadata": {},
     "output_type": "execute_result"
    }
   ],
   "source": [
    "# Last step: calculate how many orders customers bring in on average during the first year.\n",
    "# First sum the indicators of each cohort, and then average the values using the mean() method.\n",
    "# Since we did not specify which particular column to calculate the average,\n",
    "# he calculated the average amount and the average number of orders.\n",
    "cohorts.groupby(['first_order']).sum().mean()"
   ]
  }
 ],
 "metadata": {
  "kernelspec": {
   "display_name": "env",
   "language": "python",
   "name": "python3"
  },
  "language_info": {
   "codemirror_mode": {
    "name": "ipython",
    "version": 3
   },
   "file_extension": ".py",
   "mimetype": "text/x-python",
   "name": "python",
   "nbconvert_exporter": "python",
   "pygments_lexer": "ipython3",
   "version": "3.7.9"
  },
  "orig_nbformat": 4
 },
 "nbformat": 4,
 "nbformat_minor": 2
}
