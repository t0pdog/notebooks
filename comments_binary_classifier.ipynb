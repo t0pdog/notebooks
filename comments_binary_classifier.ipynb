{
 "cells": [
  {
   "attachments": {},
   "cell_type": "markdown",
   "metadata": {},
   "source": [
    "### Product task - removing harmful and offensive comments.\n",
    "We will take a dataset from Kaggle that includes comments from Russian social networks.\n",
    "\n",
    "* Machine learning task: Create a binary classifier and select precision / recall metrics for it. Precision should be 95%, which means that every 20 comments can be determined incorrectly.\n",
    "\n",
    "Steps:\n",
    "* Dataset search (take from Kaggle)\n",
    "* EDA (using pandas)\n",
    "* Text preprocessing (using nltk and scikit-learn)\n",
    "* Model training (using scikit-learn)\n",
    "* Creating Pipeline"
   ]
  },
  {
   "cell_type": "code",
   "execution_count": null,
   "metadata": {},
   "outputs": [],
   "source": [
    "import string\n",
    "\n",
    "import pandas as pd\n",
    "# Set the maximum width of the 'comment' column to 1000 characters\n",
    "pd.set_option('display.max_colwidth', 500)\n",
    "import numpy as np\n",
    "\n",
    "import plotly.express as px\n",
    "\n",
    "# It is used for splitting data into training and testing sets\n",
    "from sklearn.model_selection import train_test_split\n",
    "# Pipelines are used to chain multiple steps together in a machine learning workflow\n",
    "from sklearn.pipeline import Pipeline\n",
    "from sklearn.linear_model import LogisticRegression\n",
    "# It is used to convert text documents into numeric feature vectors\n",
    "# using TF-IDF representation (term frequency inverse of document frequency).\n",
    "from sklearn.feature_extraction.text import TfidfVectorizer\n",
    "# These functions are used to evaluate the performance of classification models.\n",
    "from sklearn.metrics import precision_score, recall_score, precision_recall_curve\n",
    "# It is used for visualizing precision-recall curves.\n",
    "from sklearn.metrics import plot_precision_recall_curve\n",
    "# It is used for cross-validation of grid search to tune machine learning model hyperparameters.\n",
    "from sklearn.model_selection import GridSearchCV\n",
    "\n",
    "# Load the nltk library for natural language processing\n",
    "import nltk\n",
    "from nltk.corpus import stopwords\n",
    "from nltk.tokenize import word_tokenize\n",
    "# Load the punkt tokenizer data from the NLTK library. Punkt tokenizer\n",
    "# is used by the word_tokenize function to split text into words or tokens.\n",
    "nltk.download('punkt')\n",
    "# It is used to form stemming words, leading them to their base or root form.\n",
    "from nltk.stem import SnowballStemmer\n"
   ]
  },
  {
   "cell_type": "code",
   "execution_count": 6,
   "metadata": {},
   "outputs": [
    {
     "data": {
      "text/plain": [
       "(                                                                                                                                                                                     comment  \\\n",
       " 0                                                                                                                                                       Верблюдов-то за что? Дебилы, бл...\\n   \n",
       " 1                                                                 Хохлы, это отдушина затюканого россиянина, мол, вон, а у хохлов еще хуже. Если бы хохлов не было, кисель их бы придумал.\\n   \n",
       " 2                                                                                                                                                                  Собаке - собачья смерть\\n   \n",
       " 3  Страницу обнови, дебил. Это тоже не оскорбление, а доказанный факт - не-дебил про себя во множественном числе писать не будет. Или мы в тебя верим - это ты и твои воображаемые друзья?\\n   \n",
       " 4                                                                  тебя не убедил 6-страничный пдф в том, что Скрипалей отравила Россия? Анализировать и думать пытаешься? Ватник что ли?)\\n   \n",
       " \n",
       "    toxic  \n",
       " 0    1.0  \n",
       " 1    1.0  \n",
       " 2    1.0  \n",
       " 3    1.0  \n",
       " 4    1.0  ,\n",
       " (14412, 2))"
      ]
     },
     "execution_count": 6,
     "metadata": {},
     "output_type": "execute_result"
    }
   ],
   "source": [
    "df = pd.read_csv('./data/comments_labeled.csv') \n",
    "df.head(), df.shape"
   ]
  },
  {
   "cell_type": "code",
   "execution_count": 7,
   "metadata": {},
   "outputs": [
    {
     "data": {
      "text/html": [
       "<div>\n",
       "<style scoped>\n",
       "    .dataframe tbody tr th:only-of-type {\n",
       "        vertical-align: middle;\n",
       "    }\n",
       "\n",
       "    .dataframe tbody tr th {\n",
       "        vertical-align: top;\n",
       "    }\n",
       "\n",
       "    .dataframe thead th {\n",
       "        text-align: right;\n",
       "    }\n",
       "</style>\n",
       "<table border=\"1\" class=\"dataframe\">\n",
       "  <thead>\n",
       "    <tr style=\"text-align: right;\">\n",
       "      <th></th>\n",
       "      <th>comment</th>\n",
       "      <th>toxic</th>\n",
       "    </tr>\n",
       "  </thead>\n",
       "  <tbody>\n",
       "    <tr>\n",
       "      <th>0</th>\n",
       "      <td>Верблюдов-то за что? Дебилы, бл...\\n</td>\n",
       "      <td>1</td>\n",
       "    </tr>\n",
       "    <tr>\n",
       "      <th>1</th>\n",
       "      <td>Хохлы, это отдушина затюканого россиянина, мол, вон, а у хохлов еще хуже. Если бы хохлов не было, кисель их бы придумал.\\n</td>\n",
       "      <td>1</td>\n",
       "    </tr>\n",
       "    <tr>\n",
       "      <th>2</th>\n",
       "      <td>Собаке - собачья смерть\\n</td>\n",
       "      <td>1</td>\n",
       "    </tr>\n",
       "    <tr>\n",
       "      <th>3</th>\n",
       "      <td>Страницу обнови, дебил. Это тоже не оскорбление, а доказанный факт - не-дебил про себя во множественном числе писать не будет. Или мы в тебя верим - это ты и твои воображаемые друзья?\\n</td>\n",
       "      <td>1</td>\n",
       "    </tr>\n",
       "    <tr>\n",
       "      <th>4</th>\n",
       "      <td>тебя не убедил 6-страничный пдф в том, что Скрипалей отравила Россия? Анализировать и думать пытаешься? Ватник что ли?)\\n</td>\n",
       "      <td>1</td>\n",
       "    </tr>\n",
       "  </tbody>\n",
       "</table>\n",
       "</div>"
      ],
      "text/plain": [
       "                                                                                                                                                                                     comment  \\\n",
       "0                                                                                                                                                       Верблюдов-то за что? Дебилы, бл...\\n   \n",
       "1                                                                 Хохлы, это отдушина затюканого россиянина, мол, вон, а у хохлов еще хуже. Если бы хохлов не было, кисель их бы придумал.\\n   \n",
       "2                                                                                                                                                                  Собаке - собачья смерть\\n   \n",
       "3  Страницу обнови, дебил. Это тоже не оскорбление, а доказанный факт - не-дебил про себя во множественном числе писать не будет. Или мы в тебя верим - это ты и твои воображаемые друзья?\\n   \n",
       "4                                                                  тебя не убедил 6-страничный пдф в том, что Скрипалей отравила Россия? Анализировать и думать пытаешься? Ватник что ли?)\\n   \n",
       "\n",
       "   toxic  \n",
       "0      1  \n",
       "1      1  \n",
       "2      1  \n",
       "3      1  \n",
       "4      1  "
      ]
     },
     "execution_count": 7,
     "metadata": {},
     "output_type": "execute_result"
    }
   ],
   "source": [
    "# convert df['toxic'] column to int\n",
    "df['toxic'] = df['toxic'].astype(int)\n",
    "df.head()"
   ]
  },
  {
   "cell_type": "code",
   "execution_count": 8,
   "metadata": {},
   "outputs": [
    {
     "data": {
      "text/plain": [
       "0    9586\n",
       "1    4826\n",
       "Name: toxic, dtype: int64"
      ]
     },
     "execution_count": 8,
     "metadata": {},
     "output_type": "execute_result"
    }
   ],
   "source": [
    "# Get the number of each unique value in the 'toxic' column\n",
    "df['toxic'].value_counts()"
   ]
  },
  {
   "cell_type": "code",
   "execution_count": 10,
   "metadata": {},
   "outputs": [
    {
     "data": {
      "text/plain": [
       "(                                                                                                                                                      comment\n",
       " 13892  Хохлы крайне примитивны, если тонко их троллить они ничего не поймут, другое дело если с ходу вбросить говно, минимум один хохол порвется и ответит.\\n\n",
       " 6776                                                                                     Почитаю твои посты на досуге и посмотрю ebay, может что и подберу)\\n\n",
       " 737                                                                         если хохлы это лахта,то они существуют страно что еще накрутчик раги не врубили\\n\n",
       " 2156               В который раз убеждаюсь, что с идиотами нельзя разговаривать как с нормальными людьми. который обосрал их игру Я её ни разу не запускал.\\n\n",
       " 10767                                                                                                  Да пидор он, доктор - А откуда у вас такие картинки?\\n,\n",
       "                                                                                                                                                                                                                                                                                                                                                                                                                                                                                                                 comment\n",
       " 6                                                                                                                                                                                                            В шапке были ссылки на инфу по текущему фильму марвел. Эти ссылки были заменены на фразу Репортим брипидора, игнорируем его посты. Если этого недостаточно, чтобы понять, что модератор абсолютный неадекват, и его нужно лишить полномочий, тогда эта борда пробивает абсолютное дно по неадекватности.\\n\n",
       " 12                                                                                                                                                                                                                                                                                                                                                                       Почитайте посты у этого автора,может найдете что нибудь полезное. Надеюсь помог) https: pikabu.ru story obyichnyie budni dezsluzhbyi 4932098\\n\n",
       " 17  Про графику было обидно) я так то проходил все серии гта со второй части по пятую, кроме гта 4. И мне не мешала графика ни в одной из частей. На компе у меня было куча видеокарт. Начиная с 32мб RIVA TNT и заканчивая 2Гб 560Ti на которой я спокойно играю который год в танки, гта5, ведьмака3 купил на распродаже и начал проходить. Да, не на ультрах. С пониженными текстурами. И не мешает. Я не понимаю дрочева на графике, требовать графику уровня плойки 4 минимум. Мне надо чтобы глаза не резало, ...\n",
       " 28                                                                                                                                                                                                                                                                                                                                                                                                                                                    https: pp.userapi.com c848520 v848520411 11627b cOhWqFbGjWE.jpg\\n\n",
       " 36                                                                                                     Может и старый, может и маразматик. Про то писать кириллицей или латинницей вам виднее, не спорю. Но как задвигают русский язык уже видно. Дальше скажут что все будет только на казахском и внезапно пол страны окажется вторым сортом. (Я надеюсь, что ошибаюсь, но это уже проходили в других странах азии, прибалтики, закавказья) А так я за мир во всем мире. Русский слон лучший друг Казахского слона.\\n)"
      ]
     },
     "execution_count": 10,
     "metadata": {},
     "output_type": "execute_result"
    }
   ],
   "source": [
    "# There are a lot of toxic comments in the dataset, but only aggressive and offensive ones are marked as bad.\n",
    "a = df[df['toxic'] == 1][['comment']].sample(5)\n",
    "b = df[df['toxic'] == 0][['comment']].head(5)\n",
    "a, b"
   ]
  },
  {
   "cell_type": "code",
   "execution_count": 11,
   "metadata": {},
   "outputs": [
    {
     "data": {
      "text/plain": [
       "((500, 2), (13912, 2))"
      ]
     },
     "execution_count": 11,
     "metadata": {},
     "output_type": "execute_result"
    }
   ],
   "source": [
    "# Divide the data into test dataframe (500 comments) and training dataframe.\n",
    "train_df, test_df = train_test_split(df, test_size=500)\n",
    "test_df.shape, train_df.shape"
   ]
  },
  {
   "cell_type": "code",
   "execution_count": 12,
   "metadata": {},
   "outputs": [
    {
     "data": {
      "text/plain": [
       "0    328\n",
       "1    172\n",
       "Name: toxic, dtype: int64"
      ]
     },
     "execution_count": 12,
     "metadata": {},
     "output_type": "execute_result"
    }
   ],
   "source": [
    "test_df['toxic'].value_counts()"
   ]
  },
  {
   "attachments": {},
   "cell_type": "markdown",
   "metadata": {},
   "source": [
    "### Text preprocessing.\n",
    "* First you need to split the text into tokens\n",
    "* Then remove stop words, punctuation marks from the text, bring the words to their initial form and remove the endings (stemming)."
   ]
  },
  {
   "cell_type": "code",
   "execution_count": 13,
   "metadata": {},
   "outputs": [],
   "source": [
    "sentence_example = df.loc[1][\"comment\"]\n",
    "# split comments into tokens (words, signs)\n",
    "tokens = word_tokenize(sentence_example, language=\"russian\")\n",
    "# remove punctuation marks\n",
    "tokens_without_punctuation = [i for i in tokens if i not in string.punctuation]\n",
    "# remove stop words\n",
    "russian_stop_words = stopwords.words(\"russian\")\n",
    "tokens_without_stop_words_and_punctuation = [i for i in tokens_without_punctuation if i not in russian_stop_words]\n",
    "# bring words to their initial form (stemming)\n",
    "snowball = SnowballStemmer(language=\"russian\")\n",
    "stemmed_tokens = [snowball.stem(i) for i in tokens_without_stop_words_and_punctuation]"
   ]
  },
  {
   "cell_type": "code",
   "execution_count": 15,
   "metadata": {},
   "outputs": [
    {
     "data": {
      "text/plain": [
       "['хохл',\n",
       " 'эт',\n",
       " 'отдушин',\n",
       " 'затюкан',\n",
       " 'россиянин',\n",
       " 'мол',\n",
       " 'вон',\n",
       " 'хохл',\n",
       " 'хуж',\n",
       " 'есл',\n",
       " 'хохл',\n",
       " 'кисел',\n",
       " 'придума']"
      ]
     },
     "execution_count": 15,
     "metadata": {},
     "output_type": "execute_result"
    }
   ],
   "source": [
    "# Write a function for text preprocessing\n",
    "snowball = SnowballStemmer(language=\"russian\")\n",
    "russian_stop_words = stopwords.words(\"russian\")\n",
    "\n",
    "def tokenize_sentence(sentence: str, remove_stop_words: bool = True):\n",
    "    tokens = word_tokenize(sentence, language=\"russian\")\n",
    "    tokens = [i for i in tokens if i not in string.punctuation]\n",
    "    if remove_stop_words:\n",
    "        tokens = [i for i in tokens if i not in russian_stop_words]\n",
    "    tokens = [snowball.stem(i) for i in tokens]\n",
    "    return tokens\n",
    "\n",
    "tokenize_sentence(sentence_example)"
   ]
  },
  {
   "attachments": {},
   "cell_type": "markdown",
   "metadata": {},
   "source": [
    "### We will use the TF-IDF algorithm\n",
    "\n",
    "TF-IDF (Term Frequency - Inverse Document Frequency) is a handy algorithm that uses word frequency to determine how relevant those words are to a given document. However, this NLP method does not depend on the context - for example, the analyzed sentences describe approximately the same thing or not; do not take into account the order of words in a sentence; have a high dimension in the case of a large dictionary, which can reduce the performance of the Deep Learning model."
   ]
  },
  {
   "cell_type": "code",
   "execution_count": 16,
   "metadata": {},
   "outputs": [],
   "source": [
    "# Create TF-IDF vectorizer and replace its tokenizer with ours\n",
    "vectorizer = TfidfVectorizer(tokenizer=lambda x: tokenize_sentence(x, remove_stop_words=True))\n",
    "# Now we can train our vectorizer. Pass train_df to it and after fit_transform train vectorizer\n",
    "# it will return ready-made features that we can pass to the machine learning model\n",
    "features = vectorizer.fit_transform(train_df['comment'])"
   ]
  },
  {
   "cell_type": "markdown",
   "metadata": {},
   "source": [
    "### Create a model\n",
    "Features are ready and now we can train the logistic regression model."
   ]
  },
  {
   "cell_type": "code",
   "execution_count": 66,
   "metadata": {},
   "outputs": [
    {
     "data": {
      "text/plain": [
       "LogisticRegression(random_state=10)"
      ]
     },
     "execution_count": 66,
     "metadata": {},
     "output_type": "execute_result"
    }
   ],
   "source": [
    "model = LogisticRegression(random_state=10)\n",
    "# fit using for training\n",
    "model.fit(features, train_df['toxic'])"
   ]
  },
  {
   "cell_type": "code",
   "execution_count": 67,
   "metadata": {},
   "outputs": [
    {
     "data": {
      "text/plain": [
       "array([1])"
      ]
     },
     "execution_count": 67,
     "metadata": {},
     "output_type": "execute_result"
    }
   ],
   "source": [
    "# the model has been trained and we will test it, for example, on a training dataset\n",
    "model.predict(features[0])"
   ]
  },
  {
   "cell_type": "code",
   "execution_count": 68,
   "metadata": {},
   "outputs": [
    {
     "data": {
      "text/plain": [
       "'Зигани на фюрера, полегчает...\\n'"
      ]
     },
     "execution_count": 68,
     "metadata": {},
     "output_type": "execute_result"
    }
   ],
   "source": [
    "# The model works correctly. We use iloc and not loc to check, because now we have an unsorted array,\n",
    "# and initial indexes are randomly mixed up when the dataset was divided into training and test ones\n",
    "train_df['comment'].iloc[0]"
   ]
  },
  {
   "attachments": {},
   "cell_type": "markdown",
   "metadata": {},
   "source": [
    "### Pipeline"
   ]
  },
  {
   "cell_type": "code",
   "execution_count": 70,
   "metadata": {},
   "outputs": [],
   "source": [
    "# I will create a Pipeline to connect the creation of the model and features.\n",
    "# It will accept sentences as input, not vectors.\n",
    "model_pipeline = Pipeline([\n",
    "    (\"vectorizer\", TfidfVectorizer(tokenizer=lambda x: tokenize_sentence(x, remove_stop_words=True))),\n",
    "    (\"model\", LogisticRegression(random_state=10))\n",
    "]\n",
    ")"
   ]
  },
  {
   "cell_type": "code",
   "execution_count": 71,
   "metadata": {},
   "outputs": [
    {
     "data": {
      "text/plain": [
       "Pipeline(steps=[('vectorizer',\n",
       "                 TfidfVectorizer(tokenizer=<function <lambda> at 0x000001A5C1D605E8>)),\n",
       "                ('model', LogisticRegression(random_state=10))])"
      ]
     },
     "execution_count": 71,
     "metadata": {},
     "output_type": "execute_result"
    }
   ],
   "source": [
    "# Pass to it a list of sentences and labels and train the model.\n",
    "model_pipeline.fit(train_df[\"comment\"], train_df[\"toxic\"])"
   ]
  },
  {
   "cell_type": "code",
   "execution_count": 72,
   "metadata": {},
   "outputs": [
    {
     "data": {
      "text/plain": [
       "array([0])"
      ]
     },
     "execution_count": 72,
     "metadata": {},
     "output_type": "execute_result"
    }
   ],
   "source": [
    "# Trying a positive comment\n",
    "model_pipeline.predict([\"какая-то фича, привет, всё нормально у тебя?\"])"
   ]
  },
  {
   "cell_type": "code",
   "execution_count": 73,
   "metadata": {},
   "outputs": [
    {
     "data": {
      "text/plain": [
       "array([1])"
      ]
     },
     "execution_count": 73,
     "metadata": {},
     "output_type": "execute_result"
    }
   ],
   "source": [
    "# Trying a rude comment\n",
    "model_pipeline.predict([\"пошел нахер отсюда\"])"
   ]
  },
  {
   "attachments": {},
   "cell_type": "markdown",
   "metadata": {},
   "source": [
    "#### The model works properly in our examples, but we need to calculate the metrics.\n",
    "\n",
    "y_true: This parameter represents the true (actual) target values. In this case, it refers to the \"toxic\" column from the test_df data frame, which contains the true labels for each data point.\n",
    "\n",
    "y_pred: This parameter represents the predicted target values. It can be obtained by calling model_pipeline.predict(test_df[\"comment\"]), which uses the trained model stored in model_pipeline to predict the \"comment\" column of the test_df dataframe."
   ]
  },
  {
   "cell_type": "code",
   "execution_count": 74,
   "metadata": {},
   "outputs": [
    {
     "data": {
      "text/plain": [
       "0.896"
      ]
     },
     "execution_count": 74,
     "metadata": {},
     "output_type": "execute_result"
    }
   ],
   "source": [
    "# Precision = TP / (TP + FP)\n",
    "precision_score(y_true=test_df[\"toxic\"], y_pred=model_pipeline.predict(test_df[\"comment\"]))"
   ]
  },
  {
   "cell_type": "code",
   "execution_count": 75,
   "metadata": {},
   "outputs": [
    {
     "data": {
      "text/plain": [
       "0.6511627906976745"
      ]
     },
     "execution_count": 75,
     "metadata": {},
     "output_type": "execute_result"
    }
   ],
   "source": [
    "# Recall = TP / (TP + FN)\n",
    "recall_score(y_true=test_df[\"toxic\"], y_pred=model_pipeline.predict(test_df[\"comment\"]))"
   ]
  },
  {
   "attachments": {},
   "cell_type": "markdown",
   "metadata": {},
   "source": [
    "Now we have:\n",
    "model precision = 89.6%\n",
    "Recall = 65.1%\n",
    "\n",
    "Let's try to improve the metrics of the model, and to achieve the precision = 0.95.\n",
    "\n",
    "By moving the probability threshold, we can change these parameters."
   ]
  },
  {
   "cell_type": "code",
   "execution_count": 76,
   "metadata": {},
   "outputs": [],
   "source": [
    "# The threshold changes from 0 to 1, depending on it, Precision and recall are calculated and then a graph is plotted\n",
    "# count 3 arrays for building a graph\n",
    "prec, rec, thresholds = precision_recall_curve(y_true=test_df[\"toxic\"], probas_pred=model_pipeline.predict_proba(test_df[\"comment\"])[:, 1])"
   ]
  },
  {
   "cell_type": "code",
   "execution_count": 77,
   "metadata": {},
   "outputs": [
    {
     "name": "stderr",
     "output_type": "stream",
     "text": [
      "d:\\Dev\\pandas_data_vis\\env\\lib\\site-packages\\sklearn\\utils\\deprecation.py:87: FutureWarning:\n",
      "\n",
      "Function plot_precision_recall_curve is deprecated; Function `plot_precision_recall_curve` is deprecated in 1.0 and will be removed in 1.2. Use one of the class methods: PrecisionRecallDisplay.from_predictions or PrecisionRecallDisplay.from_estimator.\n",
      "\n"
     ]
    },
    {
     "data": {
      "text/plain": [
       "<sklearn.metrics._plot.precision_recall_curve.PrecisionRecallDisplay at 0x1a5c23b4ac8>"
      ]
     },
     "execution_count": 77,
     "metadata": {},
     "output_type": "execute_result"
    },
    {
     "data": {
      "image/png": "[encoded data removed]",
      "text/plain": [
       "<Figure size 640x480 with 1 Axes>"
      ]
     },
     "metadata": {},
     "output_type": "display_data"
    }
   ],
   "source": [
    "# Build a graph using the standard method: plot_precision_recall_curve(model_pipeline, X_test_df, y_test_df)\n",
    "plot_precision_recall_curve(estimator=model_pipeline, X=test_df[\"comment\"], y=test_df[\"toxic\"])"
   ]
  },
  {
   "attachments": {},
   "cell_type": "markdown",
   "metadata": {},
   "source": [
    "This chart is not informative. We need an interactive one to quickly find the most optimal threshold points.\n",
    "\n",
    "We will use Plotly chart."
   ]
  },
  {
   "cell_type": "code",
   "execution_count": 79,
   "metadata": {},
   "outputs": [
    {
     "data": {
      "application/vnd.plotly.v1+json": {
       "config": {
        "plotlyServerURL": "https://plot.ly"
       },
       "data": [
        {
         "customdata": [
          [
           0.023515940106162855
          ],
          [
           0.023672796028267076
          ],
          [
           0.023798342584985695
          ],
          [
           0.024292933000235807
          ],
          [
           0.024531823539653885
          ],
          [
           0.02703210419435175
          ],
          [
           0.027091888086467196
          ],
          [
           0.029973399747684287
          ],
          [
           0.030079091755192907
          ],
          [
           0.030548030155437403
          ],
          [
           0.03123474220692164
          ],
          [
           0.034500662238392654
          ],
          [
           0.03680708503723163
          ],
          [
           0.036883973183993654
          ],
          [
           0.036922063363917415
          ],
          [
           0.03750464020693856
          ],
          [
           0.039186462349097506
          ],
          [
           0.040432035856745034
          ],
          [
           0.042745301092746185
          ],
          [
           0.04333969559416482
          ],
          [
           0.04350287104873641
          ],
          [
           0.04549615510313877
          ],
          [
           0.046166617329512175
          ],
          [
           0.04948401313478182
          ],
          [
           0.05155142867341643
          ],
          [
           0.05300640668672134
          ],
          [
           0.05333045841740845
          ],
          [
           0.05650585004683274
          ],
          [
           0.05653830739637749
          ],
          [
           0.056807332343404335
          ],
          [
           0.0568945340142826
          ],
          [
           0.05984811339185838
          ],
          [
           0.05992000251734855
          ],
          [
           0.06235813823305587
          ],
          [
           0.06443974697045385
          ],
          [
           0.06447240425600155
          ],
          [
           0.06506538815484422
          ],
          [
           0.06544433190102451
          ],
          [
           0.0661322265750879
          ],
          [
           0.06626521766485946
          ],
          [
           0.06743573705910523
          ],
          [
           0.06826142058110068
          ],
          [
           0.07003477760353889
          ],
          [
           0.07193111543257955
          ],
          [
           0.07219536418478201
          ],
          [
           0.07240908310578764
          ],
          [
           0.07284455633824745
          ],
          [
           0.07287505942573191
          ],
          [
           0.07329302260783416
          ],
          [
           0.07447145768693059
          ],
          [
           0.0744905566440914
          ],
          [
           0.07479800425454619
          ],
          [
           0.07759918626646715
          ],
          [
           0.07771003927922869
          ],
          [
           0.07892011049451363
          ],
          [
           0.07898673791224024
          ],
          [
           0.07997348754475735
          ],
          [
           0.08139120965996863
          ],
          [
           0.08147342640241018
          ],
          [
           0.08220419534978998
          ],
          [
           0.08384201631834033
          ],
          [
           0.0839994115992408
          ],
          [
           0.08468287210993469
          ],
          [
           0.08510353726807687
          ],
          [
           0.08513939902863149
          ],
          [
           0.08584260396226442
          ],
          [
           0.08615004545028235
          ],
          [
           0.08627012702201874
          ],
          [
           0.08658654111353624
          ],
          [
           0.08770456562404876
          ],
          [
           0.08855333088844519
          ],
          [
           0.08940221584235626
          ],
          [
           0.08951560769245889
          ],
          [
           0.09014268229290712
          ],
          [
           0.09144714849583721
          ],
          [
           0.09171471323806218
          ],
          [
           0.09172056360410752
          ],
          [
           0.09303118064592962
          ],
          [
           0.09347308906811494
          ],
          [
           0.09426918252626378
          ],
          [
           0.09522108487106014
          ],
          [
           0.09535716621568592
          ],
          [
           0.09597881459456721
          ],
          [
           0.09722056724712334
          ],
          [
           0.09842386190141036
          ],
          [
           0.0985103251776982
          ],
          [
           0.10056865744502194
          ],
          [
           0.10207884445969587
          ],
          [
           0.1021001251891527
          ],
          [
           0.10389131361415689
          ],
          [
           0.10516021803597551
          ],
          [
           0.10655966146936259
          ],
          [
           0.10660898575381117
          ],
          [
           0.10673680094491256
          ],
          [
           0.10712315907913993
          ],
          [
           0.10772060834745793
          ],
          [
           0.11122774033976447
          ],
          [
           0.11123675061250897
          ],
          [
           0.11151672992980732
          ],
          [
           0.11298567801617533
          ],
          [
           0.11490995183553976
          ],
          [
           0.11555519381754902
          ],
          [
           0.11652018786743033
          ],
          [
           0.11768164085055358
          ],
          [
           0.11817811208655281
          ],
          [
           0.11846064352678595
          ],
          [
           0.11862846373710496
          ],
          [
           0.12000716514700828
          ],
          [
           0.12048039325252252
          ],
          [
           0.12087258363229507
          ],
          [
           0.12093193805454112
          ],
          [
           0.12475006876730499
          ],
          [
           0.12519277034527168
          ],
          [
           0.12669503183292943
          ],
          [
           0.12839708995710714
          ],
          [
           0.12900981036296436
          ],
          [
           0.12912504276327766
          ],
          [
           0.1310232395145163
          ],
          [
           0.13161465555648602
          ],
          [
           0.13329730023486153
          ],
          [
           0.13332702335358854
          ],
          [
           0.13421451070773752
          ],
          [
           0.13567959457100773
          ],
          [
           0.13708328731356365
          ],
          [
           0.1371018903006157
          ],
          [
           0.13726782344078367
          ],
          [
           0.13755784703646787
          ],
          [
           0.1380788044013211
          ],
          [
           0.13812676688472927
          ],
          [
           0.13815084272775205
          ],
          [
           0.13848859081785933
          ],
          [
           0.1387522743926599
          ],
          [
           0.13970942150484647
          ],
          [
           0.1402639857141587
          ],
          [
           0.14049188538018345
          ],
          [
           0.1405112839179867
          ],
          [
           0.14060953190808534
          ],
          [
           0.1407090750591646
          ],
          [
           0.14091004969189683
          ],
          [
           0.14099060603883337
          ],
          [
           0.14121936280004777
          ],
          [
           0.14150139058482533
          ],
          [
           0.14155841151786216
          ],
          [
           0.14299084176692325
          ],
          [
           0.14410801287783342
          ],
          [
           0.14420866985063951
          ],
          [
           0.14488717319898284
          ],
          [
           0.14515705756310032
          ],
          [
           0.14596797386735133
          ],
          [
           0.14912057665468337
          ],
          [
           0.14913758384093123
          ],
          [
           0.15081805872487225
          ],
          [
           0.15113987883112476
          ],
          [
           0.15215993076849438
          ],
          [
           0.15217811168411677
          ],
          [
           0.1529956226316107
          ],
          [
           0.1548159069176795
          ],
          [
           0.15652463244581
          ],
          [
           0.1583595247690057
          ],
          [
           0.1586653547156702
          ],
          [
           0.15943639580781735
          ],
          [
           0.15981079366106543
          ],
          [
           0.1614063860065321
          ],
          [
           0.1619260712116496
          ],
          [
           0.16281723073239288
          ],
          [
           0.1632222794867512
          ],
          [
           0.163658715667126
          ],
          [
           0.1638860597004734
          ],
          [
           0.16454352727069382
          ],
          [
           0.1668847561648951
          ],
          [
           0.1697853725167222
          ],
          [
           0.17027196197675967
          ],
          [
           0.17060455998521587
          ],
          [
           0.17094193482856232
          ],
          [
           0.17098792691898573
          ],
          [
           0.17116658712912672
          ],
          [
           0.17181491869087082
          ],
          [
           0.17289769189240778
          ],
          [
           0.17324033076659168
          ],
          [
           0.17465457915692617
          ],
          [
           0.17577664898887857
          ],
          [
           0.17782798812761136
          ],
          [
           0.1795397472445036
          ],
          [
           0.18019066950958795
          ],
          [
           0.18096506165965606
          ],
          [
           0.1821757311149166
          ],
          [
           0.1838812457646966
          ],
          [
           0.18464249713830805
          ],
          [
           0.1856693511493951
          ],
          [
           0.18615825207756798
          ],
          [
           0.18885701880002675
          ],
          [
           0.19005029151539848
          ],
          [
           0.1914137372055235
          ],
          [
           0.19326182311933088
          ],
          [
           0.19337906757674767
          ],
          [
           0.19455234673931796
          ],
          [
           0.19588458348792698
          ],
          [
           0.19700711332534848
          ],
          [
           0.1974597113692952
          ],
          [
           0.2005799653694312
          ],
          [
           0.20101929923384038
          ],
          [
           0.20209839834719226
          ],
          [
           0.20466644591444358
          ],
          [
           0.20518048343775228
          ],
          [
           0.2057445847516717
          ],
          [
           0.2068262181158542
          ],
          [
           0.2077134895211254
          ],
          [
           0.20782133713875658
          ],
          [
           0.20832046075415375
          ],
          [
           0.2085530034185078
          ],
          [
           0.20884440011804908
          ],
          [
           0.20960859508204274
          ],
          [
           0.21153697289705636
          ],
          [
           0.21453006459177643
          ],
          [
           0.21589771729940951
          ],
          [
           0.2176058168744343
          ],
          [
           0.217625527058257
          ],
          [
           0.21809376192901794
          ],
          [
           0.21981257618430336
          ],
          [
           0.21993873558158272
          ],
          [
           0.22227616244144655
          ],
          [
           0.22248222759729497
          ],
          [
           0.2231883804475977
          ],
          [
           0.22378885264098075
          ],
          [
           0.22463320048548435
          ],
          [
           0.22592177096730248
          ],
          [
           0.2260318330604645
          ],
          [
           0.2319421343032161
          ],
          [
           0.232009448669199
          ],
          [
           0.23280790500564005
          ],
          [
           0.23511536764713512
          ],
          [
           0.23657932364010506
          ],
          [
           0.23697603871261647
          ],
          [
           0.23826240896596163
          ],
          [
           0.2398483324408659
          ],
          [
           0.24079455972417577
          ],
          [
           0.2410287759588102
          ],
          [
           0.2433810588726188
          ],
          [
           0.24385398311225434
          ],
          [
           0.24476103969166607
          ],
          [
           0.24693939164820652
          ],
          [
           0.24742184832629668
          ],
          [
           0.24751251423508247
          ],
          [
           0.24917176085527623
          ],
          [
           0.25043516128102233
          ],
          [
           0.2505190511513892
          ],
          [
           0.25118410840112343
          ],
          [
           0.2521131632638213
          ],
          [
           0.25443590375011954
          ],
          [
           0.25642029498975244
          ],
          [
           0.26137570586682224
          ],
          [
           0.26148649026939985
          ],
          [
           0.2622313907379041
          ],
          [
           0.2628996453911744
          ],
          [
           0.2642195071063217
          ],
          [
           0.26446973276751545
          ],
          [
           0.2652430777903222
          ],
          [
           0.2657234383736529
          ],
          [
           0.2687509384990026
          ],
          [
           0.26890524891137835
          ],
          [
           0.2693367696711029
          ],
          [
           0.2704492995527516
          ],
          [
           0.2717146794208042
          ],
          [
           0.27178877294267506
          ],
          [
           0.2739341114200571
          ],
          [
           0.27517063834649574
          ],
          [
           0.27554713494379346
          ],
          [
           0.2757026717215533
          ],
          [
           0.2757647744738526
          ],
          [
           0.2764780741209498
          ],
          [
           0.27695763948284025
          ],
          [
           0.27780989490434016
          ],
          [
           0.27791163049305323
          ],
          [
           0.2782342309363984
          ],
          [
           0.2794263213177693
          ],
          [
           0.2801991533630949
          ],
          [
           0.28814687586232934
          ],
          [
           0.2890156951152161
          ],
          [
           0.29352865366863345
          ],
          [
           0.2935749780329667
          ],
          [
           0.2986864081255281
          ],
          [
           0.29916263714865343
          ],
          [
           0.3004019995248449
          ],
          [
           0.30153011959555437
          ],
          [
           0.3030796599015198
          ],
          [
           0.3043779840077227
          ],
          [
           0.30482600981888675
          ],
          [
           0.3072622784316608
          ],
          [
           0.3121498550205851
          ],
          [
           0.31563422699914545
          ],
          [
           0.3166196343886629
          ],
          [
           0.3170031089428545
          ],
          [
           0.3232553985854364
          ],
          [
           0.32370242056669113
          ],
          [
           0.32569280352944324
          ],
          [
           0.32622785281932826
          ],
          [
           0.3326718730489503
          ],
          [
           0.33271035587123365
          ],
          [
           0.33331677473190113
          ],
          [
           0.33343930636108043
          ],
          [
           0.33485491681736107
          ],
          [
           0.3353732982699582
          ],
          [
           0.33542279098992756
          ],
          [
           0.3365021413662418
          ],
          [
           0.3369666511592479
          ],
          [
           0.34223549294925376
          ],
          [
           0.3440100964093066
          ],
          [
           0.34516988588917485
          ],
          [
           0.3455424071844192
          ],
          [
           0.34771291301822377
          ],
          [
           0.353002525260556
          ],
          [
           0.3551650366842495
          ],
          [
           0.35659229725140723
          ],
          [
           0.35784985455955937
          ],
          [
           0.368288331390686
          ],
          [
           0.36852572266548334
          ],
          [
           0.37144466609468013
          ],
          [
           0.3734454422273611
          ],
          [
           0.37397459292653296
          ],
          [
           0.38176789992141835
          ],
          [
           0.3834835697192058
          ],
          [
           0.385261552970968
          ],
          [
           0.3869290699997043
          ],
          [
           0.38694320614924865
          ],
          [
           0.38716633327521977
          ],
          [
           0.38721202833832774
          ],
          [
           0.39024897689671884
          ],
          [
           0.39404466757315243
          ],
          [
           0.3947983893234443
          ],
          [
           0.3972736447995512
          ],
          [
           0.3974293913296903
          ],
          [
           0.40718292217304386
          ],
          [
           0.40742925541862235
          ],
          [
           0.4137250087733885
          ],
          [
           0.41561039713680575
          ],
          [
           0.4182408621507002
          ],
          [
           0.42132667215660147
          ],
          [
           0.42137338073528086
          ],
          [
           0.42228319232821354
          ],
          [
           0.4246563772023897
          ],
          [
           0.4267772613511951
          ],
          [
           0.4294888921455112
          ],
          [
           0.43108804562753406
          ],
          [
           0.4325470833343178
          ],
          [
           0.4348951845002804
          ],
          [
           0.4354132497261066
          ],
          [
           0.43682179826732487
          ],
          [
           0.4406092338166358
          ],
          [
           0.44064636857998846
          ],
          [
           0.44127240621717745
          ],
          [
           0.4437519025943525
          ],
          [
           0.44487398859808763
          ],
          [
           0.4451618331899611
          ],
          [
           0.45226804125104475
          ],
          [
           0.46428242299386197
          ],
          [
           0.46543019251718926
          ],
          [
           0.47488130913856913
          ],
          [
           0.4782006127028826
          ],
          [
           0.4790419570691945
          ],
          [
           0.4842540317490782
          ],
          [
           0.48931012320995193
          ],
          [
           0.49534961040152614
          ],
          [
           0.4964580832585367
          ],
          [
           0.4965089513302136
          ],
          [
           0.5015553670559342
          ],
          [
           0.5036949150051341
          ],
          [
           0.5038787454401885
          ],
          [
           0.5051982889588575
          ],
          [
           0.5104386751589975
          ],
          [
           0.5108663590856621
          ],
          [
           0.5128283614792117
          ],
          [
           0.5134528696442563
          ],
          [
           0.5145358531879477
          ],
          [
           0.5181355341160571
          ],
          [
           0.5208484938000865
          ],
          [
           0.5228722252114878
          ],
          [
           0.526653105817641
          ],
          [
           0.528624102160743
          ],
          [
           0.5295607945008882
          ],
          [
           0.5321411788604355
          ],
          [
           0.5398953538278385
          ],
          [
           0.5401147261875904
          ],
          [
           0.5432471463415388
          ],
          [
           0.5489751613611001
          ],
          [
           0.5490328369506832
          ],
          [
           0.5522902603307716
          ],
          [
           0.5598208682836486
          ],
          [
           0.560208529912428
          ],
          [
           0.5627358992175331
          ],
          [
           0.5647716516188225
          ],
          [
           0.565183124971302
          ],
          [
           0.5693978297626727
          ],
          [
           0.5729348629890023
          ],
          [
           0.5791529706356948
          ],
          [
           0.5808098327387554
          ],
          [
           0.5831691096496453
          ],
          [
           0.5847635643479492
          ],
          [
           0.5872749637083319
          ],
          [
           0.5877530000762737
          ],
          [
           0.5914087835431172
          ],
          [
           0.5914946064786386
          ],
          [
           0.592656095502956
          ],
          [
           0.5937231156138733
          ],
          [
           0.5944037694958203
          ],
          [
           0.5994790096092378
          ],
          [
           0.600598755156462
          ],
          [
           0.6016889201759987
          ],
          [
           0.6097131985169173
          ],
          [
           0.6110261629214867
          ],
          [
           0.6111707021986567
          ],
          [
           0.6127282852796296
          ],
          [
           0.6168608994748062
          ],
          [
           0.6199452795425683
          ],
          [
           0.6213575986545691
          ],
          [
           0.6330272703902137
          ],
          [
           0.6384661724358394
          ],
          [
           0.6528851396661233
          ],
          [
           0.6547186480777368
          ],
          [
           0.6645088445092524
          ],
          [
           0.6646957066980941
          ],
          [
           0.6678847557985063
          ],
          [
           0.6753970451928621
          ],
          [
           0.6775240350832157
          ],
          [
           0.6800096067015046
          ],
          [
           0.6808210958936942
          ],
          [
           0.68267795299272
          ],
          [
           0.6857808341103125
          ],
          [
           0.686445058663721
          ],
          [
           0.6913756731762396
          ],
          [
           0.7005019101827651
          ],
          [
           0.700702361418681
          ],
          [
           0.7010098427021108
          ],
          [
           0.7069800930684798
          ],
          [
           0.7073670691204575
          ],
          [
           0.7079460422042104
          ],
          [
           0.7144651359242404
          ],
          [
           0.718633950934228
          ],
          [
           0.7238012963544187
          ],
          [
           0.7280209631235477
          ],
          [
           0.7376269767762901
          ],
          [
           0.737744546098475
          ],
          [
           0.7445009678132308
          ],
          [
           0.750102011244398
          ],
          [
           0.751718567520819
          ],
          [
           0.7530146362806439
          ],
          [
           0.7569814483015733
          ],
          [
           0.7607645984913668
          ],
          [
           0.7664186943922668
          ],
          [
           0.7679572149420699
          ],
          [
           0.769266697906627
          ],
          [
           0.7701542723809572
          ],
          [
           0.7901173819867418
          ],
          [
           0.7988743373645635
          ],
          [
           0.8093386262490897
          ],
          [
           0.8172316282879526
          ],
          [
           0.8234969426454641
          ],
          [
           0.8247926104960378
          ],
          [
           0.8290326991284017
          ],
          [
           0.8358978889965101
          ],
          [
           0.8457651811245932
          ],
          [
           0.8562785836525144
          ],
          [
           0.8673563061791756
          ],
          [
           0.8691802793437741
          ],
          [
           0.8700200407117831
          ],
          [
           0.8704654342816736
          ],
          [
           0.8734864627285276
          ],
          [
           0.8764038484852934
          ],
          [
           0.8784757766910963
          ],
          [
           0.88190575354794
          ],
          [
           0.8842445303933865
          ],
          [
           0.8858027083301435
          ],
          [
           0.8917302777194092
          ],
          [
           0.8946623102386267
          ],
          [
           0.8947958523384272
          ],
          [
           0.8959123259661408
          ],
          [
           0.9015094692414717
          ],
          [
           0.9114305909490342
          ],
          [
           0.9188986372942877
          ],
          [
           0.9206374565993111
          ],
          [
           0.9230307505766803
          ],
          [
           0.9238654254979694
          ],
          [
           0.929917997020143
          ],
          [
           0.9497691520648206
          ],
          [
           0.9551315692042514
          ],
          [
           0.9616723833799691
          ],
          [
           0.9620346102996226
          ],
          [
           0.9640163453691079
          ],
          [
           0.9840240432739795
          ],
          [
           0.9878795458014085
          ]
         ],
         "hovertemplate": "recall=%{x}<br>precision=%{y}<br>thresholds=%{customdata[0]}<extra></extra>",
         "legendgroup": "",
         "line": {
          "color": "#636efa",
          "dash": "solid"
         },
         "marker": {
          "symbol": "circle"
         },
         "mode": "lines",
         "name": "",
         "orientation": "v",
         "showlegend": false,
         "type": "scatter",
         "x": [
          1,
          0.9941860465116279,
          0.9941860465116279,
          0.9941860465116279,
          0.9941860465116279,
          0.9941860465116279,
          0.9941860465116279,
          0.9941860465116279,
          0.9941860465116279,
          0.9941860465116279,
          0.9941860465116279,
          0.9941860465116279,
          0.9941860465116279,
          0.9941860465116279,
          0.9941860465116279,
          0.9941860465116279,
          0.9941860465116279,
          0.9941860465116279,
          0.9941860465116279,
          0.9941860465116279,
          0.9941860465116279,
          0.9941860465116279,
          0.9941860465116279,
          0.9941860465116279,
          0.9941860465116279,
          0.9941860465116279,
          0.9941860465116279,
          0.9941860465116279,
          0.9941860465116279,
          0.9941860465116279,
          0.9941860465116279,
          0.9941860465116279,
          0.9941860465116279,
          0.9941860465116279,
          0.9941860465116279,
          0.9941860465116279,
          0.9941860465116279,
          0.9941860465116279,
          0.9941860465116279,
          0.9941860465116279,
          0.9941860465116279,
          0.9941860465116279,
          0.9941860465116279,
          0.9941860465116279,
          0.9941860465116279,
          0.9941860465116279,
          0.9941860465116279,
          0.9941860465116279,
          0.9941860465116279,
          0.9941860465116279,
          0.9941860465116279,
          0.9941860465116279,
          0.9941860465116279,
          0.9941860465116279,
          0.9941860465116279,
          0.9941860465116279,
          0.9941860465116279,
          0.9941860465116279,
          0.9941860465116279,
          0.9941860465116279,
          0.9941860465116279,
          0.9941860465116279,
          0.9883720930232558,
          0.9883720930232558,
          0.9883720930232558,
          0.9883720930232558,
          0.9883720930232558,
          0.9883720930232558,
          0.9883720930232558,
          0.9883720930232558,
          0.9883720930232558,
          0.9883720930232558,
          0.9883720930232558,
          0.9883720930232558,
          0.9883720930232558,
          0.9883720930232558,
          0.9883720930232558,
          0.9883720930232558,
          0.9883720930232558,
          0.9883720930232558,
          0.9883720930232558,
          0.9883720930232558,
          0.9883720930232558,
          0.9883720930232558,
          0.9883720930232558,
          0.9883720930232558,
          0.9883720930232558,
          0.9883720930232558,
          0.9883720930232558,
          0.9883720930232558,
          0.9883720930232558,
          0.9883720930232558,
          0.9883720930232558,
          0.9883720930232558,
          0.9883720930232558,
          0.9883720930232558,
          0.9883720930232558,
          0.9883720930232558,
          0.9883720930232558,
          0.9883720930232558,
          0.9883720930232558,
          0.9883720930232558,
          0.9883720930232558,
          0.9883720930232558,
          0.9883720930232558,
          0.9883720930232558,
          0.9883720930232558,
          0.9883720930232558,
          0.9883720930232558,
          0.9883720930232558,
          0.9883720930232558,
          0.9883720930232558,
          0.9883720930232558,
          0.9883720930232558,
          0.9883720930232558,
          0.9883720930232558,
          0.9883720930232558,
          0.9883720930232558,
          0.9883720930232558,
          0.9883720930232558,
          0.9883720930232558,
          0.9883720930232558,
          0.9883720930232558,
          0.9883720930232558,
          0.9883720930232558,
          0.9883720930232558,
          0.9883720930232558,
          0.9883720930232558,
          0.9883720930232558,
          0.9883720930232558,
          0.9883720930232558,
          0.9883720930232558,
          0.9883720930232558,
          0.9883720930232558,
          0.9883720930232558,
          0.9883720930232558,
          0.9883720930232558,
          0.9883720930232558,
          0.9883720930232558,
          0.9883720930232558,
          0.9883720930232558,
          0.9883720930232558,
          0.9883720930232558,
          0.9825581395348837,
          0.9825581395348837,
          0.9825581395348837,
          0.9825581395348837,
          0.9825581395348837,
          0.9825581395348837,
          0.9767441860465116,
          0.9767441860465116,
          0.9767441860465116,
          0.9767441860465116,
          0.9767441860465116,
          0.9767441860465116,
          0.9767441860465116,
          0.9767441860465116,
          0.9767441860465116,
          0.9767441860465116,
          0.9767441860465116,
          0.9767441860465116,
          0.9767441860465116,
          0.9767441860465116,
          0.9767441860465116,
          0.9767441860465116,
          0.9767441860465116,
          0.9767441860465116,
          0.9767441860465116,
          0.9767441860465116,
          0.9767441860465116,
          0.9767441860465116,
          0.9767441860465116,
          0.9767441860465116,
          0.9767441860465116,
          0.9767441860465116,
          0.9767441860465116,
          0.9767441860465116,
          0.9709302325581395,
          0.9709302325581395,
          0.9709302325581395,
          0.9709302325581395,
          0.9709302325581395,
          0.9709302325581395,
          0.9709302325581395,
          0.9709302325581395,
          0.9709302325581395,
          0.9709302325581395,
          0.9709302325581395,
          0.9709302325581395,
          0.9709302325581395,
          0.9709302325581395,
          0.9709302325581395,
          0.9709302325581395,
          0.9709302325581395,
          0.9709302325581395,
          0.9709302325581395,
          0.9709302325581395,
          0.9709302325581395,
          0.9709302325581395,
          0.9709302325581395,
          0.9709302325581395,
          0.9709302325581395,
          0.9709302325581395,
          0.9709302325581395,
          0.9709302325581395,
          0.9709302325581395,
          0.9709302325581395,
          0.9709302325581395,
          0.9709302325581395,
          0.9709302325581395,
          0.9709302325581395,
          0.9709302325581395,
          0.9709302325581395,
          0.9709302325581395,
          0.9709302325581395,
          0.9709302325581395,
          0.9709302325581395,
          0.9709302325581395,
          0.9709302325581395,
          0.9709302325581395,
          0.9709302325581395,
          0.9709302325581395,
          0.9709302325581395,
          0.9709302325581395,
          0.9709302325581395,
          0.9651162790697675,
          0.9651162790697675,
          0.9651162790697675,
          0.9593023255813954,
          0.9593023255813954,
          0.9593023255813954,
          0.9593023255813954,
          0.9593023255813954,
          0.9593023255813954,
          0.9593023255813954,
          0.9593023255813954,
          0.9593023255813954,
          0.9593023255813954,
          0.9593023255813954,
          0.9593023255813954,
          0.9593023255813954,
          0.9593023255813954,
          0.9593023255813954,
          0.9593023255813954,
          0.9593023255813954,
          0.9593023255813954,
          0.9593023255813954,
          0.9593023255813954,
          0.9593023255813954,
          0.9593023255813954,
          0.9593023255813954,
          0.9593023255813954,
          0.9593023255813954,
          0.9593023255813954,
          0.9534883720930233,
          0.9534883720930233,
          0.9534883720930233,
          0.9534883720930233,
          0.9476744186046512,
          0.9476744186046512,
          0.9476744186046512,
          0.9476744186046512,
          0.9476744186046512,
          0.9476744186046512,
          0.9476744186046512,
          0.9418604651162791,
          0.9418604651162791,
          0.9418604651162791,
          0.9418604651162791,
          0.936046511627907,
          0.9302325581395349,
          0.9302325581395349,
          0.9302325581395349,
          0.9244186046511628,
          0.9244186046511628,
          0.9186046511627907,
          0.9186046511627907,
          0.9186046511627907,
          0.9186046511627907,
          0.9186046511627907,
          0.9127906976744186,
          0.9069767441860465,
          0.9069767441860465,
          0.9069767441860465,
          0.9069767441860465,
          0.9069767441860465,
          0.9011627906976745,
          0.9011627906976745,
          0.9011627906976745,
          0.9011627906976745,
          0.9011627906976745,
          0.9011627906976745,
          0.9011627906976745,
          0.8953488372093024,
          0.8953488372093024,
          0.8953488372093024,
          0.8895348837209303,
          0.8837209302325582,
          0.8837209302325582,
          0.8837209302325582,
          0.8837209302325582,
          0.877906976744186,
          0.872093023255814,
          0.872093023255814,
          0.8662790697674418,
          0.8662790697674418,
          0.8604651162790697,
          0.8604651162790697,
          0.8546511627906976,
          0.8546511627906976,
          0.8546511627906976,
          0.8546511627906976,
          0.8546511627906976,
          0.8546511627906976,
          0.8488372093023255,
          0.8488372093023255,
          0.8488372093023255,
          0.8488372093023255,
          0.8430232558139535,
          0.8372093023255814,
          0.8372093023255814,
          0.8313953488372093,
          0.8313953488372093,
          0.8255813953488372,
          0.8197674418604651,
          0.813953488372093,
          0.813953488372093,
          0.8081395348837209,
          0.8023255813953488,
          0.7965116279069767,
          0.7965116279069767,
          0.7906976744186046,
          0.7906976744186046,
          0.7848837209302325,
          0.7790697674418605,
          0.7732558139534884,
          0.7674418604651163,
          0.7616279069767442,
          0.7558139534883721,
          0.75,
          0.7383720930232558,
          0.7383720930232558,
          0.7383720930232558,
          0.7325581395348837,
          0.7267441860465116,
          0.7267441860465116,
          0.7209302325581395,
          0.7151162790697675,
          0.7093023255813954,
          0.7034883720930233,
          0.6976744186046512,
          0.6918604651162791,
          0.6918604651162791,
          0.686046511627907,
          0.6802325581395349,
          0.6802325581395349,
          0.6802325581395349,
          0.6802325581395349,
          0.6802325581395349,
          0.6744186046511628,
          0.6686046511627907,
          0.6627906976744186,
          0.6627906976744186,
          0.6569767441860465,
          0.6511627906976745,
          0.6453488372093024,
          0.6395348837209303,
          0.6337209302325582,
          0.627906976744186,
          0.622093023255814,
          0.6162790697674418,
          0.6162790697674418,
          0.6104651162790697,
          0.6046511627906976,
          0.5988372093023255,
          0.5930232558139535,
          0.5872093023255814,
          0.5872093023255814,
          0.5813953488372093,
          0.5755813953488372,
          0.5697674418604651,
          0.5697674418604651,
          0.563953488372093,
          0.563953488372093,
          0.5581395348837209,
          0.5523255813953488,
          0.5465116279069767,
          0.5406976744186046,
          0.5406976744186046,
          0.5348837209302325,
          0.5290697674418605,
          0.5290697674418605,
          0.5232558139534884,
          0.5174418604651163,
          0.5116279069767442,
          0.5058139534883721,
          0.5,
          0.4941860465116279,
          0.4883720930232558,
          0.4883720930232558,
          0.48255813953488375,
          0.47674418604651164,
          0.47093023255813954,
          0.47093023255813954,
          0.46511627906976744,
          0.46511627906976744,
          0.45930232558139533,
          0.45348837209302323,
          0.4476744186046512,
          0.4418604651162791,
          0.436046511627907,
          0.43023255813953487,
          0.42441860465116277,
          0.4186046511627907,
          0.4127906976744186,
          0.4069767441860465,
          0.4069767441860465,
          0.4011627906976744,
          0.3953488372093023,
          0.38953488372093026,
          0.38372093023255816,
          0.37790697674418605,
          0.37209302325581395,
          0.36627906976744184,
          0.36046511627906974,
          0.3546511627906977,
          0.3488372093023256,
          0.3488372093023256,
          0.3430232558139535,
          0.3372093023255814,
          0.3313953488372093,
          0.32558139534883723,
          0.31976744186046513,
          0.313953488372093,
          0.3081395348837209,
          0.3023255813953488,
          0.29651162790697677,
          0.29069767441860467,
          0.28488372093023256,
          0.27906976744186046,
          0.27325581395348836,
          0.26744186046511625,
          0.2616279069767442,
          0.2558139534883721,
          0.2558139534883721,
          0.25,
          0.2441860465116279,
          0.23837209302325582,
          0.23255813953488372,
          0.22674418604651161,
          0.22093023255813954,
          0.21511627906976744,
          0.20930232558139536,
          0.20348837209302326,
          0.19767441860465115,
          0.19186046511627908,
          0.18604651162790697,
          0.18023255813953487,
          0.1744186046511628,
          0.1686046511627907,
          0.1686046511627907,
          0.16279069767441862,
          0.1569767441860465,
          0.1511627906976744,
          0.14534883720930233,
          0.13953488372093023,
          0.13372093023255813,
          0.12790697674418605,
          0.12209302325581395,
          0.11627906976744186,
          0.11046511627906977,
          0.10465116279069768,
          0.09883720930232558,
          0.09302325581395349,
          0.0872093023255814,
          0.08139534883720931,
          0.0755813953488372,
          0.06976744186046512,
          0.06395348837209303,
          0.05813953488372093,
          0.05232558139534884,
          0.046511627906976744,
          0.040697674418604654,
          0.03488372093023256,
          0.029069767441860465,
          0.023255813953488372,
          0.01744186046511628,
          0.011627906976744186,
          0.005813953488372093
         ],
         "xaxis": "x",
         "y": [
          0.35030549898167007,
          0.3489795918367347,
          0.3496932515337423,
          0.35040983606557374,
          0.351129363449692,
          0.35185185185185186,
          0.3525773195876289,
          0.35330578512396693,
          0.35403726708074534,
          0.35477178423236516,
          0.35550935550935553,
          0.35625,
          0.3569937369519833,
          0.3577405857740586,
          0.3584905660377358,
          0.3592436974789916,
          0.36,
          0.36075949367088606,
          0.36152219873150104,
          0.3622881355932203,
          0.3630573248407643,
          0.3638297872340426,
          0.3646055437100213,
          0.36538461538461536,
          0.36616702355460384,
          0.3669527896995708,
          0.36774193548387096,
          0.36853448275862066,
          0.3693304535637149,
          0.37012987012987014,
          0.37093275488069416,
          0.3717391304347826,
          0.37254901960784315,
          0.37336244541484714,
          0.3741794310722101,
          0.375,
          0.3758241758241758,
          0.3766519823788546,
          0.37748344370860926,
          0.37831858407079644,
          0.37915742793791574,
          0.38,
          0.38084632516703787,
          0.38169642857142855,
          0.3825503355704698,
          0.3834080717488789,
          0.3842696629213483,
          0.38513513513513514,
          0.3860045146726862,
          0.38687782805429866,
          0.3877551020408163,
          0.3886363636363636,
          0.3895216400911162,
          0.3904109589041096,
          0.391304347826087,
          0.3922018348623853,
          0.3931034482758621,
          0.39400921658986177,
          0.394919168591224,
          0.3958333333333333,
          0.39675174013921116,
          0.39767441860465114,
          0.3962703962703963,
          0.397196261682243,
          0.3981264637002342,
          0.39906103286384975,
          0.4,
          0.4009433962264151,
          0.40189125295508277,
          0.4028436018957346,
          0.40380047505938244,
          0.40476190476190477,
          0.40572792362768495,
          0.40669856459330145,
          0.407673860911271,
          0.40865384615384615,
          0.40963855421686746,
          0.4106280193236715,
          0.4116222760290557,
          0.41262135922330095,
          0.41362530413625304,
          0.4146341463414634,
          0.4156479217603912,
          0.4166666666666667,
          0.4176904176904177,
          0.4187192118226601,
          0.41975308641975306,
          0.4207920792079208,
          0.4218362282878412,
          0.4228855721393035,
          0.4239401496259352,
          0.425,
          0.42606516290726815,
          0.4271356783919598,
          0.4282115869017632,
          0.4292929292929293,
          0.43037974683544306,
          0.43147208121827413,
          0.43256997455470736,
          0.43478260869565216,
          0.4358974358974359,
          0.4370179948586118,
          0.4381443298969072,
          0.4392764857881137,
          0.44041450777202074,
          0.44155844155844154,
          0.4427083333333333,
          0.44386422976501305,
          0.44502617801047123,
          0.4461942257217848,
          0.4473684210526316,
          0.44854881266490765,
          0.4497354497354497,
          0.4509283819628647,
          0.4521276595744681,
          0.4533333333333333,
          0.45454545454545453,
          0.45576407506702415,
          0.45698924731182794,
          0.4582210242587601,
          0.4594594594594595,
          0.46070460704607047,
          0.46195652173913043,
          0.46321525885558584,
          0.4644808743169399,
          0.4657534246575342,
          0.46703296703296704,
          0.46831955922865015,
          0.4696132596685083,
          0.4709141274238227,
          0.4722222222222222,
          0.4735376044568245,
          0.4748603351955307,
          0.47619047619047616,
          0.47752808988764045,
          0.4788732394366197,
          0.480225988700565,
          0.48158640226628896,
          0.48295454545454547,
          0.4843304843304843,
          0.4857142857142857,
          0.4871060171919771,
          0.4885057471264368,
          0.48703170028818443,
          0.4884393063583815,
          0.48985507246376814,
          0.49127906976744184,
          0.49271137026239065,
          0.49415204678362573,
          0.49266862170087977,
          0.49411764705882355,
          0.49557522123893805,
          0.4970414201183432,
          0.49851632047477745,
          0.5,
          0.5014925373134328,
          0.5029940119760479,
          0.5045045045045045,
          0.5060240963855421,
          0.5075528700906344,
          0.509090909090909,
          0.5106382978723404,
          0.5121951219512195,
          0.5137614678899083,
          0.5153374233128835,
          0.5169230769230769,
          0.5185185185185185,
          0.5201238390092879,
          0.5217391304347826,
          0.5233644859813084,
          0.525,
          0.5266457680250783,
          0.5283018867924528,
          0.5299684542586751,
          0.5316455696202531,
          0.5333333333333333,
          0.535031847133758,
          0.5335463258785943,
          0.5352564102564102,
          0.5369774919614148,
          0.5387096774193548,
          0.540453074433657,
          0.5422077922077922,
          0.5439739413680782,
          0.545751633986928,
          0.5475409836065573,
          0.5493421052631579,
          0.5511551155115512,
          0.5529801324503312,
          0.5548172757475083,
          0.5566666666666666,
          0.5585284280936454,
          0.5604026845637584,
          0.5622895622895623,
          0.5641891891891891,
          0.5661016949152542,
          0.5680272108843537,
          0.5699658703071673,
          0.571917808219178,
          0.5738831615120275,
          0.5758620689655173,
          0.5778546712802768,
          0.5798611111111112,
          0.5818815331010453,
          0.583916083916084,
          0.5859649122807018,
          0.5880281690140845,
          0.5901060070671378,
          0.5921985815602837,
          0.594306049822064,
          0.5964285714285714,
          0.5985663082437276,
          0.6007194244604317,
          0.6028880866425993,
          0.605072463768116,
          0.6072727272727273,
          0.6094890510948905,
          0.6117216117216118,
          0.6139705882352942,
          0.6162361623616236,
          0.6185185185185185,
          0.620817843866171,
          0.6231343283582089,
          0.6254681647940075,
          0.6278195488721805,
          0.6264150943396226,
          0.6287878787878788,
          0.6311787072243346,
          0.6297709923664122,
          0.632183908045977,
          0.6346153846153846,
          0.637065637065637,
          0.6395348837209303,
          0.642023346303502,
          0.64453125,
          0.6470588235294118,
          0.6496062992125984,
          0.6521739130434783,
          0.6547619047619048,
          0.6573705179282868,
          0.66,
          0.6626506024096386,
          0.6653225806451613,
          0.6680161943319838,
          0.6707317073170732,
          0.673469387755102,
          0.6762295081967213,
          0.6790123456790124,
          0.6818181818181818,
          0.6846473029045643,
          0.6875,
          0.6903765690376569,
          0.6932773109243697,
          0.6962025316455697,
          0.6949152542372882,
          0.6978723404255319,
          0.7008547008547008,
          0.703862660944206,
          0.7025862068965517,
          0.7056277056277056,
          0.7086956521739131,
          0.7117903930131004,
          0.7149122807017544,
          0.7180616740088106,
          0.7212389380530974,
          0.72,
          0.7232142857142857,
          0.726457399103139,
          0.7297297297297297,
          0.7285067873303167,
          0.7272727272727273,
          0.730593607305936,
          0.7339449541284404,
          0.7327188940092166,
          0.7361111111111112,
          0.7348837209302326,
          0.7383177570093458,
          0.7417840375586855,
          0.7452830188679245,
          0.7488151658767772,
          0.7476190476190476,
          0.7464114832535885,
          0.75,
          0.7536231884057971,
          0.7572815533980582,
          0.7609756097560976,
          0.7598039215686274,
          0.7635467980295566,
          0.7673267326732673,
          0.7711442786069652,
          0.775,
          0.7788944723618091,
          0.7828282828282829,
          0.7817258883248731,
          0.7857142857142857,
          0.7897435897435897,
          0.788659793814433,
          0.7875647668393783,
          0.7916666666666666,
          0.7958115183246073,
          0.8,
          0.798941798941799,
          0.7978723404255319,
          0.8021390374331551,
          0.8010752688172043,
          0.8054054054054054,
          0.8043478260869565,
          0.8087431693989071,
          0.8076923076923077,
          0.8121546961325967,
          0.8166666666666667,
          0.8212290502793296,
          0.8258426966292135,
          0.8305084745762712,
          0.8295454545454546,
          0.8342857142857143,
          0.8390804597701149,
          0.8439306358381503,
          0.8430232558139535,
          0.8421052631578947,
          0.8470588235294118,
          0.8461538461538461,
          0.8511904761904762,
          0.8502994011976048,
          0.8493975903614458,
          0.8484848484848485,
          0.8536585365853658,
          0.852760736196319,
          0.8518518518518519,
          0.8509316770186336,
          0.85625,
          0.8553459119496856,
          0.8607594936708861,
          0.8598726114649682,
          0.8589743589743589,
          0.8580645161290322,
          0.8571428571428571,
          0.8562091503267973,
          0.8552631578947368,
          0.8543046357615894,
          0.8523489932885906,
          0.8581081081081081,
          0.8639455782312925,
          0.863013698630137,
          0.8620689655172413,
          0.8680555555555556,
          0.8671328671328671,
          0.8661971830985915,
          0.8652482269503546,
          0.8642857142857143,
          0.8633093525179856,
          0.8623188405797102,
          0.8686131386861314,
          0.8676470588235294,
          0.8666666666666667,
          0.8731343283582089,
          0.8796992481203008,
          0.8863636363636364,
          0.8931297709923665,
          0.8923076923076924,
          0.8914728682170543,
          0.890625,
          0.8976377952755905,
          0.8968253968253969,
          0.896,
          0.8951612903225806,
          0.8943089430894309,
          0.8934426229508197,
          0.8925619834710744,
          0.8916666666666667,
          0.8907563025210085,
          0.8983050847457628,
          0.8974358974358975,
          0.896551724137931,
          0.8956521739130435,
          0.8947368421052632,
          0.8938053097345132,
          0.9017857142857143,
          0.9009009009009009,
          0.9,
          0.8990825688073395,
          0.9074074074074074,
          0.9065420560747663,
          0.9150943396226415,
          0.9142857142857143,
          0.9134615384615384,
          0.912621359223301,
          0.9117647058823529,
          0.9207920792079208,
          0.92,
          0.9191919191919192,
          0.9285714285714286,
          0.9278350515463918,
          0.9270833333333334,
          0.9263157894736842,
          0.925531914893617,
          0.9247311827956989,
          0.9239130434782609,
          0.9230769230769231,
          0.9333333333333333,
          0.9325842696629213,
          0.9318181818181818,
          0.9310344827586207,
          0.9418604651162791,
          0.9411764705882353,
          0.9523809523809523,
          0.9518072289156626,
          0.9512195121951219,
          0.9506172839506173,
          0.95,
          0.9493670886075949,
          0.9487179487179487,
          0.948051948051948,
          0.9473684210526315,
          0.9466666666666667,
          0.9459459459459459,
          0.958904109589041,
          0.9583333333333334,
          0.9577464788732394,
          0.9571428571428572,
          0.9565217391304348,
          0.9558823529411765,
          0.9552238805970149,
          0.9545454545454546,
          0.9538461538461539,
          0.953125,
          0.9523809523809523,
          0.967741935483871,
          0.9672131147540983,
          0.9666666666666667,
          0.9661016949152542,
          0.9655172413793104,
          0.9649122807017544,
          0.9642857142857143,
          0.9636363636363636,
          0.9629629629629629,
          0.9622641509433962,
          0.9615384615384616,
          0.9607843137254902,
          0.96,
          0.9591836734693877,
          0.9583333333333334,
          0.9574468085106383,
          0.9565217391304348,
          0.9777777777777777,
          0.9772727272727273,
          0.9767441860465116,
          0.9761904761904762,
          0.975609756097561,
          0.975,
          0.9743589743589743,
          0.9736842105263158,
          0.972972972972973,
          0.9722222222222222,
          0.9714285714285714,
          0.9705882352941176,
          0.9696969696969697,
          0.96875,
          0.967741935483871,
          0.9666666666666667,
          1,
          1,
          1,
          1,
          1,
          1,
          1,
          1,
          1,
          1,
          1,
          1,
          1,
          1,
          1,
          1,
          1,
          1,
          1,
          1,
          1,
          1,
          1,
          1,
          1,
          1,
          1,
          1,
          1
         ],
         "yaxis": "y"
        }
       ],
       "layout": {
        "height": 500,
        "legend": {
         "tracegroupgap": 0
        },
        "template": {
         "data": {
          "bar": [
           {
            "error_x": {
             "color": "#2a3f5f"
            },
            "error_y": {
             "color": "#2a3f5f"
            },
            "marker": {
             "line": {
              "color": "#E5ECF6",
              "width": 0.5
             },
             "pattern": {
              "fillmode": "overlay",
              "size": 10,
              "solidity": 0.2
             }
            },
            "type": "bar"
           }
          ],
          "barpolar": [
           {
            "marker": {
             "line": {
              "color": "#E5ECF6",
              "width": 0.5
             },
             "pattern": {
              "fillmode": "overlay",
              "size": 10,
              "solidity": 0.2
             }
            },
            "type": "barpolar"
           }
          ],
          "carpet": [
           {
            "aaxis": {
             "endlinecolor": "#2a3f5f",
             "gridcolor": "white",
             "linecolor": "white",
             "minorgridcolor": "white",
             "startlinecolor": "#2a3f5f"
            },
            "baxis": {
             "endlinecolor": "#2a3f5f",
             "gridcolor": "white",
             "linecolor": "white",
             "minorgridcolor": "white",
             "startlinecolor": "#2a3f5f"
            },
            "type": "carpet"
           }
          ],
          "choropleth": [
           {
            "colorbar": {
             "outlinewidth": 0,
             "ticks": ""
            },
            "type": "choropleth"
           }
          ],
          "contour": [
           {
            "colorbar": {
             "outlinewidth": 0,
             "ticks": ""
            },
            "colorscale": [
             [
              0,
              "#0d0887"
             ],
             [
              0.1111111111111111,
              "#46039f"
             ],
             [
              0.2222222222222222,
              "#7201a8"
             ],
             [
              0.3333333333333333,
              "#9c179e"
             ],
             [
              0.4444444444444444,
              "#bd3786"
             ],
             [
              0.5555555555555556,
              "#d8576b"
             ],
             [
              0.6666666666666666,
              "#ed7953"
             ],
             [
              0.7777777777777778,
              "#fb9f3a"
             ],
             [
              0.8888888888888888,
              "#fdca26"
             ],
             [
              1,
              "#f0f921"
             ]
            ],
            "type": "contour"
           }
          ],
          "contourcarpet": [
           {
            "colorbar": {
             "outlinewidth": 0,
             "ticks": ""
            },
            "type": "contourcarpet"
           }
          ],
          "heatmap": [
           {
            "colorbar": {
             "outlinewidth": 0,
             "ticks": ""
            },
            "colorscale": [
             [
              0,
              "#0d0887"
             ],
             [
              0.1111111111111111,
              "#46039f"
             ],
             [
              0.2222222222222222,
              "#7201a8"
             ],
             [
              0.3333333333333333,
              "#9c179e"
             ],
             [
              0.4444444444444444,
              "#bd3786"
             ],
             [
              0.5555555555555556,
              "#d8576b"
             ],
             [
              0.6666666666666666,
              "#ed7953"
             ],
             [
              0.7777777777777778,
              "#fb9f3a"
             ],
             [
              0.8888888888888888,
              "#fdca26"
             ],
             [
              1,
              "#f0f921"
             ]
            ],
            "type": "heatmap"
           }
          ],
          "heatmapgl": [
           {
            "colorbar": {
             "outlinewidth": 0,
             "ticks": ""
            },
            "colorscale": [
             [
              0,
              "#0d0887"
             ],
             [
              0.1111111111111111,
              "#46039f"
             ],
             [
              0.2222222222222222,
              "#7201a8"
             ],
             [
              0.3333333333333333,
              "#9c179e"
             ],
             [
              0.4444444444444444,
              "#bd3786"
             ],
             [
              0.5555555555555556,
              "#d8576b"
             ],
             [
              0.6666666666666666,
              "#ed7953"
             ],
             [
              0.7777777777777778,
              "#fb9f3a"
             ],
             [
              0.8888888888888888,
              "#fdca26"
             ],
             [
              1,
              "#f0f921"
             ]
            ],
            "type": "heatmapgl"
           }
          ],
          "histogram": [
           {
            "marker": {
             "pattern": {
              "fillmode": "overlay",
              "size": 10,
              "solidity": 0.2
             }
            },
            "type": "histogram"
           }
          ],
          "histogram2d": [
           {
            "colorbar": {
             "outlinewidth": 0,
             "ticks": ""
            },
            "colorscale": [
             [
              0,
              "#0d0887"
             ],
             [
              0.1111111111111111,
              "#46039f"
             ],
             [
              0.2222222222222222,
              "#7201a8"
             ],
             [
              0.3333333333333333,
              "#9c179e"
             ],
             [
              0.4444444444444444,
              "#bd3786"
             ],
             [
              0.5555555555555556,
              "#d8576b"
             ],
             [
              0.6666666666666666,
              "#ed7953"
             ],
             [
              0.7777777777777778,
              "#fb9f3a"
             ],
             [
              0.8888888888888888,
              "#fdca26"
             ],
             [
              1,
              "#f0f921"
             ]
            ],
            "type": "histogram2d"
           }
          ],
          "histogram2dcontour": [
           {
            "colorbar": {
             "outlinewidth": 0,
             "ticks": ""
            },
            "colorscale": [
             [
              0,
              "#0d0887"
             ],
             [
              0.1111111111111111,
              "#46039f"
             ],
             [
              0.2222222222222222,
              "#7201a8"
             ],
             [
              0.3333333333333333,
              "#9c179e"
             ],
             [
              0.4444444444444444,
              "#bd3786"
             ],
             [
              0.5555555555555556,
              "#d8576b"
             ],
             [
              0.6666666666666666,
              "#ed7953"
             ],
             [
              0.7777777777777778,
              "#fb9f3a"
             ],
             [
              0.8888888888888888,
              "#fdca26"
             ],
             [
              1,
              "#f0f921"
             ]
            ],
            "type": "histogram2dcontour"
           }
          ],
          "mesh3d": [
           {
            "colorbar": {
             "outlinewidth": 0,
             "ticks": ""
            },
            "type": "mesh3d"
           }
          ],
          "parcoords": [
           {
            "line": {
             "colorbar": {
              "outlinewidth": 0,
              "ticks": ""
             }
            },
            "type": "parcoords"
           }
          ],
          "pie": [
           {
            "automargin": true,
            "type": "pie"
           }
          ],
          "scatter": [
           {
            "fillpattern": {
             "fillmode": "overlay",
             "size": 10,
             "solidity": 0.2
            },
            "type": "scatter"
           }
          ],
          "scatter3d": [
           {
            "line": {
             "colorbar": {
              "outlinewidth": 0,
              "ticks": ""
             }
            },
            "marker": {
             "colorbar": {
              "outlinewidth": 0,
              "ticks": ""
             }
            },
            "type": "scatter3d"
           }
          ],
          "scattercarpet": [
           {
            "marker": {
             "colorbar": {
              "outlinewidth": 0,
              "ticks": ""
             }
            },
            "type": "scattercarpet"
           }
          ],
          "scattergeo": [
           {
            "marker": {
             "colorbar": {
              "outlinewidth": 0,
              "ticks": ""
             }
            },
            "type": "scattergeo"
           }
          ],
          "scattergl": [
           {
            "marker": {
             "colorbar": {
              "outlinewidth": 0,
              "ticks": ""
             }
            },
            "type": "scattergl"
           }
          ],
          "scattermapbox": [
           {
            "marker": {
             "colorbar": {
              "outlinewidth": 0,
              "ticks": ""
             }
            },
            "type": "scattermapbox"
           }
          ],
          "scatterpolar": [
           {
            "marker": {
             "colorbar": {
              "outlinewidth": 0,
              "ticks": ""
             }
            },
            "type": "scatterpolar"
           }
          ],
          "scatterpolargl": [
           {
            "marker": {
             "colorbar": {
              "outlinewidth": 0,
              "ticks": ""
             }
            },
            "type": "scatterpolargl"
           }
          ],
          "scatterternary": [
           {
            "marker": {
             "colorbar": {
              "outlinewidth": 0,
              "ticks": ""
             }
            },
            "type": "scatterternary"
           }
          ],
          "surface": [
           {
            "colorbar": {
             "outlinewidth": 0,
             "ticks": ""
            },
            "colorscale": [
             [
              0,
              "#0d0887"
             ],
             [
              0.1111111111111111,
              "#46039f"
             ],
             [
              0.2222222222222222,
              "#7201a8"
             ],
             [
              0.3333333333333333,
              "#9c179e"
             ],
             [
              0.4444444444444444,
              "#bd3786"
             ],
             [
              0.5555555555555556,
              "#d8576b"
             ],
             [
              0.6666666666666666,
              "#ed7953"
             ],
             [
              0.7777777777777778,
              "#fb9f3a"
             ],
             [
              0.8888888888888888,
              "#fdca26"
             ],
             [
              1,
              "#f0f921"
             ]
            ],
            "type": "surface"
           }
          ],
          "table": [
           {
            "cells": {
             "fill": {
              "color": "#EBF0F8"
             },
             "line": {
              "color": "white"
             }
            },
            "header": {
             "fill": {
              "color": "#C8D4E3"
             },
             "line": {
              "color": "white"
             }
            },
            "type": "table"
           }
          ]
         },
         "layout": {
          "annotationdefaults": {
           "arrowcolor": "#2a3f5f",
           "arrowhead": 0,
           "arrowwidth": 1
          },
          "autotypenumbers": "strict",
          "coloraxis": {
           "colorbar": {
            "outlinewidth": 0,
            "ticks": ""
           }
          },
          "colorscale": {
           "diverging": [
            [
             0,
             "#8e0152"
            ],
            [
             0.1,
             "#c51b7d"
            ],
            [
             0.2,
             "#de77ae"
            ],
            [
             0.3,
             "#f1b6da"
            ],
            [
             0.4,
             "#fde0ef"
            ],
            [
             0.5,
             "#f7f7f7"
            ],
            [
             0.6,
             "#e6f5d0"
            ],
            [
             0.7,
             "#b8e186"
            ],
            [
             0.8,
             "#7fbc41"
            ],
            [
             0.9,
             "#4d9221"
            ],
            [
             1,
             "#276419"
            ]
           ],
           "sequential": [
            [
             0,
             "#0d0887"
            ],
            [
             0.1111111111111111,
             "#46039f"
            ],
            [
             0.2222222222222222,
             "#7201a8"
            ],
            [
             0.3333333333333333,
             "#9c179e"
            ],
            [
             0.4444444444444444,
             "#bd3786"
            ],
            [
             0.5555555555555556,
             "#d8576b"
            ],
            [
             0.6666666666666666,
             "#ed7953"
            ],
            [
             0.7777777777777778,
             "#fb9f3a"
            ],
            [
             0.8888888888888888,
             "#fdca26"
            ],
            [
             1,
             "#f0f921"
            ]
           ],
           "sequentialminus": [
            [
             0,
             "#0d0887"
            ],
            [
             0.1111111111111111,
             "#46039f"
            ],
            [
             0.2222222222222222,
             "#7201a8"
            ],
            [
             0.3333333333333333,
             "#9c179e"
            ],
            [
             0.4444444444444444,
             "#bd3786"
            ],
            [
             0.5555555555555556,
             "#d8576b"
            ],
            [
             0.6666666666666666,
             "#ed7953"
            ],
            [
             0.7777777777777778,
             "#fb9f3a"
            ],
            [
             0.8888888888888888,
             "#fdca26"
            ],
            [
             1,
             "#f0f921"
            ]
           ]
          },
          "colorway": [
           "#636efa",
           "#EF553B",
           "#00cc96",
           "#ab63fa",
           "#FFA15A",
           "#19d3f3",
           "#FF6692",
           "#B6E880",
           "#FF97FF",
           "#FECB52"
          ],
          "font": {
           "color": "#2a3f5f"
          },
          "geo": {
           "bgcolor": "white",
           "lakecolor": "white",
           "landcolor": "#E5ECF6",
           "showlakes": true,
           "showland": true,
           "subunitcolor": "white"
          },
          "hoverlabel": {
           "align": "left"
          },
          "hovermode": "closest",
          "mapbox": {
           "style": "light"
          },
          "paper_bgcolor": "white",
          "plot_bgcolor": "#E5ECF6",
          "polar": {
           "angularaxis": {
            "gridcolor": "white",
            "linecolor": "white",
            "ticks": ""
           },
           "bgcolor": "#E5ECF6",
           "radialaxis": {
            "gridcolor": "white",
            "linecolor": "white",
            "ticks": ""
           }
          },
          "scene": {
           "xaxis": {
            "backgroundcolor": "#E5ECF6",
            "gridcolor": "white",
            "gridwidth": 2,
            "linecolor": "white",
            "showbackground": true,
            "ticks": "",
            "zerolinecolor": "white"
           },
           "yaxis": {
            "backgroundcolor": "#E5ECF6",
            "gridcolor": "white",
            "gridwidth": 2,
            "linecolor": "white",
            "showbackground": true,
            "ticks": "",
            "zerolinecolor": "white"
           },
           "zaxis": {
            "backgroundcolor": "#E5ECF6",
            "gridcolor": "white",
            "gridwidth": 2,
            "linecolor": "white",
            "showbackground": true,
            "ticks": "",
            "zerolinecolor": "white"
           }
          },
          "shapedefaults": {
           "line": {
            "color": "#2a3f5f"
           }
          },
          "ternary": {
           "aaxis": {
            "gridcolor": "white",
            "linecolor": "white",
            "ticks": ""
           },
           "baxis": {
            "gridcolor": "white",
            "linecolor": "white",
            "ticks": ""
           },
           "bgcolor": "#E5ECF6",
           "caxis": {
            "gridcolor": "white",
            "linecolor": "white",
            "ticks": ""
           }
          },
          "title": {
           "x": 0.05
          },
          "xaxis": {
           "automargin": true,
           "gridcolor": "white",
           "linecolor": "white",
           "ticks": "",
           "title": {
            "standoff": 15
           },
           "zerolinecolor": "white",
           "zerolinewidth": 2
          },
          "yaxis": {
           "automargin": true,
           "gridcolor": "white",
           "linecolor": "white",
           "ticks": "",
           "title": {
            "standoff": 15
           },
           "zerolinecolor": "white",
           "zerolinewidth": 2
          }
         }
        },
        "title": {
         "text": "Precision-Recall Curve"
        },
        "width": 1200,
        "xaxis": {
         "anchor": "y",
         "domain": [
          0,
          1
         ],
         "title": {
          "text": "recall"
         }
        },
        "yaxis": {
         "anchor": "x",
         "domain": [
          0,
          1
         ],
         "title": {
          "text": "precision"
         }
        }
       }
      }
     },
     "metadata": {},
     "output_type": "display_data"
    }
   ],
   "source": [
    "# we got prec, rec and thresholds not the same length, so we will exclude the last elements of prec and rec to create a dataframe.\n",
    "# create a dictionary with arrays\n",
    "data = {\n",
    "    \"precision\": prec[:-1], \n",
    "    \"recall\": rec[:-1],\n",
    "    \"thresholds\": thresholds  \n",
    "}\n",
    "\n",
    "# create a dataframe\n",
    "df_tresholds = pd.DataFrame(data)\n",
    "\n",
    "fig = px.line(\n",
    "    df_tresholds,\n",
    "    x=\"recall\",\n",
    "    y=\"precision\",\n",
    "    hover_data=[\"thresholds\"],\n",
    "    title=\"Precision-Recall Curve\",\n",
    "    width=1200,\n",
    "    height=500\n",
    ")\n",
    "\n",
    "fig.show()"
   ]
  },
  {
   "attachments": {},
   "cell_type": "markdown",
   "metadata": {},
   "source": [
    "We see that the optimal point for 2 metrics is somewhere here: (prec > 0.95) & (rec > 0.46).\n",
    "Using Numpy, we try to determine the array number of the element that gives this result."
   ]
  },
  {
   "cell_type": "code",
   "execution_count": 80,
   "metadata": {},
   "outputs": [
    {
     "data": {
      "text/plain": [
       "(array([405], dtype=int64),)"
      ]
     },
     "execution_count": 80,
     "metadata": {},
     "output_type": "execute_result"
    }
   ],
   "source": [
    "np.where((prec > 0.95) & (rec > 0.46))"
   ]
  },
  {
   "cell_type": "code",
   "execution_count": 81,
   "metadata": {},
   "outputs": [
    {
     "data": {
      "text/plain": [
       "precision     0.952381\n",
       "recall        0.465116\n",
       "thresholds    0.600599\n",
       "Name: 405, dtype: float64"
      ]
     },
     "execution_count": 81,
     "metadata": {},
     "output_type": "execute_result"
    }
   ],
   "source": [
    "df_tresholds.iloc[405]"
   ]
  },
  {
   "cell_type": "code",
   "execution_count": 83,
   "metadata": {},
   "outputs": [
    {
     "data": {
      "text/plain": [
       "0.9523809523809523"
      ]
     },
     "execution_count": 83,
     "metadata": {},
     "output_type": "execute_result"
    }
   ],
   "source": [
    "# Calculate the precision_score again.\n",
    "precision_score(y_true=test_df[\"toxic\"], y_pred=model_pipeline.predict_proba(test_df[\"comment\"])[:,1] >= thresholds[405])"
   ]
  },
  {
   "attachments": {},
   "cell_type": "markdown",
   "metadata": {},
   "source": [
    "Let's try to improve the model.\n",
    "\n",
    "---\n",
    "C : float, default=1.0\n",
    "\n",
    "---\n",
    "\n",
    "The regularization factor must be a positive floating point number. As with support vector machines, smaller values result in stronger regularization.\n",
    "Let's write a new pipeline in which we will use our logistic regression, vectorizer and they will be wrapped in GridSearch."
   ]
  },
  {
   "cell_type": "code",
   "execution_count": 87,
   "metadata": {},
   "outputs": [],
   "source": [
    "grid_pipeline = Pipeline([\n",
    "    (\"vectorizer\", TfidfVectorizer(tokenizer=lambda x: tokenize_sentence(x, remove_stop_words=True))),\n",
    "    (\"model\", \n",
    "     GridSearchCV(\n",
    "        LogisticRegression(random_state=10),\n",
    "        # 3 random parameters for C.\n",
    "        param_grid={'C': [0.2, 1, 2]},\n",
    "        # during cross validation, we will split it into 3 folds. Fitting 3 folds for each of the 3 candidates\n",
    "        cv=3,\n",
    "        # display all information about training in the terminal\n",
    "         verbose=4\n",
    "        )\n",
    "    )\n",
    "])"
   ]
  },
  {
   "cell_type": "code",
   "execution_count": 88,
   "metadata": {},
   "outputs": [
    {
     "name": "stdout",
     "output_type": "stream",
     "text": [
      "Fitting 3 folds for each of 3 candidates, totalling 9 fits\n",
      "[CV 1/3] END .............................C=0.2;, score=0.734 total time=   0.2s\n",
      "[CV 2/3] END .............................C=0.2;, score=0.730 total time=   0.2s\n",
      "[CV 3/3] END .............................C=0.2;, score=0.733 total time=   0.1s\n",
      "[CV 1/3] END ...............................C=1;, score=0.839 total time=   0.5s\n",
      "[CV 2/3] END ...............................C=1;, score=0.844 total time=   0.5s\n",
      "[CV 3/3] END ...............................C=1;, score=0.834 total time=   0.4s\n",
      "[CV 1/3] END ...............................C=2;, score=0.856 total time=   0.6s\n",
      "[CV 2/3] END ...............................C=2;, score=0.862 total time=   0.5s\n",
      "[CV 3/3] END ...............................C=2;, score=0.851 total time=   0.5s\n"
     ]
    },
    {
     "data": {
      "text/plain": [
       "Pipeline(steps=[('vectorizer',\n",
       "                 TfidfVectorizer(tokenizer=<function <lambda> at 0x000001A5C260AC18>)),\n",
       "                ('model',\n",
       "                 GridSearchCV(cv=3,\n",
       "                              estimator=LogisticRegression(random_state=10),\n",
       "                              param_grid={'C': [0.2, 1, 2]}, verbose=4))])"
      ]
     },
     "execution_count": 88,
     "metadata": {},
     "output_type": "execute_result"
    }
   ],
   "source": [
    "# We pass to Pipeline a list of sentences, labels and GridSearch and also train the model.\n",
    "grid_pipeline.fit(train_df[\"comment\"], train_df[\"toxic\"])"
   ]
  },
  {
   "cell_type": "code",
   "execution_count": 90,
   "metadata": {},
   "outputs": [],
   "source": [
    "# Substitute parameter C = 2 and create a pipeline\n",
    "model_pipeline_c_1 = Pipeline([\n",
    "    (\"vectorizer\", TfidfVectorizer(tokenizer=lambda x: tokenize_sentence(x, remove_stop_words=True))),\n",
    "    (\"model\", LogisticRegression(random_state=0, C=2))\n",
    "]\n",
    ")"
   ]
  },
  {
   "cell_type": "code",
   "execution_count": 91,
   "metadata": {},
   "outputs": [
    {
     "data": {
      "text/plain": [
       "Pipeline(steps=[('vectorizer',\n",
       "                 TfidfVectorizer(tokenizer=<function <lambda> at 0x000001A5C2B7FA68>)),\n",
       "                ('model', LogisticRegression(C=2, random_state=0))])"
      ]
     },
     "execution_count": 91,
     "metadata": {},
     "output_type": "execute_result"
    }
   ],
   "source": [
    "model_pipeline_c_1.fit(train_df[\"comment\"], train_df[\"toxic\"])"
   ]
  },
  {
   "cell_type": "code",
   "execution_count": 95,
   "metadata": {},
   "outputs": [
    {
     "data": {
      "text/plain": [
       "array([1])"
      ]
     },
     "execution_count": 95,
     "metadata": {},
     "output_type": "execute_result"
    }
   ],
   "source": [
    "# Trying a rude comment\n",
    "model_pipeline.predict([\"пошел нахер отсюда\"])"
   ]
  },
  {
   "cell_type": "code",
   "execution_count": 94,
   "metadata": {},
   "outputs": [
    {
     "data": {
      "text/plain": [
       "array([0])"
      ]
     },
     "execution_count": 94,
     "metadata": {},
     "output_type": "execute_result"
    }
   ],
   "source": [
    "# Trying a positive comment\n",
    "model_pipeline_c_1.predict([\"какая-то  фича, привет, всё нормально у тебя?\"])"
   ]
  },
  {
   "cell_type": "code",
   "execution_count": 58,
   "metadata": {},
   "outputs": [],
   "source": [
    "# count 3 arrays for building a chart\n",
    "prec_c_1, rec_c_1, thresholds_c_1 = precision_recall_curve(y_true=test_df[\"toxic\"], probas_pred=model_pipeline_c_1.predict_proba(test_df[\"comment\"])[:, 1])"
   ]
  },
  {
   "cell_type": "code",
   "execution_count": 60,
   "metadata": {},
   "outputs": [
    {
     "data": {
      "application/vnd.plotly.v1+json": {
       "config": {
        "plotlyServerURL": "https://plot.ly"
       },
       "data": [
        {
         "customdata": [
          [
           0.010319141828694266
          ],
          [
           0.011148633385295483
          ],
          [
           0.012729033272063832
          ],
          [
           0.012834767773551584
          ],
          [
           0.013213428400359425
          ],
          [
           0.014193757670111959
          ],
          [
           0.014548276964889648
          ],
          [
           0.015102951234733977
          ],
          [
           0.015298934759501058
          ],
          [
           0.017740977765215462
          ],
          [
           0.017818986723357848
          ],
          [
           0.01977176659920541
          ],
          [
           0.020822329030030454
          ],
          [
           0.020908754314660608
          ],
          [
           0.021256395058539945
          ],
          [
           0.0212832011556386
          ],
          [
           0.021537697076765037
          ],
          [
           0.022106468421497955
          ],
          [
           0.022413907615712093
          ],
          [
           0.022443678792024892
          ],
          [
           0.02315945198413864
          ],
          [
           0.024976611383062723
          ],
          [
           0.025854630030589812
          ],
          [
           0.028160346257683523
          ],
          [
           0.02956606423962178
          ],
          [
           0.029776409301940324
          ],
          [
           0.03012911784905016
          ],
          [
           0.03268844707157103
          ],
          [
           0.03389210622856317
          ],
          [
           0.03507905326431335
          ],
          [
           0.03589173285129831
          ],
          [
           0.035940745410539494
          ],
          [
           0.03728211698883041
          ],
          [
           0.03849519818536857
          ],
          [
           0.03863452605516388
          ],
          [
           0.03904316393497595
          ],
          [
           0.039427865438995284
          ],
          [
           0.039723347229189035
          ],
          [
           0.04101516581462475
          ],
          [
           0.041257119260327726
          ],
          [
           0.04214867317179143
          ],
          [
           0.04552588675517037
          ],
          [
           0.04571412037876017
          ],
          [
           0.0458550074094158
          ],
          [
           0.04607675468883426
          ],
          [
           0.04611294041561253
          ],
          [
           0.046695066696258135
          ],
          [
           0.04671020271450306
          ],
          [
           0.047391976481114775
          ],
          [
           0.047480521370792055
          ],
          [
           0.04874470236096879
          ],
          [
           0.048750673831428
          ],
          [
           0.04879846695488149
          ],
          [
           0.04890778904730924
          ],
          [
           0.04932035220391371
          ],
          [
           0.04974480087609011
          ],
          [
           0.0498693218251832
          ],
          [
           0.05004584932702029
          ],
          [
           0.051470748195358726
          ],
          [
           0.05227149020469354
          ],
          [
           0.05245920686835454
          ],
          [
           0.05297007174453139
          ],
          [
           0.053195350096989426
          ],
          [
           0.05382712401264151
          ],
          [
           0.054047579049169375
          ],
          [
           0.05561590900555318
          ],
          [
           0.056728517086593974
          ],
          [
           0.05707518579207857
          ],
          [
           0.057579048740251514
          ],
          [
           0.05871118513087345
          ],
          [
           0.058847704108765185
          ],
          [
           0.05941787774518563
          ],
          [
           0.05971807551225549
          ],
          [
           0.059846262993792074
          ],
          [
           0.05988141403585671
          ],
          [
           0.06003312718206154
          ],
          [
           0.060392398836951515
          ],
          [
           0.0614296958935685
          ],
          [
           0.06152334919601435
          ],
          [
           0.06222801037500816
          ],
          [
           0.0629486223537782
          ],
          [
           0.06310171205043283
          ],
          [
           0.06327946316490513
          ],
          [
           0.06356241807507305
          ],
          [
           0.06524241909553699
          ],
          [
           0.06761928948194838
          ],
          [
           0.06929304959477216
          ],
          [
           0.07106442003049171
          ],
          [
           0.07251891416160938
          ],
          [
           0.07392389817018773
          ],
          [
           0.07461998028828686
          ],
          [
           0.07492836269268809
          ],
          [
           0.07619563333798172
          ],
          [
           0.07669930926862734
          ],
          [
           0.07676452070854539
          ],
          [
           0.07699647744403686
          ],
          [
           0.0772329068999495
          ],
          [
           0.07750648258908885
          ],
          [
           0.07766783550539154
          ],
          [
           0.07788951098877374
          ],
          [
           0.07855446514808535
          ],
          [
           0.07924126893899372
          ],
          [
           0.08403836057437625
          ],
          [
           0.08464371509166091
          ],
          [
           0.08513414357584517
          ],
          [
           0.08715612311101717
          ],
          [
           0.08842892877130751
          ],
          [
           0.08933069393297839
          ],
          [
           0.08981814987109286
          ],
          [
           0.09003949726978766
          ],
          [
           0.0915303301676744
          ],
          [
           0.09174427270088897
          ],
          [
           0.09241844883033143
          ],
          [
           0.0935782188047076
          ],
          [
           0.0941262582286746
          ],
          [
           0.09425320214629296
          ],
          [
           0.09433063086495248
          ],
          [
           0.09443027101415824
          ],
          [
           0.09443822808905276
          ],
          [
           0.094735656505076
          ],
          [
           0.09573499450737699
          ],
          [
           0.09615654272774969
          ],
          [
           0.09626758306815417
          ],
          [
           0.096560806137937
          ],
          [
           0.09664218738641966
          ],
          [
           0.09709933951431851
          ],
          [
           0.09734748541683791
          ],
          [
           0.09859794925428478
          ],
          [
           0.09883401004407781
          ],
          [
           0.09951185512564051
          ],
          [
           0.09951530841776426
          ],
          [
           0.10138333434447797
          ],
          [
           0.10187556372599128
          ],
          [
           0.10320989436296654
          ],
          [
           0.10383967220423267
          ],
          [
           0.10452986085025179
          ],
          [
           0.104889511299895
          ],
          [
           0.10565320199655895
          ],
          [
           0.10620378191797858
          ],
          [
           0.10621305473344272
          ],
          [
           0.10632650896367972
          ],
          [
           0.10666393750167755
          ],
          [
           0.10827213910216728
          ],
          [
           0.10827997856207797
          ],
          [
           0.10857860846234393
          ],
          [
           0.10878227344446745
          ],
          [
           0.10962126394346886
          ],
          [
           0.10973248950487058
          ],
          [
           0.11061897186735226
          ],
          [
           0.11084869680785205
          ],
          [
           0.11095628029651693
          ],
          [
           0.11095725190525665
          ],
          [
           0.11097060131898924
          ],
          [
           0.11191949203347122
          ],
          [
           0.11352309576833165
          ],
          [
           0.11369703720861828
          ],
          [
           0.11517248532680416
          ],
          [
           0.11544786679352469
          ],
          [
           0.1155565578118647
          ],
          [
           0.1164383407977239
          ],
          [
           0.11645588012666228
          ],
          [
           0.11704947687207926
          ],
          [
           0.11901133265903573
          ],
          [
           0.12013348829320748
          ],
          [
           0.12207910855134058
          ],
          [
           0.12295102421863802
          ],
          [
           0.12394489546408641
          ],
          [
           0.12492096923930952
          ],
          [
           0.12608365671321833
          ],
          [
           0.12622640277951622
          ],
          [
           0.12664043080693227
          ],
          [
           0.1282580242830222
          ],
          [
           0.1331020856033377
          ],
          [
           0.13473692302751605
          ],
          [
           0.13476343438098318
          ],
          [
           0.135841045530945
          ],
          [
           0.13598288771975273
          ],
          [
           0.13615325349060362
          ],
          [
           0.1362724542409871
          ],
          [
           0.13801824620224717
          ],
          [
           0.13848485071020017
          ],
          [
           0.14024158817858107
          ],
          [
           0.14264984537856604
          ],
          [
           0.14332015448776655
          ],
          [
           0.14440397000595276
          ],
          [
           0.14500302375392282
          ],
          [
           0.14833053878601965
          ],
          [
           0.1496283879752414
          ],
          [
           0.15049615512602263
          ],
          [
           0.15198423227187274
          ],
          [
           0.15227732784914594
          ],
          [
           0.15260059774151924
          ],
          [
           0.15314389446200322
          ],
          [
           0.15591724674821256
          ],
          [
           0.156353524452066
          ],
          [
           0.15830051294420372
          ],
          [
           0.15949454235475624
          ],
          [
           0.15970030356483653
          ],
          [
           0.16338035182478597
          ],
          [
           0.16397091914815484
          ],
          [
           0.16440273866473618
          ],
          [
           0.1654965246462647
          ],
          [
           0.16663169897238572
          ],
          [
           0.16936735642459505
          ],
          [
           0.1693824430556185
          ],
          [
           0.17118083224922814
          ],
          [
           0.17136212688957342
          ],
          [
           0.17328241681209197
          ],
          [
           0.1738127654090386
          ],
          [
           0.17413253318293193
          ],
          [
           0.1745040328843872
          ],
          [
           0.17665330654567557
          ],
          [
           0.17765767248122652
          ],
          [
           0.18108140834898642
          ],
          [
           0.18220781414095363
          ],
          [
           0.18352629319541847
          ],
          [
           0.1836100584458559
          ],
          [
           0.18365583475264788
          ],
          [
           0.18398414926782727
          ],
          [
           0.18399232088232276
          ],
          [
           0.1873836588260208
          ],
          [
           0.1877534460100201
          ],
          [
           0.18826214787196582
          ],
          [
           0.19029790162160462
          ],
          [
           0.1931389219584651
          ],
          [
           0.1938124842923022
          ],
          [
           0.19386706464157882
          ],
          [
           0.19408043697126118
          ],
          [
           0.19481482366136774
          ],
          [
           0.19632652826676458
          ],
          [
           0.19669412487374882
          ],
          [
           0.1995565739950789
          ],
          [
           0.2006605574049669
          ],
          [
           0.20084085641524088
          ],
          [
           0.20107113029925525
          ],
          [
           0.20207773024869094
          ],
          [
           0.20420204425732089
          ],
          [
           0.2045597379409595
          ],
          [
           0.20628991257957865
          ],
          [
           0.2079798128382278
          ],
          [
           0.2083498147069959
          ],
          [
           0.20937651188307244
          ],
          [
           0.20967261150506794
          ],
          [
           0.21036993454973618
          ],
          [
           0.21351123396635016
          ],
          [
           0.214784343354324
          ],
          [
           0.21542775716258727
          ],
          [
           0.2191094618426922
          ],
          [
           0.22317443010200969
          ],
          [
           0.22339022604231915
          ],
          [
           0.22346729178315664
          ],
          [
           0.22489035751174238
          ],
          [
           0.2287804522032711
          ],
          [
           0.23039038105783374
          ],
          [
           0.2359653935981903
          ],
          [
           0.23620945701127838
          ],
          [
           0.2370904900690071
          ],
          [
           0.23880213879543605
          ],
          [
           0.23959487801337145
          ],
          [
           0.24015447712004
          ],
          [
           0.2408387597380988
          ],
          [
           0.24094118604427198
          ],
          [
           0.24452151637255962
          ],
          [
           0.2446512332222059
          ],
          [
           0.24499547230607077
          ],
          [
           0.24684431630630926
          ],
          [
           0.2506264316875558
          ],
          [
           0.255527666640689
          ],
          [
           0.2573458166968329
          ],
          [
           0.25776860670838025
          ],
          [
           0.26191835661817264
          ],
          [
           0.26203549601090304
          ],
          [
           0.2630741239802514
          ],
          [
           0.2638835730699317
          ],
          [
           0.2639515509714319
          ],
          [
           0.26757092688966616
          ],
          [
           0.26814282353736163
          ],
          [
           0.2711773882749339
          ],
          [
           0.27255346308424344
          ],
          [
           0.2737734052283545
          ],
          [
           0.27478832304686635
          ],
          [
           0.2748237106348215
          ],
          [
           0.27552081734406386
          ],
          [
           0.2793963055936811
          ],
          [
           0.28009987745988196
          ],
          [
           0.28306402091934435
          ],
          [
           0.283180376159389
          ],
          [
           0.2844817795243783
          ],
          [
           0.28848713518632574
          ],
          [
           0.2972375459291347
          ],
          [
           0.29733365873545564
          ],
          [
           0.3039549472257703
          ],
          [
           0.30397169396957896
          ],
          [
           0.30461655699751566
          ],
          [
           0.3049864316278789
          ],
          [
           0.30581209009502325
          ],
          [
           0.31076228248072824
          ],
          [
           0.31863667575716426
          ],
          [
           0.3191343832605283
          ],
          [
           0.3257854732554649
          ],
          [
           0.3293909063767364
          ],
          [
           0.3310611419253684
          ],
          [
           0.3328941728438524
          ],
          [
           0.3334609635642325
          ],
          [
           0.33462219224586526
          ],
          [
           0.3354878810990253
          ],
          [
           0.33662396858962773
          ],
          [
           0.3385925429769394
          ],
          [
           0.3404976764164497
          ],
          [
           0.344217412745216
          ],
          [
           0.34692130823664163
          ],
          [
           0.3479949215907041
          ],
          [
           0.3506475058615568
          ],
          [
           0.35549828967868946
          ],
          [
           0.36017255054954916
          ],
          [
           0.3727393833730153
          ],
          [
           0.3731645677714531
          ],
          [
           0.3764759481505967
          ],
          [
           0.38196874265027986
          ],
          [
           0.38843913267315944
          ],
          [
           0.39217371275250124
          ],
          [
           0.3930342730791824
          ],
          [
           0.3969115657445103
          ],
          [
           0.399460902856082
          ],
          [
           0.4029216945640916
          ],
          [
           0.4046614059768549
          ],
          [
           0.4061105666946272
          ],
          [
           0.4098003984588252
          ],
          [
           0.4108545037904931
          ],
          [
           0.41384227206093227
          ],
          [
           0.4161099406435599
          ],
          [
           0.42160883770330704
          ],
          [
           0.4268421666119859
          ],
          [
           0.42848400671885556
          ],
          [
           0.43159361158052656
          ],
          [
           0.4361472961295694
          ],
          [
           0.43626476551385285
          ],
          [
           0.439318443938806
          ],
          [
           0.44367281130862596
          ],
          [
           0.4448721058844788
          ],
          [
           0.4478091229606556
          ],
          [
           0.4498301979449298
          ],
          [
           0.4543537245164917
          ],
          [
           0.45446646174919
          ],
          [
           0.4544671557338766
          ],
          [
           0.460971232263986
          ],
          [
           0.4619569005147541
          ],
          [
           0.47452297844383173
          ],
          [
           0.4816361053057112
          ],
          [
           0.4844829537920269
          ],
          [
           0.48587576908367425
          ],
          [
           0.48590649022885674
          ],
          [
           0.49860965461130835
          ],
          [
           0.5000505031273699
          ],
          [
           0.5082237791264907
          ],
          [
           0.5137160817947827
          ],
          [
           0.5140036684854674
          ],
          [
           0.5140925738915632
          ],
          [
           0.5206245909165794
          ],
          [
           0.5206921321870757
          ],
          [
           0.5294193459948605
          ],
          [
           0.5345388067380623
          ],
          [
           0.5408629056092668
          ],
          [
           0.5411724863513915
          ],
          [
           0.5435752121222422
          ],
          [
           0.5489757452914614
          ],
          [
           0.5509052079427451
          ],
          [
           0.5601358308855037
          ],
          [
           0.5604055821185101
          ],
          [
           0.5621153795933924
          ],
          [
           0.5687628528679879
          ],
          [
           0.5734449600915503
          ],
          [
           0.5751668247538889
          ],
          [
           0.575282670489869
          ],
          [
           0.577799707260668
          ],
          [
           0.5795604021127923
          ],
          [
           0.5844116890850278
          ],
          [
           0.5870561382968
          ],
          [
           0.5871141671503343
          ],
          [
           0.5959196046905592
          ],
          [
           0.5972315892659521
          ],
          [
           0.5973224886292143
          ],
          [
           0.6011991185058942
          ],
          [
           0.6038195695675819
          ],
          [
           0.6114258465448621
          ],
          [
           0.6120002103391529
          ],
          [
           0.6137450880158919
          ],
          [
           0.6193446807487133
          ],
          [
           0.631579946274032
          ],
          [
           0.6340965054596785
          ],
          [
           0.6341559096923287
          ],
          [
           0.6363136867644015
          ],
          [
           0.638194637947036
          ],
          [
           0.6382359518193398
          ],
          [
           0.6404113138192981
          ],
          [
           0.6406995899353229
          ],
          [
           0.6447470167294705
          ],
          [
           0.6457239062277713
          ],
          [
           0.6491155282675812
          ],
          [
           0.649190901937434
          ],
          [
           0.6537582252255487
          ],
          [
           0.6586800233508326
          ],
          [
           0.6663035917359912
          ],
          [
           0.668165188129223
          ],
          [
           0.6732434882061016
          ],
          [
           0.6736601655575052
          ],
          [
           0.6753775990357324
          ],
          [
           0.6854996317317427
          ],
          [
           0.6857960536921025
          ],
          [
           0.6858341252657931
          ],
          [
           0.693024622380145
          ],
          [
           0.6970334534020043
          ],
          [
           0.7055510496245578
          ],
          [
           0.7228846629350302
          ],
          [
           0.727222457839536
          ],
          [
           0.7372335062478655
          ],
          [
           0.7373947836428367
          ],
          [
           0.7396829920411885
          ],
          [
           0.7407082207396086
          ],
          [
           0.7459379631103726
          ],
          [
           0.7461069259288848
          ],
          [
           0.7488896938192199
          ],
          [
           0.7490707336473411
          ],
          [
           0.7583852991830634
          ],
          [
           0.7599385783835106
          ],
          [
           0.7636821681131771
          ],
          [
           0.7667493486548128
          ],
          [
           0.766942559906257
          ],
          [
           0.7738748875617132
          ],
          [
           0.7757927910654643
          ],
          [
           0.7800149957200458
          ],
          [
           0.7811617830107245
          ],
          [
           0.7835705615650064
          ],
          [
           0.7906561907743903
          ],
          [
           0.7927987851704908
          ],
          [
           0.794895716109509
          ],
          [
           0.7988771576674161
          ],
          [
           0.7989495106083269
          ],
          [
           0.8017124586882179
          ],
          [
           0.8023926005934265
          ],
          [
           0.8093565542100705
          ],
          [
           0.8271364375384851
          ],
          [
           0.8287801153480959
          ],
          [
           0.8342560554547177
          ],
          [
           0.8345520157899387
          ],
          [
           0.8476236134837968
          ],
          [
           0.8554224114561254
          ],
          [
           0.8563674614857391
          ],
          [
           0.8592560192932859
          ],
          [
           0.8599045950118652
          ],
          [
           0.8604724560438588
          ],
          [
           0.8706870584214744
          ],
          [
           0.8776299563857796
          ],
          [
           0.8901542421862545
          ],
          [
           0.8926482134003443
          ],
          [
           0.9106575391892597
          ],
          [
           0.9118953882741353
          ],
          [
           0.9170205366744388
          ],
          [
           0.918213030128414
          ],
          [
           0.9269677929039972
          ],
          [
           0.9272691552611282
          ],
          [
           0.9274741176844711
          ],
          [
           0.9357871634053903
          ],
          [
           0.9357885223982991
          ],
          [
           0.936204673065263
          ],
          [
           0.9379260019384503
          ],
          [
           0.939034258614412
          ],
          [
           0.9396180900909789
          ],
          [
           0.9397586012480129
          ],
          [
           0.9402933958588222
          ],
          [
           0.9425869940050088
          ],
          [
           0.9431009417181444
          ],
          [
           0.9432467163922179
          ],
          [
           0.9433152951831018
          ],
          [
           0.9457466801396935
          ],
          [
           0.9571370851826693
          ],
          [
           0.9591554216045748
          ],
          [
           0.9646076174017463
          ],
          [
           0.9668865339804567
          ],
          [
           0.9697401533765956
          ],
          [
           0.9705459424469072
          ],
          [
           0.9781542374656038
          ],
          [
           0.9805424493007061
          ],
          [
           0.9819312604914966
          ],
          [
           0.9837267985627353
          ],
          [
           0.9872150710065567
          ],
          [
           0.9943548926814626
          ],
          [
           0.9965537998210714
          ]
         ],
         "hovertemplate": "recall=%{x}<br>precision=%{y}<br>thresholds=%{customdata[0]}<extra></extra>",
         "legendgroup": "",
         "line": {
          "color": "#636efa",
          "dash": "solid"
         },
         "marker": {
          "symbol": "circle"
         },
         "mode": "lines",
         "name": "",
         "orientation": "v",
         "showlegend": false,
         "type": "scatter",
         "x": [
          1,
          0.9941860465116279,
          0.9941860465116279,
          0.9941860465116279,
          0.9941860465116279,
          0.9941860465116279,
          0.9941860465116279,
          0.9941860465116279,
          0.9941860465116279,
          0.9941860465116279,
          0.9941860465116279,
          0.9941860465116279,
          0.9941860465116279,
          0.9941860465116279,
          0.9941860465116279,
          0.9941860465116279,
          0.9941860465116279,
          0.9941860465116279,
          0.9941860465116279,
          0.9941860465116279,
          0.9941860465116279,
          0.9941860465116279,
          0.9941860465116279,
          0.9941860465116279,
          0.9941860465116279,
          0.9941860465116279,
          0.9941860465116279,
          0.9941860465116279,
          0.9941860465116279,
          0.9941860465116279,
          0.9941860465116279,
          0.9941860465116279,
          0.9941860465116279,
          0.9941860465116279,
          0.9941860465116279,
          0.9941860465116279,
          0.9941860465116279,
          0.9941860465116279,
          0.9941860465116279,
          0.9941860465116279,
          0.9941860465116279,
          0.9941860465116279,
          0.9941860465116279,
          0.9941860465116279,
          0.9941860465116279,
          0.9941860465116279,
          0.9941860465116279,
          0.9941860465116279,
          0.9941860465116279,
          0.9941860465116279,
          0.9941860465116279,
          0.9941860465116279,
          0.9941860465116279,
          0.9941860465116279,
          0.9941860465116279,
          0.9941860465116279,
          0.9941860465116279,
          0.9941860465116279,
          0.9941860465116279,
          0.9941860465116279,
          0.9941860465116279,
          0.9941860465116279,
          0.9941860465116279,
          0.9941860465116279,
          0.9941860465116279,
          0.9883720930232558,
          0.9883720930232558,
          0.9883720930232558,
          0.9883720930232558,
          0.9883720930232558,
          0.9883720930232558,
          0.9883720930232558,
          0.9883720930232558,
          0.9883720930232558,
          0.9883720930232558,
          0.9883720930232558,
          0.9883720930232558,
          0.9883720930232558,
          0.9883720930232558,
          0.9883720930232558,
          0.9883720930232558,
          0.9883720930232558,
          0.9883720930232558,
          0.9883720930232558,
          0.9883720930232558,
          0.9883720930232558,
          0.9883720930232558,
          0.9883720930232558,
          0.9883720930232558,
          0.9883720930232558,
          0.9883720930232558,
          0.9883720930232558,
          0.9883720930232558,
          0.9883720930232558,
          0.9883720930232558,
          0.9883720930232558,
          0.9883720930232558,
          0.9883720930232558,
          0.9883720930232558,
          0.9883720930232558,
          0.9883720930232558,
          0.9883720930232558,
          0.9883720930232558,
          0.9883720930232558,
          0.9883720930232558,
          0.9883720930232558,
          0.9883720930232558,
          0.9883720930232558,
          0.9883720930232558,
          0.9883720930232558,
          0.9883720930232558,
          0.9883720930232558,
          0.9883720930232558,
          0.9883720930232558,
          0.9883720930232558,
          0.9883720930232558,
          0.9883720930232558,
          0.9883720930232558,
          0.9883720930232558,
          0.9883720930232558,
          0.9883720930232558,
          0.9883720930232558,
          0.9883720930232558,
          0.9883720930232558,
          0.9883720930232558,
          0.9883720930232558,
          0.9883720930232558,
          0.9825581395348837,
          0.9825581395348837,
          0.9825581395348837,
          0.9825581395348837,
          0.9825581395348837,
          0.9825581395348837,
          0.9825581395348837,
          0.9825581395348837,
          0.9825581395348837,
          0.9825581395348837,
          0.9825581395348837,
          0.9825581395348837,
          0.9825581395348837,
          0.9825581395348837,
          0.9825581395348837,
          0.9825581395348837,
          0.9825581395348837,
          0.9825581395348837,
          0.9825581395348837,
          0.9825581395348837,
          0.9825581395348837,
          0.9825581395348837,
          0.9825581395348837,
          0.9825581395348837,
          0.9825581395348837,
          0.9825581395348837,
          0.9825581395348837,
          0.9825581395348837,
          0.9825581395348837,
          0.9825581395348837,
          0.9767441860465116,
          0.9767441860465116,
          0.9767441860465116,
          0.9767441860465116,
          0.9767441860465116,
          0.9767441860465116,
          0.9767441860465116,
          0.9767441860465116,
          0.9767441860465116,
          0.9767441860465116,
          0.9767441860465116,
          0.9767441860465116,
          0.9767441860465116,
          0.9767441860465116,
          0.9767441860465116,
          0.9767441860465116,
          0.9767441860465116,
          0.9767441860465116,
          0.9709302325581395,
          0.9709302325581395,
          0.9709302325581395,
          0.9709302325581395,
          0.9709302325581395,
          0.9709302325581395,
          0.9709302325581395,
          0.9709302325581395,
          0.9709302325581395,
          0.9709302325581395,
          0.9709302325581395,
          0.9709302325581395,
          0.9709302325581395,
          0.9709302325581395,
          0.9709302325581395,
          0.9709302325581395,
          0.9709302325581395,
          0.9709302325581395,
          0.9709302325581395,
          0.9709302325581395,
          0.9709302325581395,
          0.9709302325581395,
          0.9709302325581395,
          0.9709302325581395,
          0.9709302325581395,
          0.9709302325581395,
          0.9709302325581395,
          0.9709302325581395,
          0.9709302325581395,
          0.9709302325581395,
          0.9709302325581395,
          0.9709302325581395,
          0.9709302325581395,
          0.9709302325581395,
          0.9709302325581395,
          0.9709302325581395,
          0.9709302325581395,
          0.9709302325581395,
          0.9709302325581395,
          0.9709302325581395,
          0.9709302325581395,
          0.9709302325581395,
          0.9709302325581395,
          0.9709302325581395,
          0.9709302325581395,
          0.9709302325581395,
          0.9709302325581395,
          0.9709302325581395,
          0.9709302325581395,
          0.9709302325581395,
          0.9709302325581395,
          0.9709302325581395,
          0.9709302325581395,
          0.9709302325581395,
          0.9709302325581395,
          0.9709302325581395,
          0.9709302325581395,
          0.9709302325581395,
          0.9709302325581395,
          0.9709302325581395,
          0.9709302325581395,
          0.9709302325581395,
          0.9709302325581395,
          0.9709302325581395,
          0.9709302325581395,
          0.9651162790697675,
          0.9593023255813954,
          0.9534883720930233,
          0.9534883720930233,
          0.9534883720930233,
          0.9534883720930233,
          0.9534883720930233,
          0.9534883720930233,
          0.9534883720930233,
          0.9534883720930233,
          0.9534883720930233,
          0.9476744186046512,
          0.9418604651162791,
          0.9418604651162791,
          0.936046511627907,
          0.936046511627907,
          0.936046511627907,
          0.936046511627907,
          0.936046511627907,
          0.936046511627907,
          0.936046511627907,
          0.936046511627907,
          0.936046511627907,
          0.936046511627907,
          0.936046511627907,
          0.936046511627907,
          0.936046511627907,
          0.9302325581395349,
          0.9302325581395349,
          0.9302325581395349,
          0.9244186046511628,
          0.9244186046511628,
          0.9244186046511628,
          0.9244186046511628,
          0.9186046511627907,
          0.9127906976744186,
          0.9127906976744186,
          0.9127906976744186,
          0.9127906976744186,
          0.9127906976744186,
          0.9127906976744186,
          0.9127906976744186,
          0.9127906976744186,
          0.9069767441860465,
          0.9069767441860465,
          0.9069767441860465,
          0.9069767441860465,
          0.9069767441860465,
          0.9069767441860465,
          0.9011627906976745,
          0.9011627906976745,
          0.8953488372093024,
          0.8953488372093024,
          0.8895348837209303,
          0.8895348837209303,
          0.8895348837209303,
          0.8895348837209303,
          0.8837209302325582,
          0.877906976744186,
          0.877906976744186,
          0.877906976744186,
          0.877906976744186,
          0.872093023255814,
          0.8662790697674418,
          0.8604651162790697,
          0.8604651162790697,
          0.8604651162790697,
          0.8604651162790697,
          0.8604651162790697,
          0.8604651162790697,
          0.8546511627906976,
          0.8488372093023255,
          0.8488372093023255,
          0.8488372093023255,
          0.8430232558139535,
          0.8372093023255814,
          0.8372093023255814,
          0.8372093023255814,
          0.8372093023255814,
          0.8372093023255814,
          0.8313953488372093,
          0.8255813953488372,
          0.8255813953488372,
          0.8197674418604651,
          0.8197674418604651,
          0.813953488372093,
          0.8081395348837209,
          0.8023255813953488,
          0.8023255813953488,
          0.7965116279069767,
          0.7906976744186046,
          0.7906976744186046,
          0.7906976744186046,
          0.7790697674418605,
          0.7732558139534884,
          0.7674418604651163,
          0.7674418604651163,
          0.7616279069767442,
          0.7616279069767442,
          0.7558139534883721,
          0.75,
          0.7441860465116279,
          0.7383720930232558,
          0.7325581395348837,
          0.7267441860465116,
          0.7267441860465116,
          0.7209302325581395,
          0.7151162790697675,
          0.7093023255813954,
          0.7093023255813954,
          0.7034883720930233,
          0.6976744186046512,
          0.6918604651162791,
          0.686046511627907,
          0.686046511627907,
          0.686046511627907,
          0.6802325581395349,
          0.6744186046511628,
          0.6686046511627907,
          0.6627906976744186,
          0.6627906976744186,
          0.6569767441860465,
          0.6511627906976745,
          0.6453488372093024,
          0.6395348837209303,
          0.6337209302325582,
          0.627906976744186,
          0.627906976744186,
          0.622093023255814,
          0.6162790697674418,
          0.6104651162790697,
          0.6046511627906976,
          0.6046511627906976,
          0.5988372093023255,
          0.5930232558139535,
          0.5872093023255814,
          0.5813953488372093,
          0.5755813953488372,
          0.5697674418604651,
          0.5697674418604651,
          0.5697674418604651,
          0.5697674418604651,
          0.563953488372093,
          0.5581395348837209,
          0.5523255813953488,
          0.5465116279069767,
          0.5406976744186046,
          0.5348837209302325,
          0.5290697674418605,
          0.5232558139534884,
          0.5174418604651163,
          0.5174418604651163,
          0.5174418604651163,
          0.5116279069767442,
          0.5058139534883721,
          0.5,
          0.4941860465116279,
          0.4883720930232558,
          0.4883720930232558,
          0.48255813953488375,
          0.48255813953488375,
          0.47674418604651164,
          0.47093023255813954,
          0.46511627906976744,
          0.45930232558139533,
          0.45930232558139533,
          0.45348837209302323,
          0.4476744186046512,
          0.4418604651162791,
          0.436046511627907,
          0.43023255813953487,
          0.42441860465116277,
          0.4186046511627907,
          0.4127906976744186,
          0.4127906976744186,
          0.4069767441860465,
          0.4011627906976744,
          0.3953488372093023,
          0.38953488372093026,
          0.38372093023255816,
          0.37790697674418605,
          0.37209302325581395,
          0.36627906976744184,
          0.36046511627906974,
          0.3546511627906977,
          0.3488372093023256,
          0.3430232558139535,
          0.3372093023255814,
          0.3372093023255814,
          0.3313953488372093,
          0.32558139534883723,
          0.31976744186046513,
          0.313953488372093,
          0.3081395348837209,
          0.3023255813953488,
          0.29651162790697677,
          0.29069767441860467,
          0.28488372093023256,
          0.27906976744186046,
          0.27325581395348836,
          0.26744186046511625,
          0.2616279069767442,
          0.2558139534883721,
          0.25,
          0.25,
          0.2441860465116279,
          0.23837209302325582,
          0.23255813953488372,
          0.22674418604651161,
          0.22093023255813954,
          0.21511627906976744,
          0.20930232558139536,
          0.20348837209302326,
          0.19767441860465115,
          0.19186046511627908,
          0.18604651162790697,
          0.18023255813953487,
          0.1744186046511628,
          0.1744186046511628,
          0.1686046511627907,
          0.16279069767441862,
          0.1569767441860465,
          0.1511627906976744,
          0.14534883720930233,
          0.13953488372093023,
          0.13372093023255813,
          0.12790697674418605,
          0.12209302325581395,
          0.11627906976744186,
          0.11046511627906977,
          0.10465116279069768,
          0.09883720930232558,
          0.09302325581395349,
          0.0872093023255814,
          0.08139534883720931,
          0.0755813953488372,
          0.06976744186046512,
          0.06395348837209303,
          0.05813953488372093,
          0.05232558139534884,
          0.046511627906976744,
          0.040697674418604654,
          0.03488372093023256,
          0.029069767441860465,
          0.023255813953488372,
          0.01744186046511628,
          0.011627906976744186,
          0.005813953488372093
         ],
         "xaxis": "x",
         "y": [
          0.3510204081632653,
          0.3496932515337423,
          0.35040983606557374,
          0.351129363449692,
          0.35185185185185186,
          0.3525773195876289,
          0.35330578512396693,
          0.35403726708074534,
          0.35477178423236516,
          0.35550935550935553,
          0.35625,
          0.3569937369519833,
          0.3577405857740586,
          0.3584905660377358,
          0.3592436974789916,
          0.36,
          0.36075949367088606,
          0.36152219873150104,
          0.3622881355932203,
          0.3630573248407643,
          0.3638297872340426,
          0.3646055437100213,
          0.36538461538461536,
          0.36616702355460384,
          0.3669527896995708,
          0.36774193548387096,
          0.36853448275862066,
          0.3693304535637149,
          0.37012987012987014,
          0.37093275488069416,
          0.3717391304347826,
          0.37254901960784315,
          0.37336244541484714,
          0.3741794310722101,
          0.375,
          0.3758241758241758,
          0.3766519823788546,
          0.37748344370860926,
          0.37831858407079644,
          0.37915742793791574,
          0.38,
          0.38084632516703787,
          0.38169642857142855,
          0.3825503355704698,
          0.3834080717488789,
          0.3842696629213483,
          0.38513513513513514,
          0.3860045146726862,
          0.38687782805429866,
          0.3877551020408163,
          0.3886363636363636,
          0.3895216400911162,
          0.3904109589041096,
          0.391304347826087,
          0.3922018348623853,
          0.3931034482758621,
          0.39400921658986177,
          0.394919168591224,
          0.3958333333333333,
          0.39675174013921116,
          0.39767441860465114,
          0.3986013986013986,
          0.39953271028037385,
          0.40046838407494145,
          0.4014084507042254,
          0.4,
          0.4009433962264151,
          0.40189125295508277,
          0.4028436018957346,
          0.40380047505938244,
          0.40476190476190477,
          0.40572792362768495,
          0.40669856459330145,
          0.407673860911271,
          0.40865384615384615,
          0.40963855421686746,
          0.4106280193236715,
          0.4116222760290557,
          0.41262135922330095,
          0.41362530413625304,
          0.4146341463414634,
          0.4156479217603912,
          0.4166666666666667,
          0.4176904176904177,
          0.4187192118226601,
          0.41975308641975306,
          0.4207920792079208,
          0.4218362282878412,
          0.4228855721393035,
          0.4239401496259352,
          0.425,
          0.42606516290726815,
          0.4282115869017632,
          0.4292929292929293,
          0.43037974683544306,
          0.43147208121827413,
          0.43256997455470736,
          0.4336734693877551,
          0.43478260869565216,
          0.4358974358974359,
          0.4370179948586118,
          0.4381443298969072,
          0.4392764857881137,
          0.44041450777202074,
          0.44155844155844154,
          0.4427083333333333,
          0.44386422976501305,
          0.44502617801047123,
          0.4461942257217848,
          0.4473684210526316,
          0.44854881266490765,
          0.4497354497354497,
          0.4509283819628647,
          0.4521276595744681,
          0.4533333333333333,
          0.45454545454545453,
          0.45576407506702415,
          0.45698924731182794,
          0.4582210242587601,
          0.4594594594594595,
          0.46070460704607047,
          0.46195652173913043,
          0.46321525885558584,
          0.4644808743169399,
          0.4657534246575342,
          0.46703296703296704,
          0.46831955922865015,
          0.46685082872928174,
          0.46814404432132967,
          0.46944444444444444,
          0.47075208913649025,
          0.4720670391061452,
          0.4733893557422969,
          0.4747191011235955,
          0.476056338028169,
          0.4774011299435028,
          0.47875354107648727,
          0.48011363636363635,
          0.48148148148148145,
          0.4828571428571429,
          0.48424068767908307,
          0.48563218390804597,
          0.48703170028818443,
          0.4884393063583815,
          0.48985507246376814,
          0.49127906976744184,
          0.49271137026239065,
          0.49415204678362573,
          0.49560117302052786,
          0.4970588235294118,
          0.49852507374631266,
          0.5,
          0.5014836795252225,
          0.5029761904761905,
          0.5044776119402985,
          0.5059880239520959,
          0.5075075075075075,
          0.5060240963855421,
          0.5075528700906344,
          0.509090909090909,
          0.5106382978723404,
          0.5121951219512195,
          0.5137614678899083,
          0.5153374233128835,
          0.5169230769230769,
          0.5185185185185185,
          0.5201238390092879,
          0.5217391304347826,
          0.5233644859813084,
          0.525,
          0.5266457680250783,
          0.5283018867924528,
          0.5299684542586751,
          0.5316455696202531,
          0.5333333333333333,
          0.5318471337579618,
          0.5335463258785943,
          0.5352564102564102,
          0.5369774919614148,
          0.5387096774193548,
          0.540453074433657,
          0.5422077922077922,
          0.5439739413680782,
          0.545751633986928,
          0.5475409836065573,
          0.5493421052631579,
          0.5511551155115512,
          0.5529801324503312,
          0.5548172757475083,
          0.5566666666666666,
          0.5585284280936454,
          0.5604026845637584,
          0.5622895622895623,
          0.5641891891891891,
          0.5661016949152542,
          0.5680272108843537,
          0.5699658703071673,
          0.571917808219178,
          0.5738831615120275,
          0.5758620689655173,
          0.5778546712802768,
          0.5798611111111112,
          0.5818815331010453,
          0.583916083916084,
          0.5859649122807018,
          0.5880281690140845,
          0.5901060070671378,
          0.5921985815602837,
          0.594306049822064,
          0.5964285714285714,
          0.5985663082437276,
          0.6007194244604317,
          0.6028880866425993,
          0.605072463768116,
          0.6072727272727273,
          0.6094890510948905,
          0.6117216117216118,
          0.6139705882352942,
          0.6162361623616236,
          0.6185185185185185,
          0.620817843866171,
          0.6231343283582089,
          0.6254681647940075,
          0.6278195488721805,
          0.630188679245283,
          0.6325757575757576,
          0.6349809885931559,
          0.6374045801526718,
          0.6398467432950191,
          0.6423076923076924,
          0.6447876447876448,
          0.6472868217054264,
          0.6498054474708171,
          0.65234375,
          0.6549019607843137,
          0.65748031496063,
          0.6600790513833992,
          0.6626984126984127,
          0.6653386454183267,
          0.668,
          0.6666666666666666,
          0.6653225806451613,
          0.6639676113360324,
          0.6666666666666666,
          0.6693877551020408,
          0.6721311475409836,
          0.6748971193415638,
          0.6776859504132231,
          0.6804979253112033,
          0.6833333333333333,
          0.6861924686192469,
          0.6848739495798319,
          0.6835443037974683,
          0.6864406779661016,
          0.6851063829787234,
          0.688034188034188,
          0.6909871244635193,
          0.6939655172413793,
          0.696969696969697,
          0.7,
          0.7030567685589519,
          0.706140350877193,
          0.7092511013215859,
          0.7123893805309734,
          0.7155555555555555,
          0.71875,
          0.7219730941704036,
          0.7207207207207207,
          0.7239819004524887,
          0.7272727272727273,
          0.726027397260274,
          0.7293577981651376,
          0.7327188940092166,
          0.7361111111111112,
          0.7348837209302326,
          0.7336448598130841,
          0.7370892018779343,
          0.7405660377358491,
          0.7440758293838863,
          0.7476190476190476,
          0.7511961722488039,
          0.7548076923076923,
          0.7584541062801933,
          0.7572815533980582,
          0.7609756097560976,
          0.7647058823529411,
          0.7684729064039408,
          0.7722772277227723,
          0.7761194029850746,
          0.775,
          0.7788944723618091,
          0.7777777777777778,
          0.7817258883248731,
          0.7806122448979592,
          0.7846153846153846,
          0.788659793814433,
          0.7927461139896373,
          0.7916666666666666,
          0.7905759162303665,
          0.7947368421052632,
          0.798941798941799,
          0.8031914893617021,
          0.8021390374331551,
          0.8010752688172043,
          0.8,
          0.8043478260869565,
          0.8087431693989071,
          0.8131868131868132,
          0.8176795580110497,
          0.8222222222222222,
          0.8212290502793296,
          0.8202247191011236,
          0.8248587570621468,
          0.8295454545454546,
          0.8285714285714286,
          0.8275862068965517,
          0.8323699421965318,
          0.8372093023255814,
          0.8421052631578947,
          0.8470588235294118,
          0.8461538461538461,
          0.8452380952380952,
          0.8502994011976048,
          0.8493975903614458,
          0.8545454545454545,
          0.8536585365853658,
          0.852760736196319,
          0.8518518518518519,
          0.8571428571428571,
          0.85625,
          0.8553459119496856,
          0.8607594936708861,
          0.8662420382165605,
          0.864516129032258,
          0.8636363636363636,
          0.8627450980392157,
          0.868421052631579,
          0.8675496688741722,
          0.8733333333333333,
          0.87248322147651,
          0.8716216216216216,
          0.8707482993197279,
          0.8698630136986302,
          0.8689655172413793,
          0.8680555555555556,
          0.8741258741258742,
          0.8732394366197183,
          0.8723404255319149,
          0.8714285714285714,
          0.8776978417266187,
          0.8768115942028986,
          0.8759124087591241,
          0.875,
          0.8740740740740741,
          0.8805970149253731,
          0.8872180451127819,
          0.8863636363636364,
          0.8854961832061069,
          0.8846153846153846,
          0.8837209302325582,
          0.890625,
          0.889763779527559,
          0.8888888888888888,
          0.888,
          0.8870967741935484,
          0.8861788617886179,
          0.8852459016393442,
          0.8925619834710744,
          0.8916666666666667,
          0.8907563025210085,
          0.8898305084745762,
          0.8888888888888888,
          0.896551724137931,
          0.8956521739130435,
          0.8947368421052632,
          0.8938053097345132,
          0.8928571428571429,
          0.8918918918918919,
          0.8909090909090909,
          0.8990825688073395,
          0.9074074074074074,
          0.9158878504672897,
          0.9150943396226415,
          0.9142857142857143,
          0.9134615384615384,
          0.912621359223301,
          0.9117647058823529,
          0.9108910891089109,
          0.91,
          0.9090909090909091,
          0.9081632653061225,
          0.9175257731958762,
          0.9270833333333334,
          0.9263157894736842,
          0.925531914893617,
          0.9247311827956989,
          0.9239130434782609,
          0.9230769230769231,
          0.9333333333333333,
          0.9325842696629213,
          0.9431818181818182,
          0.9425287356321839,
          0.9418604651162791,
          0.9411764705882353,
          0.9404761904761905,
          0.9518072289156626,
          0.9512195121951219,
          0.9506172839506173,
          0.95,
          0.9493670886075949,
          0.9487179487179487,
          0.948051948051948,
          0.9473684210526315,
          0.9466666666666667,
          0.9594594594594594,
          0.958904109589041,
          0.9583333333333334,
          0.9577464788732394,
          0.9571428571428572,
          0.9565217391304348,
          0.9558823529411765,
          0.9552238805970149,
          0.9545454545454546,
          0.9538461538461539,
          0.953125,
          0.9523809523809523,
          0.9516129032258065,
          0.9508196721311475,
          0.9666666666666667,
          0.9661016949152542,
          0.9655172413793104,
          0.9649122807017544,
          0.9642857142857143,
          0.9636363636363636,
          0.9629629629629629,
          0.9622641509433962,
          0.9615384615384616,
          0.9607843137254902,
          0.96,
          0.9591836734693877,
          0.9583333333333334,
          0.9574468085106383,
          0.9565217391304348,
          0.9555555555555556,
          0.9772727272727273,
          0.9767441860465116,
          0.9761904761904762,
          0.975609756097561,
          0.975,
          0.9743589743589743,
          0.9736842105263158,
          0.972972972972973,
          0.9722222222222222,
          0.9714285714285714,
          0.9705882352941176,
          0.9696969696969697,
          0.96875,
          0.967741935483871,
          1,
          1,
          1,
          1,
          1,
          1,
          1,
          1,
          1,
          1,
          1,
          1,
          1,
          1,
          1,
          1,
          1,
          1,
          1,
          1,
          1,
          1,
          1,
          1,
          1,
          1,
          1,
          1,
          1,
          1
         ],
         "yaxis": "y"
        }
       ],
       "layout": {
        "height": 500,
        "legend": {
         "tracegroupgap": 0
        },
        "template": {
         "data": {
          "bar": [
           {
            "error_x": {
             "color": "#2a3f5f"
            },
            "error_y": {
             "color": "#2a3f5f"
            },
            "marker": {
             "line": {
              "color": "#E5ECF6",
              "width": 0.5
             },
             "pattern": {
              "fillmode": "overlay",
              "size": 10,
              "solidity": 0.2
             }
            },
            "type": "bar"
           }
          ],
          "barpolar": [
           {
            "marker": {
             "line": {
              "color": "#E5ECF6",
              "width": 0.5
             },
             "pattern": {
              "fillmode": "overlay",
              "size": 10,
              "solidity": 0.2
             }
            },
            "type": "barpolar"
           }
          ],
          "carpet": [
           {
            "aaxis": {
             "endlinecolor": "#2a3f5f",
             "gridcolor": "white",
             "linecolor": "white",
             "minorgridcolor": "white",
             "startlinecolor": "#2a3f5f"
            },
            "baxis": {
             "endlinecolor": "#2a3f5f",
             "gridcolor": "white",
             "linecolor": "white",
             "minorgridcolor": "white",
             "startlinecolor": "#2a3f5f"
            },
            "type": "carpet"
           }
          ],
          "choropleth": [
           {
            "colorbar": {
             "outlinewidth": 0,
             "ticks": ""
            },
            "type": "choropleth"
           }
          ],
          "contour": [
           {
            "colorbar": {
             "outlinewidth": 0,
             "ticks": ""
            },
            "colorscale": [
             [
              0,
              "#0d0887"
             ],
             [
              0.1111111111111111,
              "#46039f"
             ],
             [
              0.2222222222222222,
              "#7201a8"
             ],
             [
              0.3333333333333333,
              "#9c179e"
             ],
             [
              0.4444444444444444,
              "#bd3786"
             ],
             [
              0.5555555555555556,
              "#d8576b"
             ],
             [
              0.6666666666666666,
              "#ed7953"
             ],
             [
              0.7777777777777778,
              "#fb9f3a"
             ],
             [
              0.8888888888888888,
              "#fdca26"
             ],
             [
              1,
              "#f0f921"
             ]
            ],
            "type": "contour"
           }
          ],
          "contourcarpet": [
           {
            "colorbar": {
             "outlinewidth": 0,
             "ticks": ""
            },
            "type": "contourcarpet"
           }
          ],
          "heatmap": [
           {
            "colorbar": {
             "outlinewidth": 0,
             "ticks": ""
            },
            "colorscale": [
             [
              0,
              "#0d0887"
             ],
             [
              0.1111111111111111,
              "#46039f"
             ],
             [
              0.2222222222222222,
              "#7201a8"
             ],
             [
              0.3333333333333333,
              "#9c179e"
             ],
             [
              0.4444444444444444,
              "#bd3786"
             ],
             [
              0.5555555555555556,
              "#d8576b"
             ],
             [
              0.6666666666666666,
              "#ed7953"
             ],
             [
              0.7777777777777778,
              "#fb9f3a"
             ],
             [
              0.8888888888888888,
              "#fdca26"
             ],
             [
              1,
              "#f0f921"
             ]
            ],
            "type": "heatmap"
           }
          ],
          "heatmapgl": [
           {
            "colorbar": {
             "outlinewidth": 0,
             "ticks": ""
            },
            "colorscale": [
             [
              0,
              "#0d0887"
             ],
             [
              0.1111111111111111,
              "#46039f"
             ],
             [
              0.2222222222222222,
              "#7201a8"
             ],
             [
              0.3333333333333333,
              "#9c179e"
             ],
             [
              0.4444444444444444,
              "#bd3786"
             ],
             [
              0.5555555555555556,
              "#d8576b"
             ],
             [
              0.6666666666666666,
              "#ed7953"
             ],
             [
              0.7777777777777778,
              "#fb9f3a"
             ],
             [
              0.8888888888888888,
              "#fdca26"
             ],
             [
              1,
              "#f0f921"
             ]
            ],
            "type": "heatmapgl"
           }
          ],
          "histogram": [
           {
            "marker": {
             "pattern": {
              "fillmode": "overlay",
              "size": 10,
              "solidity": 0.2
             }
            },
            "type": "histogram"
           }
          ],
          "histogram2d": [
           {
            "colorbar": {
             "outlinewidth": 0,
             "ticks": ""
            },
            "colorscale": [
             [
              0,
              "#0d0887"
             ],
             [
              0.1111111111111111,
              "#46039f"
             ],
             [
              0.2222222222222222,
              "#7201a8"
             ],
             [
              0.3333333333333333,
              "#9c179e"
             ],
             [
              0.4444444444444444,
              "#bd3786"
             ],
             [
              0.5555555555555556,
              "#d8576b"
             ],
             [
              0.6666666666666666,
              "#ed7953"
             ],
             [
              0.7777777777777778,
              "#fb9f3a"
             ],
             [
              0.8888888888888888,
              "#fdca26"
             ],
             [
              1,
              "#f0f921"
             ]
            ],
            "type": "histogram2d"
           }
          ],
          "histogram2dcontour": [
           {
            "colorbar": {
             "outlinewidth": 0,
             "ticks": ""
            },
            "colorscale": [
             [
              0,
              "#0d0887"
             ],
             [
              0.1111111111111111,
              "#46039f"
             ],
             [
              0.2222222222222222,
              "#7201a8"
             ],
             [
              0.3333333333333333,
              "#9c179e"
             ],
             [
              0.4444444444444444,
              "#bd3786"
             ],
             [
              0.5555555555555556,
              "#d8576b"
             ],
             [
              0.6666666666666666,
              "#ed7953"
             ],
             [
              0.7777777777777778,
              "#fb9f3a"
             ],
             [
              0.8888888888888888,
              "#fdca26"
             ],
             [
              1,
              "#f0f921"
             ]
            ],
            "type": "histogram2dcontour"
           }
          ],
          "mesh3d": [
           {
            "colorbar": {
             "outlinewidth": 0,
             "ticks": ""
            },
            "type": "mesh3d"
           }
          ],
          "parcoords": [
           {
            "line": {
             "colorbar": {
              "outlinewidth": 0,
              "ticks": ""
             }
            },
            "type": "parcoords"
           }
          ],
          "pie": [
           {
            "automargin": true,
            "type": "pie"
           }
          ],
          "scatter": [
           {
            "fillpattern": {
             "fillmode": "overlay",
             "size": 10,
             "solidity": 0.2
            },
            "type": "scatter"
           }
          ],
          "scatter3d": [
           {
            "line": {
             "colorbar": {
              "outlinewidth": 0,
              "ticks": ""
             }
            },
            "marker": {
             "colorbar": {
              "outlinewidth": 0,
              "ticks": ""
             }
            },
            "type": "scatter3d"
           }
          ],
          "scattercarpet": [
           {
            "marker": {
             "colorbar": {
              "outlinewidth": 0,
              "ticks": ""
             }
            },
            "type": "scattercarpet"
           }
          ],
          "scattergeo": [
           {
            "marker": {
             "colorbar": {
              "outlinewidth": 0,
              "ticks": ""
             }
            },
            "type": "scattergeo"
           }
          ],
          "scattergl": [
           {
            "marker": {
             "colorbar": {
              "outlinewidth": 0,
              "ticks": ""
             }
            },
            "type": "scattergl"
           }
          ],
          "scattermapbox": [
           {
            "marker": {
             "colorbar": {
              "outlinewidth": 0,
              "ticks": ""
             }
            },
            "type": "scattermapbox"
           }
          ],
          "scatterpolar": [
           {
            "marker": {
             "colorbar": {
              "outlinewidth": 0,
              "ticks": ""
             }
            },
            "type": "scatterpolar"
           }
          ],
          "scatterpolargl": [
           {
            "marker": {
             "colorbar": {
              "outlinewidth": 0,
              "ticks": ""
             }
            },
            "type": "scatterpolargl"
           }
          ],
          "scatterternary": [
           {
            "marker": {
             "colorbar": {
              "outlinewidth": 0,
              "ticks": ""
             }
            },
            "type": "scatterternary"
           }
          ],
          "surface": [
           {
            "colorbar": {
             "outlinewidth": 0,
             "ticks": ""
            },
            "colorscale": [
             [
              0,
              "#0d0887"
             ],
             [
              0.1111111111111111,
              "#46039f"
             ],
             [
              0.2222222222222222,
              "#7201a8"
             ],
             [
              0.3333333333333333,
              "#9c179e"
             ],
             [
              0.4444444444444444,
              "#bd3786"
             ],
             [
              0.5555555555555556,
              "#d8576b"
             ],
             [
              0.6666666666666666,
              "#ed7953"
             ],
             [
              0.7777777777777778,
              "#fb9f3a"
             ],
             [
              0.8888888888888888,
              "#fdca26"
             ],
             [
              1,
              "#f0f921"
             ]
            ],
            "type": "surface"
           }
          ],
          "table": [
           {
            "cells": {
             "fill": {
              "color": "#EBF0F8"
             },
             "line": {
              "color": "white"
             }
            },
            "header": {
             "fill": {
              "color": "#C8D4E3"
             },
             "line": {
              "color": "white"
             }
            },
            "type": "table"
           }
          ]
         },
         "layout": {
          "annotationdefaults": {
           "arrowcolor": "#2a3f5f",
           "arrowhead": 0,
           "arrowwidth": 1
          },
          "autotypenumbers": "strict",
          "coloraxis": {
           "colorbar": {
            "outlinewidth": 0,
            "ticks": ""
           }
          },
          "colorscale": {
           "diverging": [
            [
             0,
             "#8e0152"
            ],
            [
             0.1,
             "#c51b7d"
            ],
            [
             0.2,
             "#de77ae"
            ],
            [
             0.3,
             "#f1b6da"
            ],
            [
             0.4,
             "#fde0ef"
            ],
            [
             0.5,
             "#f7f7f7"
            ],
            [
             0.6,
             "#e6f5d0"
            ],
            [
             0.7,
             "#b8e186"
            ],
            [
             0.8,
             "#7fbc41"
            ],
            [
             0.9,
             "#4d9221"
            ],
            [
             1,
             "#276419"
            ]
           ],
           "sequential": [
            [
             0,
             "#0d0887"
            ],
            [
             0.1111111111111111,
             "#46039f"
            ],
            [
             0.2222222222222222,
             "#7201a8"
            ],
            [
             0.3333333333333333,
             "#9c179e"
            ],
            [
             0.4444444444444444,
             "#bd3786"
            ],
            [
             0.5555555555555556,
             "#d8576b"
            ],
            [
             0.6666666666666666,
             "#ed7953"
            ],
            [
             0.7777777777777778,
             "#fb9f3a"
            ],
            [
             0.8888888888888888,
             "#fdca26"
            ],
            [
             1,
             "#f0f921"
            ]
           ],
           "sequentialminus": [
            [
             0,
             "#0d0887"
            ],
            [
             0.1111111111111111,
             "#46039f"
            ],
            [
             0.2222222222222222,
             "#7201a8"
            ],
            [
             0.3333333333333333,
             "#9c179e"
            ],
            [
             0.4444444444444444,
             "#bd3786"
            ],
            [
             0.5555555555555556,
             "#d8576b"
            ],
            [
             0.6666666666666666,
             "#ed7953"
            ],
            [
             0.7777777777777778,
             "#fb9f3a"
            ],
            [
             0.8888888888888888,
             "#fdca26"
            ],
            [
             1,
             "#f0f921"
            ]
           ]
          },
          "colorway": [
           "#636efa",
           "#EF553B",
           "#00cc96",
           "#ab63fa",
           "#FFA15A",
           "#19d3f3",
           "#FF6692",
           "#B6E880",
           "#FF97FF",
           "#FECB52"
          ],
          "font": {
           "color": "#2a3f5f"
          },
          "geo": {
           "bgcolor": "white",
           "lakecolor": "white",
           "landcolor": "#E5ECF6",
           "showlakes": true,
           "showland": true,
           "subunitcolor": "white"
          },
          "hoverlabel": {
           "align": "left"
          },
          "hovermode": "closest",
          "mapbox": {
           "style": "light"
          },
          "paper_bgcolor": "white",
          "plot_bgcolor": "#E5ECF6",
          "polar": {
           "angularaxis": {
            "gridcolor": "white",
            "linecolor": "white",
            "ticks": ""
           },
           "bgcolor": "#E5ECF6",
           "radialaxis": {
            "gridcolor": "white",
            "linecolor": "white",
            "ticks": ""
           }
          },
          "scene": {
           "xaxis": {
            "backgroundcolor": "#E5ECF6",
            "gridcolor": "white",
            "gridwidth": 2,
            "linecolor": "white",
            "showbackground": true,
            "ticks": "",
            "zerolinecolor": "white"
           },
           "yaxis": {
            "backgroundcolor": "#E5ECF6",
            "gridcolor": "white",
            "gridwidth": 2,
            "linecolor": "white",
            "showbackground": true,
            "ticks": "",
            "zerolinecolor": "white"
           },
           "zaxis": {
            "backgroundcolor": "#E5ECF6",
            "gridcolor": "white",
            "gridwidth": 2,
            "linecolor": "white",
            "showbackground": true,
            "ticks": "",
            "zerolinecolor": "white"
           }
          },
          "shapedefaults": {
           "line": {
            "color": "#2a3f5f"
           }
          },
          "ternary": {
           "aaxis": {
            "gridcolor": "white",
            "linecolor": "white",
            "ticks": ""
           },
           "baxis": {
            "gridcolor": "white",
            "linecolor": "white",
            "ticks": ""
           },
           "bgcolor": "#E5ECF6",
           "caxis": {
            "gridcolor": "white",
            "linecolor": "white",
            "ticks": ""
           }
          },
          "title": {
           "x": 0.05
          },
          "xaxis": {
           "automargin": true,
           "gridcolor": "white",
           "linecolor": "white",
           "ticks": "",
           "title": {
            "standoff": 15
           },
           "zerolinecolor": "white",
           "zerolinewidth": 2
          },
          "yaxis": {
           "automargin": true,
           "gridcolor": "white",
           "linecolor": "white",
           "ticks": "",
           "title": {
            "standoff": 15
           },
           "zerolinecolor": "white",
           "zerolinewidth": 2
          }
         }
        },
        "title": {
         "text": "Precision-Recall Curve"
        },
        "width": 1200,
        "xaxis": {
         "anchor": "y",
         "domain": [
          0,
          1
         ],
         "title": {
          "text": "recall"
         }
        },
        "yaxis": {
         "anchor": "x",
         "domain": [
          0,
          1
         ],
         "title": {
          "text": "precision"
         }
        }
       }
      }
     },
     "metadata": {},
     "output_type": "display_data"
    }
   ],
   "source": [
    "prec_c_1, rec_c_1, thresholds_c_1\n",
    "data = {\n",
    "    \"precision\": prec_c_1[:-1], \n",
    "    \"recall\": rec_c_1[:-1],\n",
    "    \"thresholds\": thresholds_c_1  \n",
    "}\n",
    "\n",
    "df_tresholds = pd.DataFrame(data)\n",
    "\n",
    "fig = px.line(\n",
    "    df_tresholds,\n",
    "    x=\"recall\",\n",
    "    y=\"precision\",\n",
    "    hover_data=[\"thresholds\"],\n",
    "    title=\"Precision-Recall Curve\",\n",
    "    width=1200,\n",
    "    height=500\n",
    ")\n",
    "\n",
    "fig.show()"
   ]
  },
  {
   "attachments": {},
   "cell_type": "markdown",
   "metadata": {},
   "source": [
    "Conclusion: with random_state = 10, we got precision = 95%, recall = 46%.\n",
    "An attempt to improve the model through the regularization coefficient was not successful. We need to try other training methods since we have just used the most basic one."
   ]
  }
 ],
 "metadata": {
  "kernelspec": {
   "display_name": "env",
   "language": "python",
   "name": "python3"
  },
  "language_info": {
   "codemirror_mode": {
    "name": "ipython",
    "version": 3
   },
   "file_extension": ".py",
   "mimetype": "text/x-python",
   "name": "python",
   "nbconvert_exporter": "python",
   "pygments_lexer": "ipython3",
   "version": "3.7.9"
  },
  "orig_nbformat": 4
 },
 "nbformat": 4,
 "nbformat_minor": 2
}
